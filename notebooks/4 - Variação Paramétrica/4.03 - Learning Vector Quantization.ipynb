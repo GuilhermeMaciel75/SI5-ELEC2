{
 "cells": [
  {
   "cell_type": "markdown",
   "metadata": {},
   "source": [
    "# **4.03 - Learning Vector Quantization (LVQ)**\n"
   ]
  },
  {
   "cell_type": "code",
   "execution_count": null,
   "metadata": {},
   "outputs": [],
   "source": [
    "# Bibliotecas Externas\n",
    "import os\n",
    "import warnings\n",
    "import pandas as pd\n",
    "\n",
    "# Ignorando Warnings\n",
    "warnings.filterwarnings(\"ignore\")\n",
    "\n",
    "# Bibliotecas Locais\n",
    "os.chdir(\"../..\")\n",
    "from lib import plots, runner, util\n",
    "\n",
    "# Definido Variáveis globais\n",
    "N_SPLITS = 5\n",
    "RANDOM_STATE = 51\n",
    "\n",
    "# Conjunto de treino\n",
    "X_train = pd.read_csv('./data/processed/X_train.csv')\n",
    "Y_train = pd.read_csv('./data/processed/Y_train.csv')\n",
    "\n",
    "Y_train['class'] = Y_train['class'].apply(lambda val: 1 if val == 'UP' else 0)\n",
    "\n",
    "# Conjunto de validação\n",
    "X_val = pd.read_csv('./data/processed/X_val.csv')\n",
    "Y_val = pd.read_csv('./data/processed/Y_val.csv')\n",
    "\n",
    "\n",
    "Y_val['class'] = Y_val['class'].apply(lambda val: 1 if val == 'UP' else 0)\n",
    "\n",
    "# Conjunto de teste\n",
    "X_test = pd.read_csv('./data/processed/X_test.csv')\n",
    "Y_test = pd.read_csv('./data/processed/Y_test.csv')\n",
    "\n",
    "Y_test['class'] = Y_test['class'].apply(lambda val: 1 if val == 'UP' else 0)"
   ]
  },
  {
   "cell_type": "markdown",
   "metadata": {},
   "source": [
    "## 1. Deifinição do Modelo"
   ]
  },
  {
   "cell_type": "code",
   "execution_count": null,
   "metadata": {},
   "outputs": [],
   "source": [
    "import numpy as np\n",
    "from sklearn.base import BaseEstimator, ClassifierMixin\n",
    "from random import randrange\n",
    "from math import sqrt\n",
    "\n",
    "\n",
    "# calculate the Euclidean distance between two vectors\n",
    "def euclidean_distance(row1, row2):\n",
    "    distance = 0.0\n",
    "    for i in range(len(row1)-1):\n",
    "        distance += (row1[i] - row2[i])**2\n",
    "    return sqrt(distance)\n",
    "\n",
    "# Locate the best matching unit\n",
    "def get_best_matching_unit(codebooks, test_row):\n",
    "    distances = list()\n",
    "    for codebook in codebooks:\n",
    "        dist = euclidean_distance(codebook, test_row)\n",
    "        distances.append((codebook, dist))\n",
    "    distances.sort(key=lambda tup: tup[1])\n",
    "    return distances[0][0]\n",
    "\n",
    "# Make a prediction with codebook vectors\n",
    "def predict(codebooks, test_row):\n",
    "    bmu = get_best_matching_unit(codebooks, test_row)\n",
    "    return bmu[-1]\n",
    "\n",
    "# Create a random codebook vector\n",
    "def random_codebook(train):\n",
    "    n_records = len(train)\n",
    "    n_features = len(train[0])\n",
    "    codebook = [train[randrange(n_records)][i] for i in range(n_features)]\n",
    "    return codebook\n",
    "\n",
    "# Train a set of codebook vectors\n",
    "def train_codebooks(train, n_codebooks, lrate, epochs):\n",
    "    codebooks = [random_codebook(train) for i in range(n_codebooks)]\n",
    "    for epoch in range(epochs):\n",
    "        rate = lrate * (1.0 - (epoch / float(epochs)))\n",
    "        for row in train:\n",
    "            bmu = get_best_matching_unit(codebooks, row)\n",
    "            for i in range(len(row)-1):\n",
    "                error = row[i] - bmu[i]\n",
    "                if bmu[-1] == row[-1]:\n",
    "                    bmu[i] += rate * error\n",
    "                else:\n",
    "                    bmu[i] -= rate * error\n",
    "    print(\"Fim do treinameno\")\n",
    "    return codebooks\n",
    "\n",
    "# LVQ Algorithm as a custom classifier\n",
    "class LVQClassifier(BaseEstimator, ClassifierMixin):\n",
    "    def __init__(self, n_codebooks=10, lrate=0.1, epochs=100):\n",
    "        self.n_codebooks = n_codebooks\n",
    "        self.lrate = lrate\n",
    "        self.epochs = epochs\n",
    "    \n",
    "    def fit(self, X, y):\n",
    "        # Combine features and labels\n",
    "        train = np.column_stack((X, y))\n",
    "        self.codebooks_ = train_codebooks(train, self.n_codebooks, self.lrate, self.epochs)\n",
    "        return self\n",
    "\n",
    "    def predict(self, X):\n",
    "        predictions = [predict(self.codebooks_, row) for row in X]\n",
    "        return np.array(predictions)\n",
    "    \n",
    "    def predict_proba(self, X):\n",
    "        # Return probabilities for each class. This is an approximation based on distance from codebooks.\n",
    "        probabilities = []\n",
    "        for row in X:\n",
    "            bmu = get_best_matching_unit(self.codebooks_, row)\n",
    "            class_label = bmu[-1]\n",
    "            # For simplicity, we will return a binary classification probability for each class\n",
    "            prob = [0.0, 0.0]  # Assuming binary classification\n",
    "            prob[class_label] = 1.0  # Fully confident in the class of the BMU\n",
    "            probabilities.append(prob)\n",
    "        return np.array(probabilities)\n",
    "\n",
    "    def decision_function(self, X):\n",
    "        # This function will return the distances to the codebooks, which can be used for decision making\n",
    "        distances = []\n",
    "        for row in X:\n",
    "            bmu = get_best_matching_unit(self.codebooks_, row)\n",
    "            dist = euclidean_distance(bmu, row)\n",
    "            distances.append(dist)\n",
    "        return np.array(distances)"
   ]
  },
  {
   "cell_type": "markdown",
   "metadata": {},
   "source": [
    "O LVQ é um algoritmo de aprendizado supervisionado que cria um conjunto de vetores de código (protótipos) que representam as diferentes classes nos dados. Assim, durante o treinamento, esses vetores de código são ajustados para se aproximarem dos pontos de dados da mesma classe e se afastarem dos pontos de dados de classes diferentes, gerando separações no espaço vetorial. Desse modo, na classificação, o novo ponto de dados é atribuído à classe do vetor de código mais próximo.\n"
   ]
  },
  {
   "cell_type": "markdown",
   "metadata": {},
   "source": [
    "## 2. Configuração de Hiperparâmetros\n"
   ]
  },
  {
   "cell_type": "code",
   "execution_count": 6,
   "metadata": {},
   "outputs": [],
   "source": [
    "param_distributions_lvq = {\n",
    "    'n_codebooks': [5, 10, 30, 50, 100],\n",
    "    'lrate': [0.01, 0.05, 0.1, 0.5],\n",
    "    'epochs': [2, 20, 50, 100]\n",
    "}"
   ]
  },
  {
   "cell_type": "markdown",
   "metadata": {},
   "source": [
    "Para o LVQ avaliamos os seguintes hiperparâmetros: n_codebooks, learn_rate e n_epochs. A primeira permite a variação do número de protótipos entre 5 e 30 permite explorar diferentes níveis de complexidade na representação das classes, adaptando o modelo à estrutura dos dados. Um número insuficiente de protótipos pode levar à simplificação excessiva e underfitting, enquanto um número excessivo pode resultar em overfitting, daí a necessidade de um intervalo que abranja diversas possibilidades.\n",
    "\n",
    "Já a taxa de aprendizado (learn_rate), variando de 0.01 a 0.5, controla a magnitude das atualizações dos protótipos durante o treinamento. Taxas de aprendizado muito baixas podem tornar o treinamento lento e dificultar a convergência, enquanto taxas muito altas podem levar a oscilações e instabilidade.\n",
    "\n",
    "Por fim, o número de épocas (n_epochs), variando de 10 a 100, define o número de iterações completas sobre o conjunto de treinamento. Um número insuficiente de épocas pode impedir que o modelo convirja, enquanto um número excessivo pode levar a overfitting. Assim, o intervalo escolhido permite explorar diferentes durações de treinamento, adaptando-se à complexidade dos dados e à velocidade de convergência do modelo."
   ]
  },
  {
   "cell_type": "markdown",
   "metadata": {},
   "source": [
    "## 3. Avaliação do Modelo\n",
    "\n",
    "O Modelo **LVQ** foi configurado com os melhores parâmetros possíveis para a nossa bancada de testes. Por ter sido um algoritmo que utilizou a implementação feita em sala, ele não possuía um tempo de treinamento adequado, fazendo com que quanto mais aumentássemos os notebooks e as épocas, maior seria o tempo de treinamento. Ele foi o modelo que mais demorou na bancada de testes, cerca de 12 horas, com isso não conseguimos trabalhar em uma maior variedade de hiperparâmetros. No geral, o modelo não apresentou resultados muito positivos, sendo o pior modelo testado nessa bateria de testes\n",
    "\n",
    "**Curva ROC e Matriz de Confusão:**\n",
    "\n",
    "A análise da curva ROC e da matriz de confusão revela um pouco abaixo do modelo. A curva ROC mostra que o modelo com o melhor valor de AUC (área sob a curva) supera significativamente a média dos modelos e o modelo aleatório, evidenciando uma boa capacidade de discriminação entre as classes para essa combinação de hiperparâmetros, demonstrando como ela foi efetiva. A matriz de confusão, por outro lado, indica que o modelo é eficaz em prever a classe DOWN (negativa), com um bom número de acertos (1844), mas ainda apresenta uma quantidade considerável de falsos positivos (633). Para a classe UP (positiva), o modelo acerta 1127 previsões, mas comete 580 falsos negativos, sugerindo que há espaço para melhorias, especialmente na identificação correta da classe UP.\n",
    "\n",
    "**Métricas de Desempenho entre os modelos:**\n",
    "\n",
    "Nos gráficos apresentados, o primeiro demonstra que o melhor modelo supera significativamente a média de todos os outros, com todos os valores das métricas do melhor modelo sendo superiores aos da média. Isso sugere que como a busca de hiperparâmetros foi eficaz, produzindo um modelo mais assertivo, ainda que com um desempenho não tão alto, evidenciando a dificuldade do algoritmo para essa base de dados.\n",
    "\n",
    "O segundo gráfico compara o desempenho das métricas ao longo de diferentes modelos. Nele, observa-se uma variação significativa, especialmente em **f1_score** e **recall**, indicando que, em certos modelos, o equilíbrio entre acurácia e capacidade de identificar positivos pode ser desafiador. Ainda assim, esses resultados devem ser considerados anôma-los, provavelmente devido a algum problema na implementação no preditor do algoritmo, que levou a valores como 0.\n",
    "\n",
    "**Desempenho Cross Validation:**\n",
    "\n",
    "O gráfico mostra o desempenho do modelo de Learning Vector Quantization (LVQ) durante a validação cruzada, comparando o desempenho entre os conjuntos de treino e teste ao longo de cinco divisões (splits). A linha vermelha, que representa o desempenho no conjunto de treino, exibe flutuações ao longo dos splits. Isso sugere que o modelo tem um bom desempenho nos dados de treino, mas a diferença em relação à linha azul (desempenho no teste) indica que o modelo pode estar começando a overfitar, ou seja, ele aprende excessivamente os dados de treino e perde capacidade de generalização para os dados não vistos. \n",
    "\n",
    "**Métricas do Melhor modelo:**\n",
    "\n",
    "| Métrica | Melhor Valor Geral | Média | Desvio Padrão | Valor no Modelo Selecionado |\n",
    "| --- | --- | --- | --- | --- |\n",
    "| **Accuracy Train** | 0.7116 | 0.6495 | 0.0476 | **0.7116** |\n",
    "| **Accuracy Val** | 0.7083 | 0.6448 | 0.0480 | **0.7083** |\n",
    "| **Accuracy Test** | 0.7101 | 0.6506 | 0.0426 | **0.7101** |\n",
    "| **F1 Score** | 0.6501 | 0.4376 | 0.2315 | **0.6501** |\n",
    "| **AUC** | 0.7023 | 0.6129 | 0.0696 | **0.7023** |\n",
    "| **Recall** | 0.6602 | 0.4080 | 0.2294 | 0.6602 |\n",
    "\n",
    "**Melhor Combinação de Hiperparâmetros:**\n",
    "\n",
    "```python\n",
    "{'epochs': 100, \n",
    " 'lrate': 0.05, \n",
    " 'n_codebooks': 100}\n",
    "```\n"
   ]
  },
  {
   "cell_type": "code",
   "execution_count": null,
   "metadata": {},
   "outputs": [
    {
     "name": "stderr",
     "output_type": "stream",
     "text": [
      "Realizando a Busca de Parâmetros por 20 iterações:   0%|          | 0/20 [00:00<?, ?it/s]"
     ]
    },
    {
     "name": "stdout",
     "output_type": "stream",
     "text": [
      "Fim do treinameno\n",
      "Fim do treinameno\n",
      "Fim do treinameno\n",
      "Fim do treinameno\n",
      "Fim do treinameno\n",
      "Fim do treinameno\n",
      "Fim do treinameno\n",
      "Fim do treinameno\n",
      "Fim do treinameno\n",
      "Fim do treinameno\n",
      "Fim do treinameno\n",
      "Fim do treinameno\n",
      "Fim do treinameno\n",
      "Fim do treinameno\n",
      "Fim do treinameno\n",
      "Fim do treinameno\n",
      "Fim do treinameno\n",
      "Fim do treinameno\n",
      "Fim do treinameno\n",
      "Fim do treinameno\n",
      "Fim do treinameno\n",
      "Fim do treinameno\n",
      "Fim do treinameno\n",
      "Fim do treinameno\n",
      "Fim do treinameno\n",
      "Fim do treinameno\n",
      "Fim do treinameno\n",
      "Fim do treinameno\n",
      "Fim do treinameno\n",
      "Fim do treinameno\n",
      "Fim do treinameno\n",
      "Fim do treinameno\n",
      "Fim do treinameno\n",
      "Fim do treinameno\n",
      "Fim do treinameno\n",
      "Fim do treinameno\n",
      "Fim do treinameno\n",
      "Fim do treinameno\n",
      "Fim do treinameno\n",
      "Fim do treinameno\n",
      "Fim do treinameno\n",
      "Fim do treinameno\n",
      "Fim do treinameno\n",
      "Fim do treinameno\n",
      "Fim do treinameno\n",
      "Fim do treinameno\n",
      "Fim do treinameno\n",
      "Fim do treinameno\n",
      "Fim do treinameno\n",
      "Fim do treinameno\n",
      "Fim do treinameno\n",
      "Fim do treinameno\n",
      "Fim do treinameno\n",
      "Fim do treinameno\n",
      "Fim do treinameno\n",
      "Fim do treinameno\n",
      "Fim do treinameno\n",
      "Fim do treinameno\n",
      "Fim do treinameno\n",
      "Fim do treinameno\n",
      "Fim do treinameno\n",
      "Fim do treinameno\n",
      "Fim do treinameno\n",
      "Fim do treinameno\n",
      "Fim do treinameno\n",
      "Fim do treinameno\n",
      "Fim do treinameno\n",
      "Fim do treinameno\n",
      "Fim do treinameno\n",
      "Fim do treinameno\n",
      "Fim do treinameno\n",
      "Fim do treinameno\n",
      "Fim do treinameno\n",
      "Fim do treinameno\n",
      "Fim do treinameno\n",
      "Fim do treinameno\n",
      "Fim do treinameno\n",
      "Fim do treinameno\n",
      "Fim do treinameno\n",
      "Fim do treinameno\n",
      "Fim do treinameno\n",
      "Fim do treinameno\n",
      "Fim do treinameno\n",
      "Fim do treinameno\n",
      "Fim do treinameno\n",
      "Fim do treinameno\n",
      "Fim do treinameno\n",
      "Fim do treinameno\n",
      "Fim do treinameno\n",
      "Fim do treinameno\n",
      "Fim do treinameno\n",
      "Fim do treinameno\n",
      "Fim do treinameno\n",
      "Fim do treinameno\n",
      "Fim do treinameno\n",
      "Fim do treinameno\n",
      "Fim do treinameno\n",
      "Fim do treinameno\n",
      "Fim do treinameno\n",
      "Fim do treinameno\n",
      "Fim do treinameno\n"
     ]
    },
    {
     "name": "stderr",
     "output_type": "stream",
     "text": [
      "Realizando a Busca de Parâmetros por 20 iterações:   5%|▌         | 1/20 [45:19<14:21:16, 2719.82s/it]"
     ]
    },
    {
     "name": "stdout",
     "output_type": "stream",
     "text": [
      "Fim do treinameno\n",
      "Fim do treinameno\n",
      "Fim do treinameno\n",
      "Fim do treinameno\n",
      "Fim do treinameno\n",
      "Fim do treinameno\n",
      "Fim do treinameno\n",
      "Fim do treinameno\n",
      "Fim do treinameno\n",
      "Fim do treinameno\n",
      "Fim do treinameno\n",
      "Fim do treinameno\n",
      "Fim do treinameno\n",
      "Fim do treinameno\n",
      "Fim do treinameno\n",
      "Fim do treinameno\n",
      "Fim do treinameno\n",
      "Fim do treinameno\n",
      "Fim do treinameno\n",
      "Fim do treinameno\n",
      "Fim do treinameno\n",
      "Fim do treinameno\n",
      "Fim do treinameno\n",
      "Fim do treinameno\n",
      "Fim do treinameno\n",
      "Fim do treinameno\n",
      "Fim do treinameno\n",
      "Fim do treinameno\n",
      "Fim do treinameno\n",
      "Fim do treinameno\n",
      "Fim do treinameno\n",
      "Fim do treinameno\n",
      "Fim do treinameno\n",
      "Fim do treinameno\n",
      "Fim do treinameno\n",
      "Fim do treinameno\n",
      "Fim do treinameno\n",
      "Fim do treinameno\n",
      "Fim do treinameno\n",
      "Fim do treinameno\n",
      "Fim do treinameno\n",
      "Fim do treinameno\n",
      "Fim do treinameno\n",
      "Fim do treinameno\n",
      "Fim do treinameno\n",
      "Fim do treinameno\n",
      "Fim do treinameno\n",
      "Fim do treinameno\n",
      "Fim do treinameno\n",
      "Fim do treinameno\n",
      "Fim do treinameno\n",
      "Fim do treinameno\n",
      "Fim do treinameno\n",
      "Fim do treinameno\n",
      "Fim do treinameno\n",
      "Fim do treinameno\n",
      "Fim do treinameno\n",
      "Fim do treinameno\n",
      "Fim do treinameno\n",
      "Fim do treinameno\n",
      "Fim do treinameno\n",
      "Fim do treinameno\n",
      "Fim do treinameno\n",
      "Fim do treinameno\n",
      "Fim do treinameno\n",
      "Fim do treinameno\n",
      "Fim do treinameno\n",
      "Fim do treinameno\n",
      "Fim do treinameno\n",
      "Fim do treinameno\n",
      "Fim do treinameno\n",
      "Fim do treinameno\n",
      "Fim do treinameno\n",
      "Fim do treinameno\n",
      "Fim do treinameno\n",
      "Fim do treinameno\n",
      "Fim do treinameno\n",
      "Fim do treinameno\n",
      "Fim do treinameno\n",
      "Fim do treinameno\n",
      "Fim do treinameno\n",
      "Fim do treinameno\n",
      "Fim do treinameno\n",
      "Fim do treinameno\n",
      "Fim do treinameno\n",
      "Fim do treinameno\n",
      "Fim do treinameno\n",
      "Fim do treinameno\n",
      "Fim do treinameno\n",
      "Fim do treinameno\n",
      "Fim do treinameno\n",
      "Fim do treinameno\n",
      "Fim do treinameno\n",
      "Fim do treinameno\n",
      "Fim do treinameno\n",
      "Fim do treinameno\n",
      "Fim do treinameno\n",
      "Fim do treinameno\n",
      "Fim do treinameno\n",
      "Fim do treinameno\n",
      "Fim do treinameno\n"
     ]
    },
    {
     "name": "stderr",
     "output_type": "stream",
     "text": [
      "Realizando a Busca de Parâmetros por 20 iterações:  10%|█         | 2/20 [1:22:22<12:08:11, 2427.33s/it]"
     ]
    },
    {
     "name": "stdout",
     "output_type": "stream",
     "text": [
      "Fim do treinameno\n",
      "Fim do treinameno\n",
      "Fim do treinameno\n",
      "Fim do treinameno\n",
      "Fim do treinameno\n",
      "Fim do treinameno\n",
      "Fim do treinameno\n",
      "Fim do treinameno\n",
      "Fim do treinameno\n",
      "Fim do treinameno\n",
      "Fim do treinameno\n",
      "Fim do treinameno\n",
      "Fim do treinameno\n",
      "Fim do treinameno\n",
      "Fim do treinameno\n",
      "Fim do treinameno\n",
      "Fim do treinameno\n",
      "Fim do treinameno\n",
      "Fim do treinameno\n",
      "Fim do treinameno\n",
      "Fim do treinameno\n",
      "Fim do treinameno\n",
      "Fim do treinameno\n",
      "Fim do treinameno\n",
      "Fim do treinameno\n",
      "Fim do treinameno\n",
      "Fim do treinameno\n",
      "Fim do treinameno\n",
      "Fim do treinameno\n",
      "Fim do treinameno\n",
      "Fim do treinameno\n",
      "Fim do treinameno\n",
      "Fim do treinameno\n",
      "Fim do treinameno\n",
      "Fim do treinameno\n",
      "Fim do treinameno\n",
      "Fim do treinameno\n",
      "Fim do treinameno\n",
      "Fim do treinameno\n",
      "Fim do treinameno\n",
      "Fim do treinameno\n",
      "Fim do treinameno\n",
      "Fim do treinameno\n",
      "Fim do treinameno\n",
      "Fim do treinameno\n",
      "Fim do treinameno\n",
      "Fim do treinameno\n",
      "Fim do treinameno\n",
      "Fim do treinameno\n",
      "Fim do treinameno\n",
      "Fim do treinameno\n",
      "Fim do treinameno\n",
      "Fim do treinameno\n",
      "Fim do treinameno\n",
      "Fim do treinameno\n",
      "Fim do treinameno\n",
      "Fim do treinameno\n",
      "Fim do treinameno\n",
      "Fim do treinameno\n",
      "Fim do treinameno\n",
      "Fim do treinameno\n",
      "Fim do treinameno\n",
      "Fim do treinameno\n",
      "Fim do treinameno\n",
      "Fim do treinameno\n",
      "Fim do treinameno\n",
      "Fim do treinameno\n",
      "Fim do treinameno\n",
      "Fim do treinameno\n",
      "Fim do treinameno\n",
      "Fim do treinameno\n",
      "Fim do treinameno\n",
      "Fim do treinameno\n",
      "Fim do treinameno\n",
      "Fim do treinameno\n",
      "Fim do treinameno\n",
      "Fim do treinameno\n",
      "Fim do treinameno\n",
      "Fim do treinameno\n",
      "Fim do treinameno\n",
      "Fim do treinameno\n",
      "Fim do treinameno\n",
      "Fim do treinameno\n",
      "Fim do treinameno\n",
      "Fim do treinameno\n",
      "Fim do treinameno\n",
      "Fim do treinameno\n",
      "Fim do treinameno\n",
      "Fim do treinameno\n",
      "Fim do treinameno\n",
      "Fim do treinameno\n",
      "Fim do treinameno\n",
      "Fim do treinameno\n",
      "Fim do treinameno\n",
      "Fim do treinameno\n",
      "Fim do treinameno\n",
      "Fim do treinameno\n",
      "Fim do treinameno\n",
      "Fim do treinameno\n",
      "Fim do treinameno\n",
      "Fim do treinameno\n"
     ]
    },
    {
     "name": "stderr",
     "output_type": "stream",
     "text": [
      "Realizando a Busca de Parâmetros por 20 iterações:  15%|█▌        | 3/20 [1:44:34<9:06:01, 1927.13s/it] "
     ]
    },
    {
     "name": "stdout",
     "output_type": "stream",
     "text": [
      "Fim do treinameno\n",
      "Fim do treinameno\n",
      "Fim do treinameno\n",
      "Fim do treinameno\n",
      "Fim do treinameno\n",
      "Fim do treinameno\n",
      "Fim do treinameno\n",
      "Fim do treinameno\n",
      "Fim do treinameno\n",
      "Fim do treinameno\n",
      "Fim do treinameno\n",
      "Fim do treinameno\n",
      "Fim do treinameno\n",
      "Fim do treinameno\n",
      "Fim do treinameno\n",
      "Fim do treinameno\n",
      "Fim do treinameno\n",
      "Fim do treinameno\n",
      "Fim do treinameno\n",
      "Fim do treinameno\n",
      "Fim do treinameno\n",
      "Fim do treinameno\n",
      "Fim do treinameno\n",
      "Fim do treinameno\n",
      "Fim do treinameno\n",
      "Fim do treinameno\n",
      "Fim do treinameno\n",
      "Fim do treinameno\n",
      "Fim do treinameno\n",
      "Fim do treinameno\n",
      "Fim do treinameno\n",
      "Fim do treinameno\n",
      "Fim do treinameno\n",
      "Fim do treinameno\n",
      "Fim do treinameno\n",
      "Fim do treinameno\n",
      "Fim do treinameno\n",
      "Fim do treinameno\n",
      "Fim do treinameno\n",
      "Fim do treinameno\n",
      "Fim do treinameno\n",
      "Fim do treinameno\n",
      "Fim do treinameno\n",
      "Fim do treinameno\n",
      "Fim do treinameno\n",
      "Fim do treinameno\n",
      "Fim do treinameno\n",
      "Fim do treinameno\n",
      "Fim do treinameno\n",
      "Fim do treinameno\n",
      "Fim do treinameno\n",
      "Fim do treinameno\n",
      "Fim do treinameno\n",
      "Fim do treinameno\n",
      "Fim do treinameno\n",
      "Fim do treinameno\n",
      "Fim do treinameno\n",
      "Fim do treinameno\n",
      "Fim do treinameno\n",
      "Fim do treinameno\n",
      "Fim do treinameno\n",
      "Fim do treinameno\n",
      "Fim do treinameno\n",
      "Fim do treinameno\n",
      "Fim do treinameno\n",
      "Fim do treinameno\n",
      "Fim do treinameno\n",
      "Fim do treinameno\n",
      "Fim do treinameno\n",
      "Fim do treinameno\n",
      "Fim do treinameno\n",
      "Fim do treinameno\n",
      "Fim do treinameno\n",
      "Fim do treinameno\n",
      "Fim do treinameno\n",
      "Fim do treinameno\n",
      "Fim do treinameno\n",
      "Fim do treinameno\n",
      "Fim do treinameno\n",
      "Fim do treinameno\n",
      "Fim do treinameno\n",
      "Fim do treinameno\n",
      "Fim do treinameno\n",
      "Fim do treinameno\n",
      "Fim do treinameno\n",
      "Fim do treinameno\n",
      "Fim do treinameno\n",
      "Fim do treinameno\n",
      "Fim do treinameno\n",
      "Fim do treinameno\n",
      "Fim do treinameno\n",
      "Fim do treinameno\n",
      "Fim do treinameno\n",
      "Fim do treinameno\n",
      "Fim do treinameno\n",
      "Fim do treinameno\n",
      "Fim do treinameno\n",
      "Fim do treinameno\n",
      "Fim do treinameno\n",
      "Fim do treinameno\n",
      "Fim do treinameno\n"
     ]
    },
    {
     "name": "stderr",
     "output_type": "stream",
     "text": [
      "Realizando a Busca de Parâmetros por 20 iterações:  20%|██        | 4/20 [2:04:37<7:17:43, 1641.49s/it]"
     ]
    },
    {
     "name": "stdout",
     "output_type": "stream",
     "text": [
      "Fim do treinameno\n",
      "Fim do treinameno\n",
      "Fim do treinameno\n",
      "Fim do treinameno\n",
      "Fim do treinameno\n",
      "Fim do treinameno\n",
      "Fim do treinameno\n",
      "Fim do treinameno\n",
      "Fim do treinameno\n",
      "Fim do treinameno\n",
      "Fim do treinameno\n",
      "Fim do treinameno\n",
      "Fim do treinameno\n",
      "Fim do treinameno\n",
      "Fim do treinameno\n",
      "Fim do treinameno\n",
      "Fim do treinameno\n",
      "Fim do treinameno\n",
      "Fim do treinameno\n",
      "Fim do treinameno\n",
      "Fim do treinameno\n",
      "Fim do treinameno\n",
      "Fim do treinameno\n",
      "Fim do treinameno\n",
      "Fim do treinameno\n",
      "Fim do treinameno\n",
      "Fim do treinameno\n",
      "Fim do treinameno\n",
      "Fim do treinameno\n",
      "Fim do treinameno\n",
      "Fim do treinameno\n",
      "Fim do treinameno\n",
      "Fim do treinameno\n",
      "Fim do treinameno\n",
      "Fim do treinameno\n",
      "Fim do treinameno\n",
      "Fim do treinameno\n",
      "Fim do treinameno\n",
      "Fim do treinameno\n",
      "Fim do treinameno\n",
      "Fim do treinameno\n",
      "Fim do treinameno\n",
      "Fim do treinameno\n",
      "Fim do treinameno\n",
      "Fim do treinameno\n",
      "Fim do treinameno\n",
      "Fim do treinameno\n",
      "Fim do treinameno\n",
      "Fim do treinameno\n",
      "Fim do treinameno\n",
      "Fim do treinameno\n",
      "Fim do treinameno\n",
      "Fim do treinameno\n",
      "Fim do treinameno\n",
      "Fim do treinameno\n",
      "Fim do treinameno\n",
      "Fim do treinameno\n",
      "Fim do treinameno\n",
      "Fim do treinameno\n",
      "Fim do treinameno\n",
      "Fim do treinameno\n",
      "Fim do treinameno\n",
      "Fim do treinameno\n",
      "Fim do treinameno\n",
      "Fim do treinameno\n",
      "Fim do treinameno\n",
      "Fim do treinameno\n",
      "Fim do treinameno\n",
      "Fim do treinameno\n",
      "Fim do treinameno\n",
      "Fim do treinameno\n",
      "Fim do treinameno\n",
      "Fim do treinameno\n",
      "Fim do treinameno\n",
      "Fim do treinameno\n",
      "Fim do treinameno\n",
      "Fim do treinameno\n",
      "Fim do treinameno\n",
      "Fim do treinameno\n",
      "Fim do treinameno\n",
      "Fim do treinameno\n",
      "Fim do treinameno\n",
      "Fim do treinameno\n",
      "Fim do treinameno\n",
      "Fim do treinameno\n",
      "Fim do treinameno\n",
      "Fim do treinameno\n",
      "Fim do treinameno\n",
      "Fim do treinameno\n",
      "Fim do treinameno\n",
      "Fim do treinameno\n",
      "Fim do treinameno\n",
      "Fim do treinameno\n",
      "Fim do treinameno\n",
      "Fim do treinameno\n",
      "Fim do treinameno\n",
      "Fim do treinameno\n",
      "Fim do treinameno\n",
      "Fim do treinameno\n",
      "Fim do treinameno\n",
      "Fim do treinameno\n"
     ]
    },
    {
     "name": "stderr",
     "output_type": "stream",
     "text": [
      "Realizando a Busca de Parâmetros por 20 iterações:  25%|██▌       | 5/20 [2:34:40<7:04:55, 1699.73s/it]"
     ]
    },
    {
     "name": "stdout",
     "output_type": "stream",
     "text": [
      "Fim do treinameno\n",
      "Fim do treinameno\n",
      "Fim do treinameno\n",
      "Fim do treinameno\n",
      "Fim do treinameno\n",
      "Fim do treinameno\n",
      "Fim do treinameno\n",
      "Fim do treinameno\n",
      "Fim do treinameno\n",
      "Fim do treinameno\n",
      "Fim do treinameno\n",
      "Fim do treinameno\n",
      "Fim do treinameno\n",
      "Fim do treinameno\n",
      "Fim do treinameno\n",
      "Fim do treinameno\n",
      "Fim do treinameno\n",
      "Fim do treinameno\n",
      "Fim do treinameno\n",
      "Fim do treinameno\n",
      "Fim do treinameno\n",
      "Fim do treinameno\n",
      "Fim do treinameno\n",
      "Fim do treinameno\n",
      "Fim do treinameno\n",
      "Fim do treinameno\n",
      "Fim do treinameno\n",
      "Fim do treinameno\n",
      "Fim do treinameno\n",
      "Fim do treinameno\n",
      "Fim do treinameno\n",
      "Fim do treinameno\n",
      "Fim do treinameno\n",
      "Fim do treinameno\n",
      "Fim do treinameno\n",
      "Fim do treinameno\n",
      "Fim do treinameno\n",
      "Fim do treinameno\n",
      "Fim do treinameno\n",
      "Fim do treinameno\n",
      "Fim do treinameno\n",
      "Fim do treinameno\n",
      "Fim do treinameno\n",
      "Fim do treinameno\n",
      "Fim do treinameno\n",
      "Fim do treinameno\n",
      "Fim do treinameno\n",
      "Fim do treinameno\n",
      "Fim do treinameno\n",
      "Fim do treinameno\n",
      "Fim do treinameno\n",
      "Fim do treinameno\n",
      "Fim do treinameno\n",
      "Fim do treinameno\n",
      "Fim do treinameno\n",
      "Fim do treinameno\n",
      "Fim do treinameno\n",
      "Fim do treinameno\n",
      "Fim do treinameno\n",
      "Fim do treinameno\n",
      "Fim do treinameno\n",
      "Fim do treinameno\n",
      "Fim do treinameno\n",
      "Fim do treinameno\n",
      "Fim do treinameno\n",
      "Fim do treinameno\n",
      "Fim do treinameno\n",
      "Fim do treinameno\n",
      "Fim do treinameno\n",
      "Fim do treinameno\n",
      "Fim do treinameno\n",
      "Fim do treinameno\n",
      "Fim do treinameno\n",
      "Fim do treinameno\n",
      "Fim do treinameno\n",
      "Fim do treinameno\n",
      "Fim do treinameno\n",
      "Fim do treinameno\n",
      "Fim do treinameno\n",
      "Fim do treinameno\n",
      "Fim do treinameno\n",
      "Fim do treinameno\n",
      "Fim do treinameno\n",
      "Fim do treinameno\n",
      "Fim do treinameno\n",
      "Fim do treinameno\n",
      "Fim do treinameno\n",
      "Fim do treinameno\n",
      "Fim do treinameno\n",
      "Fim do treinameno\n",
      "Fim do treinameno\n",
      "Fim do treinameno\n",
      "Fim do treinameno\n",
      "Fim do treinameno\n",
      "Fim do treinameno\n",
      "Fim do treinameno\n",
      "Fim do treinameno\n",
      "Fim do treinameno\n",
      "Fim do treinameno\n",
      "Fim do treinameno\n",
      "Fim do treinameno\n"
     ]
    },
    {
     "name": "stderr",
     "output_type": "stream",
     "text": [
      "Realizando a Busca de Parâmetros por 20 iterações:  30%|███       | 6/20 [2:59:28<6:19:47, 1627.66s/it]"
     ]
    },
    {
     "name": "stdout",
     "output_type": "stream",
     "text": [
      "Fim do treinameno\n",
      "Fim do treinameno\n",
      "Fim do treinameno\n",
      "Fim do treinameno\n",
      "Fim do treinameno\n",
      "Fim do treinameno\n",
      "Fim do treinameno\n",
      "Fim do treinameno\n",
      "Fim do treinameno\n",
      "Fim do treinameno\n",
      "Fim do treinameno\n",
      "Fim do treinameno\n",
      "Fim do treinameno\n",
      "Fim do treinameno\n",
      "Fim do treinameno\n",
      "Fim do treinameno\n",
      "Fim do treinameno\n",
      "Fim do treinameno\n",
      "Fim do treinameno\n",
      "Fim do treinameno\n",
      "Fim do treinameno\n",
      "Fim do treinameno\n",
      "Fim do treinameno\n",
      "Fim do treinameno\n",
      "Fim do treinameno\n",
      "Fim do treinameno\n",
      "Fim do treinameno\n",
      "Fim do treinameno\n",
      "Fim do treinameno\n",
      "Fim do treinameno\n",
      "Fim do treinameno\n",
      "Fim do treinameno\n",
      "Fim do treinameno\n",
      "Fim do treinameno\n",
      "Fim do treinameno\n",
      "Fim do treinameno\n",
      "Fim do treinameno\n",
      "Fim do treinameno\n",
      "Fim do treinameno\n",
      "Fim do treinameno\n",
      "Fim do treinameno\n",
      "Fim do treinameno\n",
      "Fim do treinameno\n",
      "Fim do treinameno\n",
      "Fim do treinameno\n",
      "Fim do treinameno\n",
      "Fim do treinameno\n",
      "Fim do treinameno\n",
      "Fim do treinameno\n",
      "Fim do treinameno\n",
      "Fim do treinameno\n",
      "Fim do treinameno\n",
      "Fim do treinameno\n",
      "Fim do treinameno\n",
      "Fim do treinameno\n",
      "Fim do treinameno\n",
      "Fim do treinameno\n",
      "Fim do treinameno\n",
      "Fim do treinameno\n",
      "Fim do treinameno\n",
      "Fim do treinameno\n",
      "Fim do treinameno\n",
      "Fim do treinameno\n",
      "Fim do treinameno\n",
      "Fim do treinameno\n",
      "Fim do treinameno\n",
      "Fim do treinameno\n",
      "Fim do treinameno\n",
      "Fim do treinameno\n",
      "Fim do treinameno\n",
      "Fim do treinameno\n",
      "Fim do treinameno\n",
      "Fim do treinameno\n",
      "Fim do treinameno\n",
      "Fim do treinameno\n",
      "Fim do treinameno\n",
      "Fim do treinameno\n",
      "Fim do treinameno\n",
      "Fim do treinameno\n",
      "Fim do treinameno\n",
      "Fim do treinameno\n",
      "Fim do treinameno\n",
      "Fim do treinameno\n",
      "Fim do treinameno\n",
      "Fim do treinameno\n",
      "Fim do treinameno\n",
      "Fim do treinameno\n",
      "Fim do treinameno\n",
      "Fim do treinameno\n",
      "Fim do treinameno\n",
      "Fim do treinameno\n",
      "Fim do treinameno\n",
      "Fim do treinameno\n",
      "Fim do treinameno\n",
      "Fim do treinameno\n",
      "Fim do treinameno\n",
      "Fim do treinameno\n",
      "Fim do treinameno\n",
      "Fim do treinameno\n",
      "Fim do treinameno\n",
      "Fim do treinameno\n"
     ]
    },
    {
     "name": "stderr",
     "output_type": "stream",
     "text": [
      "Realizando a Busca de Parâmetros por 20 iterações:  35%|███▌      | 7/20 [3:27:44<5:57:29, 1649.94s/it]"
     ]
    },
    {
     "name": "stdout",
     "output_type": "stream",
     "text": [
      "Fim do treinameno\n",
      "Fim do treinameno\n",
      "Fim do treinameno\n",
      "Fim do treinameno\n",
      "Fim do treinameno\n",
      "Fim do treinameno\n",
      "Fim do treinameno\n",
      "Fim do treinameno\n",
      "Fim do treinameno\n",
      "Fim do treinameno\n",
      "Fim do treinameno\n",
      "Fim do treinameno\n",
      "Fim do treinameno\n",
      "Fim do treinameno\n",
      "Fim do treinameno\n",
      "Fim do treinameno\n",
      "Fim do treinameno\n",
      "Fim do treinameno\n",
      "Fim do treinameno\n",
      "Fim do treinameno\n",
      "Fim do treinameno\n",
      "Fim do treinameno\n",
      "Fim do treinameno\n",
      "Fim do treinameno\n",
      "Fim do treinameno\n",
      "Fim do treinameno\n",
      "Fim do treinameno\n",
      "Fim do treinameno\n",
      "Fim do treinameno\n",
      "Fim do treinameno\n",
      "Fim do treinameno\n",
      "Fim do treinameno\n",
      "Fim do treinameno\n",
      "Fim do treinameno\n",
      "Fim do treinameno\n",
      "Fim do treinameno\n",
      "Fim do treinameno\n",
      "Fim do treinameno\n",
      "Fim do treinameno\n",
      "Fim do treinameno\n",
      "Fim do treinameno\n",
      "Fim do treinameno\n",
      "Fim do treinameno\n",
      "Fim do treinameno\n",
      "Fim do treinameno\n",
      "Fim do treinameno\n",
      "Fim do treinameno\n",
      "Fim do treinameno\n",
      "Fim do treinameno\n",
      "Fim do treinameno\n",
      "Fim do treinameno\n",
      "Fim do treinameno\n",
      "Fim do treinameno\n",
      "Fim do treinameno\n",
      "Fim do treinameno\n",
      "Fim do treinameno\n",
      "Fim do treinameno\n",
      "Fim do treinameno\n",
      "Fim do treinameno\n",
      "Fim do treinameno\n",
      "Fim do treinameno\n",
      "Fim do treinameno\n",
      "Fim do treinameno\n",
      "Fim do treinameno\n",
      "Fim do treinameno\n",
      "Fim do treinameno\n",
      "Fim do treinameno\n",
      "Fim do treinameno\n",
      "Fim do treinameno\n",
      "Fim do treinameno\n",
      "Fim do treinameno\n",
      "Fim do treinameno\n",
      "Fim do treinameno\n",
      "Fim do treinameno\n",
      "Fim do treinameno\n",
      "Fim do treinameno\n",
      "Fim do treinameno\n",
      "Fim do treinameno\n",
      "Fim do treinameno\n",
      "Fim do treinameno\n",
      "Fim do treinameno\n",
      "Fim do treinameno\n",
      "Fim do treinameno\n",
      "Fim do treinameno\n",
      "Fim do treinameno\n",
      "Fim do treinameno\n",
      "Fim do treinameno\n",
      "Fim do treinameno\n",
      "Fim do treinameno\n",
      "Fim do treinameno\n",
      "Fim do treinameno\n",
      "Fim do treinameno\n",
      "Fim do treinameno\n",
      "Fim do treinameno\n",
      "Fim do treinameno\n",
      "Fim do treinameno\n",
      "Fim do treinameno\n",
      "Fim do treinameno\n",
      "Fim do treinameno\n",
      "Fim do treinameno\n",
      "Fim do treinameno\n"
     ]
    },
    {
     "name": "stderr",
     "output_type": "stream",
     "text": [
      "Realizando a Busca de Parâmetros por 20 iterações:  40%|████      | 8/20 [3:43:37<4:45:36, 1428.06s/it]"
     ]
    },
    {
     "name": "stdout",
     "output_type": "stream",
     "text": [
      "Fim do treinameno\n",
      "Fim do treinameno\n",
      "Fim do treinameno\n",
      "Fim do treinameno\n",
      "Fim do treinameno\n",
      "Fim do treinameno\n",
      "Fim do treinameno\n",
      "Fim do treinameno\n",
      "Fim do treinameno\n",
      "Fim do treinameno\n",
      "Fim do treinameno\n",
      "Fim do treinameno\n",
      "Fim do treinameno\n",
      "Fim do treinameno\n",
      "Fim do treinameno\n",
      "Fim do treinameno\n",
      "Fim do treinameno\n",
      "Fim do treinameno\n",
      "Fim do treinameno\n",
      "Fim do treinameno\n",
      "Fim do treinameno\n",
      "Fim do treinameno\n",
      "Fim do treinameno\n",
      "Fim do treinameno\n",
      "Fim do treinameno\n",
      "Fim do treinameno\n",
      "Fim do treinameno\n",
      "Fim do treinameno\n",
      "Fim do treinameno\n",
      "Fim do treinameno\n",
      "Fim do treinameno\n",
      "Fim do treinameno\n",
      "Fim do treinameno\n",
      "Fim do treinameno\n",
      "Fim do treinameno\n",
      "Fim do treinameno\n",
      "Fim do treinameno\n",
      "Fim do treinameno\n",
      "Fim do treinameno\n",
      "Fim do treinameno\n",
      "Fim do treinameno\n",
      "Fim do treinameno\n",
      "Fim do treinameno\n",
      "Fim do treinameno\n",
      "Fim do treinameno\n",
      "Fim do treinameno\n",
      "Fim do treinameno\n",
      "Fim do treinameno\n",
      "Fim do treinameno\n",
      "Fim do treinameno\n",
      "Fim do treinameno\n",
      "Fim do treinameno\n",
      "Fim do treinameno\n",
      "Fim do treinameno\n",
      "Fim do treinameno\n",
      "Fim do treinameno\n",
      "Fim do treinameno\n",
      "Fim do treinameno\n",
      "Fim do treinameno\n",
      "Fim do treinameno\n",
      "Fim do treinameno\n",
      "Fim do treinameno\n",
      "Fim do treinameno\n",
      "Fim do treinameno\n",
      "Fim do treinameno\n",
      "Fim do treinameno\n",
      "Fim do treinameno\n",
      "Fim do treinameno\n",
      "Fim do treinameno\n",
      "Fim do treinameno\n",
      "Fim do treinameno\n",
      "Fim do treinameno\n",
      "Fim do treinameno\n",
      "Fim do treinameno\n",
      "Fim do treinameno\n",
      "Fim do treinameno\n",
      "Fim do treinameno\n",
      "Fim do treinameno\n",
      "Fim do treinameno\n",
      "Fim do treinameno\n",
      "Fim do treinameno\n",
      "Fim do treinameno\n",
      "Fim do treinameno\n",
      "Fim do treinameno\n",
      "Fim do treinameno\n",
      "Fim do treinameno\n",
      "Fim do treinameno\n",
      "Fim do treinameno\n",
      "Fim do treinameno\n",
      "Fim do treinameno\n",
      "Fim do treinameno\n",
      "Fim do treinameno\n",
      "Fim do treinameno\n",
      "Fim do treinameno\n",
      "Fim do treinameno\n",
      "Fim do treinameno\n",
      "Fim do treinameno\n",
      "Fim do treinameno\n",
      "Fim do treinameno\n",
      "Fim do treinameno\n",
      "Fim do treinameno\n"
     ]
    },
    {
     "name": "stderr",
     "output_type": "stream",
     "text": [
      "Realizando a Busca de Parâmetros por 20 iterações:  45%|████▌     | 9/20 [4:02:57<4:06:28, 1344.38s/it]"
     ]
    },
    {
     "name": "stdout",
     "output_type": "stream",
     "text": [
      "Fim do treinameno\n",
      "Fim do treinameno\n",
      "Fim do treinameno\n",
      "Fim do treinameno\n",
      "Fim do treinameno\n",
      "Fim do treinameno\n",
      "Fim do treinameno\n",
      "Fim do treinameno\n",
      "Fim do treinameno\n",
      "Fim do treinameno\n",
      "Fim do treinameno\n",
      "Fim do treinameno\n",
      "Fim do treinameno\n",
      "Fim do treinameno\n",
      "Fim do treinameno\n",
      "Fim do treinameno\n",
      "Fim do treinameno\n",
      "Fim do treinameno\n",
      "Fim do treinameno\n",
      "Fim do treinameno\n",
      "Fim do treinameno\n",
      "Fim do treinameno\n",
      "Fim do treinameno\n",
      "Fim do treinameno\n",
      "Fim do treinameno\n",
      "Fim do treinameno\n",
      "Fim do treinameno\n",
      "Fim do treinameno\n",
      "Fim do treinameno\n",
      "Fim do treinameno\n",
      "Fim do treinameno\n",
      "Fim do treinameno\n",
      "Fim do treinameno\n",
      "Fim do treinameno\n",
      "Fim do treinameno\n",
      "Fim do treinameno\n",
      "Fim do treinameno\n",
      "Fim do treinameno\n",
      "Fim do treinameno\n",
      "Fim do treinameno\n",
      "Fim do treinameno\n",
      "Fim do treinameno\n",
      "Fim do treinameno\n",
      "Fim do treinameno\n",
      "Fim do treinameno\n",
      "Fim do treinameno\n",
      "Fim do treinameno\n",
      "Fim do treinameno\n",
      "Fim do treinameno\n",
      "Fim do treinameno\n",
      "Fim do treinameno\n",
      "Fim do treinameno\n",
      "Fim do treinameno\n",
      "Fim do treinameno\n",
      "Fim do treinameno\n",
      "Fim do treinameno\n",
      "Fim do treinameno\n",
      "Fim do treinameno\n",
      "Fim do treinameno\n",
      "Fim do treinameno\n",
      "Fim do treinameno\n",
      "Fim do treinameno\n",
      "Fim do treinameno\n",
      "Fim do treinameno\n",
      "Fim do treinameno\n",
      "Fim do treinameno\n",
      "Fim do treinameno\n",
      "Fim do treinameno\n",
      "Fim do treinameno\n",
      "Fim do treinameno\n",
      "Fim do treinameno\n",
      "Fim do treinameno\n",
      "Fim do treinameno\n",
      "Fim do treinameno\n",
      "Fim do treinameno\n",
      "Fim do treinameno\n",
      "Fim do treinameno\n",
      "Fim do treinameno\n",
      "Fim do treinameno\n",
      "Fim do treinameno\n",
      "Fim do treinameno\n",
      "Fim do treinameno\n",
      "Fim do treinameno\n",
      "Fim do treinameno\n",
      "Fim do treinameno\n",
      "Fim do treinameno\n",
      "Fim do treinameno\n",
      "Fim do treinameno\n",
      "Fim do treinameno\n",
      "Fim do treinameno\n",
      "Fim do treinameno\n",
      "Fim do treinameno\n",
      "Fim do treinameno\n",
      "Fim do treinameno\n",
      "Fim do treinameno\n",
      "Fim do treinameno\n",
      "Fim do treinameno\n",
      "Fim do treinameno\n",
      "Fim do treinameno\n",
      "Fim do treinameno\n",
      "Fim do treinameno\n"
     ]
    },
    {
     "name": "stderr",
     "output_type": "stream",
     "text": [
      "Realizando a Busca de Parâmetros por 20 iterações:  50%|█████     | 10/20 [4:40:34<4:31:01, 1626.13s/it]"
     ]
    },
    {
     "name": "stdout",
     "output_type": "stream",
     "text": [
      "Fim do treinameno\n",
      "Fim do treinameno\n",
      "Fim do treinameno\n",
      "Fim do treinameno\n",
      "Fim do treinameno\n",
      "Fim do treinameno\n",
      "Fim do treinameno\n",
      "Fim do treinameno\n",
      "Fim do treinameno\n",
      "Fim do treinameno\n",
      "Fim do treinameno\n",
      "Fim do treinameno\n",
      "Fim do treinameno\n",
      "Fim do treinameno\n",
      "Fim do treinameno\n",
      "Fim do treinameno\n",
      "Fim do treinameno\n",
      "Fim do treinameno\n",
      "Fim do treinameno\n",
      "Fim do treinameno\n",
      "Fim do treinameno\n",
      "Fim do treinameno\n",
      "Fim do treinameno\n",
      "Fim do treinameno\n",
      "Fim do treinameno\n",
      "Fim do treinameno\n",
      "Fim do treinameno\n",
      "Fim do treinameno\n",
      "Fim do treinameno\n",
      "Fim do treinameno\n",
      "Fim do treinameno\n",
      "Fim do treinameno\n",
      "Fim do treinameno\n",
      "Fim do treinameno\n",
      "Fim do treinameno\n",
      "Fim do treinameno\n",
      "Fim do treinameno\n",
      "Fim do treinameno\n",
      "Fim do treinameno\n",
      "Fim do treinameno\n",
      "Fim do treinameno\n",
      "Fim do treinameno\n",
      "Fim do treinameno\n",
      "Fim do treinameno\n",
      "Fim do treinameno\n",
      "Fim do treinameno\n",
      "Fim do treinameno\n",
      "Fim do treinameno\n",
      "Fim do treinameno\n",
      "Fim do treinameno\n",
      "Fim do treinameno\n",
      "Fim do treinameno\n",
      "Fim do treinameno\n",
      "Fim do treinameno\n",
      "Fim do treinameno\n",
      "Fim do treinameno\n",
      "Fim do treinameno\n",
      "Fim do treinameno\n",
      "Fim do treinameno\n",
      "Fim do treinameno\n",
      "Fim do treinameno\n",
      "Fim do treinameno\n",
      "Fim do treinameno\n",
      "Fim do treinameno\n",
      "Fim do treinameno\n",
      "Fim do treinameno\n",
      "Fim do treinameno\n",
      "Fim do treinameno\n",
      "Fim do treinameno\n",
      "Fim do treinameno\n",
      "Fim do treinameno\n",
      "Fim do treinameno\n",
      "Fim do treinameno\n",
      "Fim do treinameno\n",
      "Fim do treinameno\n",
      "Fim do treinameno\n",
      "Fim do treinameno\n",
      "Fim do treinameno\n",
      "Fim do treinameno\n",
      "Fim do treinameno\n",
      "Fim do treinameno\n",
      "Fim do treinameno\n",
      "Fim do treinameno\n",
      "Fim do treinameno\n",
      "Fim do treinameno\n",
      "Fim do treinameno\n",
      "Fim do treinameno\n",
      "Fim do treinameno\n",
      "Fim do treinameno\n",
      "Fim do treinameno\n",
      "Fim do treinameno\n",
      "Fim do treinameno\n",
      "Fim do treinameno\n",
      "Fim do treinameno\n",
      "Fim do treinameno\n",
      "Fim do treinameno\n",
      "Fim do treinameno\n",
      "Fim do treinameno\n",
      "Fim do treinameno\n",
      "Fim do treinameno\n",
      "Fim do treinameno\n"
     ]
    },
    {
     "name": "stderr",
     "output_type": "stream",
     "text": [
      "Realizando a Busca de Parâmetros por 20 iterações:  55%|█████▌    | 11/20 [5:09:36<4:09:13, 1661.47s/it]"
     ]
    },
    {
     "name": "stdout",
     "output_type": "stream",
     "text": [
      "Fim do treinameno\n",
      "Fim do treinameno\n",
      "Fim do treinameno\n",
      "Fim do treinameno\n",
      "Fim do treinameno\n",
      "Fim do treinameno\n",
      "Fim do treinameno\n",
      "Fim do treinameno\n",
      "Fim do treinameno\n",
      "Fim do treinameno\n",
      "Fim do treinameno\n",
      "Fim do treinameno\n",
      "Fim do treinameno\n",
      "Fim do treinameno\n",
      "Fim do treinameno\n",
      "Fim do treinameno\n",
      "Fim do treinameno\n",
      "Fim do treinameno\n",
      "Fim do treinameno\n",
      "Fim do treinameno\n",
      "Fim do treinameno\n",
      "Fim do treinameno\n",
      "Fim do treinameno\n",
      "Fim do treinameno\n",
      "Fim do treinameno\n",
      "Fim do treinameno\n",
      "Fim do treinameno\n",
      "Fim do treinameno\n",
      "Fim do treinameno\n",
      "Fim do treinameno\n",
      "Fim do treinameno\n",
      "Fim do treinameno\n",
      "Fim do treinameno\n",
      "Fim do treinameno\n",
      "Fim do treinameno\n",
      "Fim do treinameno\n",
      "Fim do treinameno\n",
      "Fim do treinameno\n",
      "Fim do treinameno\n",
      "Fim do treinameno\n",
      "Fim do treinameno\n",
      "Fim do treinameno\n",
      "Fim do treinameno\n",
      "Fim do treinameno\n",
      "Fim do treinameno\n",
      "Fim do treinameno\n",
      "Fim do treinameno\n",
      "Fim do treinameno\n",
      "Fim do treinameno\n",
      "Fim do treinameno\n",
      "Fim do treinameno\n",
      "Fim do treinameno\n",
      "Fim do treinameno\n",
      "Fim do treinameno\n",
      "Fim do treinameno\n",
      "Fim do treinameno\n",
      "Fim do treinameno\n",
      "Fim do treinameno\n",
      "Fim do treinameno\n",
      "Fim do treinameno\n",
      "Fim do treinameno\n",
      "Fim do treinameno\n",
      "Fim do treinameno\n",
      "Fim do treinameno\n",
      "Fim do treinameno\n",
      "Fim do treinameno\n",
      "Fim do treinameno\n",
      "Fim do treinameno\n",
      "Fim do treinameno\n",
      "Fim do treinameno\n",
      "Fim do treinameno\n",
      "Fim do treinameno\n",
      "Fim do treinameno\n",
      "Fim do treinameno\n",
      "Fim do treinameno\n",
      "Fim do treinameno\n",
      "Fim do treinameno\n",
      "Fim do treinameno\n",
      "Fim do treinameno\n",
      "Fim do treinameno\n",
      "Fim do treinameno\n",
      "Fim do treinameno\n",
      "Fim do treinameno\n",
      "Fim do treinameno\n",
      "Fim do treinameno\n",
      "Fim do treinameno\n",
      "Fim do treinameno\n",
      "Fim do treinameno\n",
      "Fim do treinameno\n",
      "Fim do treinameno\n",
      "Fim do treinameno\n",
      "Fim do treinameno\n",
      "Fim do treinameno\n",
      "Fim do treinameno\n",
      "Fim do treinameno\n",
      "Fim do treinameno\n",
      "Fim do treinameno\n",
      "Fim do treinameno\n",
      "Fim do treinameno\n",
      "Fim do treinameno\n",
      "Fim do treinameno\n"
     ]
    },
    {
     "name": "stderr",
     "output_type": "stream",
     "text": [
      "Realizando a Busca de Parâmetros por 20 iterações:  60%|██████    | 12/20 [5:54:59<4:24:35, 1984.43s/it]"
     ]
    },
    {
     "name": "stdout",
     "output_type": "stream",
     "text": [
      "Fim do treinameno\n",
      "Fim do treinameno\n",
      "Fim do treinameno\n"
     ]
    },
    {
     "name": "stderr",
     "output_type": "stream",
     "text": [
      "/home/guilhermemaciel/.local/lib/python3.10/site-packages/sklearn/model_selection/_validation.py:960: UserWarning: Scoring failed. The score on this train-test partition for these parameters will be set to nan. Details: \n",
      "Traceback (most recent call last):\n",
      "  File \"/home/guilhermemaciel/.local/lib/python3.10/site-packages/sklearn/model_selection/_validation.py\", line 949, in _score\n",
      "    scores = scorer(estimator, X_test, y_test, **score_params)\n",
      "  File \"/home/guilhermemaciel/.local/lib/python3.10/site-packages/sklearn/metrics/_scorer.py\", line 288, in __call__\n",
      "    return self._score(partial(_cached_call, None), estimator, X, y_true, **_kwargs)\n",
      "  File \"/home/guilhermemaciel/.local/lib/python3.10/site-packages/sklearn/metrics/_scorer.py\", line 380, in _score\n",
      "    y_pred = method_caller(\n",
      "  File \"/home/guilhermemaciel/.local/lib/python3.10/site-packages/sklearn/metrics/_scorer.py\", line 90, in _cached_call\n",
      "    result, _ = _get_response_values(\n",
      "  File \"/home/guilhermemaciel/.local/lib/python3.10/site-packages/sklearn/utils/_response.py\", line 235, in _get_response_values\n",
      "    raise ValueError(\n",
      "ValueError: LVQClassifier should either be a classifier to be used with response_method=decision_function or the response_method should be 'predict'. Got a regressor with response_method=decision_function instead.\n",
      "\n",
      "  warnings.warn(\n"
     ]
    },
    {
     "name": "stdout",
     "output_type": "stream",
     "text": [
      "Fim do treinameno\n"
     ]
    },
    {
     "name": "stderr",
     "output_type": "stream",
     "text": [
      "/home/guilhermemaciel/.local/lib/python3.10/site-packages/sklearn/model_selection/_validation.py:960: UserWarning: Scoring failed. The score on this train-test partition for these parameters will be set to nan. Details: \n",
      "Traceback (most recent call last):\n",
      "  File \"/home/guilhermemaciel/.local/lib/python3.10/site-packages/sklearn/model_selection/_validation.py\", line 949, in _score\n",
      "    scores = scorer(estimator, X_test, y_test, **score_params)\n",
      "  File \"/home/guilhermemaciel/.local/lib/python3.10/site-packages/sklearn/metrics/_scorer.py\", line 288, in __call__\n",
      "    return self._score(partial(_cached_call, None), estimator, X, y_true, **_kwargs)\n",
      "  File \"/home/guilhermemaciel/.local/lib/python3.10/site-packages/sklearn/metrics/_scorer.py\", line 380, in _score\n",
      "    y_pred = method_caller(\n",
      "  File \"/home/guilhermemaciel/.local/lib/python3.10/site-packages/sklearn/metrics/_scorer.py\", line 90, in _cached_call\n",
      "    result, _ = _get_response_values(\n",
      "  File \"/home/guilhermemaciel/.local/lib/python3.10/site-packages/sklearn/utils/_response.py\", line 235, in _get_response_values\n",
      "    raise ValueError(\n",
      "ValueError: LVQClassifier should either be a classifier to be used with response_method=decision_function or the response_method should be 'predict'. Got a regressor with response_method=decision_function instead.\n",
      "\n",
      "  warnings.warn(\n"
     ]
    },
    {
     "name": "stdout",
     "output_type": "stream",
     "text": [
      "Fim do treinameno\n",
      "Fim do treinameno\n",
      "Fim do treinameno\n",
      "Fim do treinameno\n",
      "Fim do treinameno\n",
      "Fim do treinameno\n",
      "Fim do treinameno\n",
      "Fim do treinameno\n"
     ]
    },
    {
     "name": "stderr",
     "output_type": "stream",
     "text": [
      "/home/guilhermemaciel/.local/lib/python3.10/site-packages/sklearn/model_selection/_validation.py:960: UserWarning: Scoring failed. The score on this train-test partition for these parameters will be set to nan. Details: \n",
      "Traceback (most recent call last):\n",
      "  File \"/home/guilhermemaciel/.local/lib/python3.10/site-packages/sklearn/model_selection/_validation.py\", line 949, in _score\n",
      "    scores = scorer(estimator, X_test, y_test, **score_params)\n",
      "  File \"/home/guilhermemaciel/.local/lib/python3.10/site-packages/sklearn/metrics/_scorer.py\", line 288, in __call__\n",
      "    return self._score(partial(_cached_call, None), estimator, X, y_true, **_kwargs)\n",
      "  File \"/home/guilhermemaciel/.local/lib/python3.10/site-packages/sklearn/metrics/_scorer.py\", line 380, in _score\n",
      "    y_pred = method_caller(\n",
      "  File \"/home/guilhermemaciel/.local/lib/python3.10/site-packages/sklearn/metrics/_scorer.py\", line 90, in _cached_call\n",
      "    result, _ = _get_response_values(\n",
      "  File \"/home/guilhermemaciel/.local/lib/python3.10/site-packages/sklearn/utils/_response.py\", line 235, in _get_response_values\n",
      "    raise ValueError(\n",
      "ValueError: LVQClassifier should either be a classifier to be used with response_method=decision_function or the response_method should be 'predict'. Got a regressor with response_method=decision_function instead.\n",
      "\n",
      "  warnings.warn(\n"
     ]
    },
    {
     "name": "stdout",
     "output_type": "stream",
     "text": [
      "Fim do treinameno\n"
     ]
    },
    {
     "name": "stderr",
     "output_type": "stream",
     "text": [
      "/home/guilhermemaciel/.local/lib/python3.10/site-packages/sklearn/model_selection/_validation.py:960: UserWarning: Scoring failed. The score on this train-test partition for these parameters will be set to nan. Details: \n",
      "Traceback (most recent call last):\n",
      "  File \"/home/guilhermemaciel/.local/lib/python3.10/site-packages/sklearn/model_selection/_validation.py\", line 949, in _score\n",
      "    scores = scorer(estimator, X_test, y_test, **score_params)\n",
      "  File \"/home/guilhermemaciel/.local/lib/python3.10/site-packages/sklearn/metrics/_scorer.py\", line 288, in __call__\n",
      "    return self._score(partial(_cached_call, None), estimator, X, y_true, **_kwargs)\n",
      "  File \"/home/guilhermemaciel/.local/lib/python3.10/site-packages/sklearn/metrics/_scorer.py\", line 380, in _score\n",
      "    y_pred = method_caller(\n",
      "  File \"/home/guilhermemaciel/.local/lib/python3.10/site-packages/sklearn/metrics/_scorer.py\", line 90, in _cached_call\n",
      "    result, _ = _get_response_values(\n",
      "  File \"/home/guilhermemaciel/.local/lib/python3.10/site-packages/sklearn/utils/_response.py\", line 235, in _get_response_values\n",
      "    raise ValueError(\n",
      "ValueError: LVQClassifier should either be a classifier to be used with response_method=decision_function or the response_method should be 'predict'. Got a regressor with response_method=decision_function instead.\n",
      "\n",
      "  warnings.warn(\n",
      "/home/guilhermemaciel/.local/lib/python3.10/site-packages/sklearn/model_selection/_validation.py:960: UserWarning: Scoring failed. The score on this train-test partition for these parameters will be set to nan. Details: \n",
      "Traceback (most recent call last):\n",
      "  File \"/home/guilhermemaciel/.local/lib/python3.10/site-packages/sklearn/model_selection/_validation.py\", line 949, in _score\n",
      "    scores = scorer(estimator, X_test, y_test, **score_params)\n",
      "  File \"/home/guilhermemaciel/.local/lib/python3.10/site-packages/sklearn/metrics/_scorer.py\", line 288, in __call__\n",
      "    return self._score(partial(_cached_call, None), estimator, X, y_true, **_kwargs)\n",
      "  File \"/home/guilhermemaciel/.local/lib/python3.10/site-packages/sklearn/metrics/_scorer.py\", line 380, in _score\n",
      "    y_pred = method_caller(\n",
      "  File \"/home/guilhermemaciel/.local/lib/python3.10/site-packages/sklearn/metrics/_scorer.py\", line 90, in _cached_call\n",
      "    result, _ = _get_response_values(\n",
      "  File \"/home/guilhermemaciel/.local/lib/python3.10/site-packages/sklearn/utils/_response.py\", line 235, in _get_response_values\n",
      "    raise ValueError(\n",
      "ValueError: LVQClassifier should either be a classifier to be used with response_method=decision_function or the response_method should be 'predict'. Got a regressor with response_method=decision_function instead.\n",
      "\n",
      "  warnings.warn(\n"
     ]
    },
    {
     "name": "stdout",
     "output_type": "stream",
     "text": [
      "Fim do treinameno\n",
      "Fim do treinameno\n",
      "Fim do treinameno\n",
      "Fim do treinameno\n",
      "Fim do treinameno\n",
      "Fim do treinameno\n",
      "Fim do treinameno\n",
      "Fim do treinameno\n",
      "Fim do treinameno\n",
      "Fim do treinameno\n",
      "Fim do treinameno\n",
      "Fim do treinameno\n",
      "Fim do treinameno\n",
      "Fim do treinameno\n",
      "Fim do treinameno\n",
      "Fim do treinameno\n",
      "Fim do treinameno\n",
      "Fim do treinameno\n",
      "Fim do treinameno\n",
      "Fim do treinameno\n",
      "Fim do treinameno\n",
      "Fim do treinameno\n",
      "Fim do treinameno\n",
      "Fim do treinameno\n",
      "Fim do treinameno\n",
      "Fim do treinameno\n",
      "Fim do treinameno\n",
      "Fim do treinameno\n",
      "Fim do treinameno\n",
      "Fim do treinameno\n",
      "Fim do treinameno\n",
      "Fim do treinameno\n",
      "Fim do treinameno\n",
      "Fim do treinameno\n",
      "Fim do treinameno\n",
      "Fim do treinameno\n",
      "Fim do treinameno\n",
      "Fim do treinameno\n",
      "Fim do treinameno\n",
      "Fim do treinameno\n",
      "Fim do treinameno\n",
      "Fim do treinameno\n",
      "Fim do treinameno\n",
      "Fim do treinameno\n",
      "Fim do treinameno\n",
      "Fim do treinameno\n",
      "Fim do treinameno\n",
      "Fim do treinameno\n",
      "Fim do treinameno\n",
      "Fim do treinameno\n",
      "Fim do treinameno\n",
      "Fim do treinameno\n",
      "Fim do treinameno\n",
      "Fim do treinameno\n",
      "Fim do treinameno\n",
      "Fim do treinameno\n",
      "Fim do treinameno\n",
      "Fim do treinameno\n",
      "Fim do treinameno\n",
      "Fim do treinameno\n",
      "Fim do treinameno\n",
      "Fim do treinameno\n",
      "Fim do treinameno\n",
      "Fim do treinameno\n",
      "Fim do treinameno\n",
      "Fim do treinameno\n",
      "Fim do treinameno\n",
      "Fim do treinameno\n",
      "Fim do treinameno\n",
      "Fim do treinameno\n",
      "Fim do treinameno\n",
      "Fim do treinameno\n",
      "Fim do treinameno\n",
      "Fim do treinameno\n",
      "Fim do treinameno\n",
      "Fim do treinameno\n",
      "Fim do treinameno\n",
      "Fim do treinameno\n",
      "Fim do treinameno\n",
      "Fim do treinameno\n",
      "Fim do treinameno\n",
      "Fim do treinameno\n",
      "Fim do treinameno\n",
      "Fim do treinameno\n",
      "Fim do treinameno\n",
      "Fim do treinameno\n",
      "Fim do treinameno\n",
      "Fim do treinameno\n"
     ]
    },
    {
     "name": "stderr",
     "output_type": "stream",
     "text": [
      "Realizando a Busca de Parâmetros por 20 iterações:  65%|██████▌   | 13/20 [6:24:06<3:43:07, 1912.55s/it]"
     ]
    },
    {
     "name": "stdout",
     "output_type": "stream",
     "text": [
      "Fim do treinameno\n",
      "Fim do treinameno\n",
      "Fim do treinameno\n",
      "Fim do treinameno\n",
      "Fim do treinameno\n",
      "Fim do treinameno\n",
      "Fim do treinameno\n",
      "Fim do treinameno\n",
      "Fim do treinameno\n",
      "Fim do treinameno\n",
      "Fim do treinameno\n",
      "Fim do treinameno\n",
      "Fim do treinameno\n",
      "Fim do treinameno\n",
      "Fim do treinameno\n",
      "Fim do treinameno\n",
      "Fim do treinameno\n",
      "Fim do treinameno\n",
      "Fim do treinameno\n",
      "Fim do treinameno\n",
      "Fim do treinameno\n",
      "Fim do treinameno\n",
      "Fim do treinameno\n",
      "Fim do treinameno\n",
      "Fim do treinameno\n",
      "Fim do treinameno\n",
      "Fim do treinameno\n",
      "Fim do treinameno\n",
      "Fim do treinameno\n",
      "Fim do treinameno\n",
      "Fim do treinameno\n",
      "Fim do treinameno\n",
      "Fim do treinameno\n",
      "Fim do treinameno\n",
      "Fim do treinameno\n",
      "Fim do treinameno\n",
      "Fim do treinameno\n",
      "Fim do treinameno\n",
      "Fim do treinameno\n",
      "Fim do treinameno\n",
      "Fim do treinameno\n",
      "Fim do treinameno\n",
      "Fim do treinameno\n",
      "Fim do treinameno\n",
      "Fim do treinameno\n",
      "Fim do treinameno\n",
      "Fim do treinameno\n",
      "Fim do treinameno\n",
      "Fim do treinameno\n",
      "Fim do treinameno\n",
      "Fim do treinameno\n",
      "Fim do treinameno\n",
      "Fim do treinameno\n",
      "Fim do treinameno\n",
      "Fim do treinameno\n",
      "Fim do treinameno\n",
      "Fim do treinameno\n",
      "Fim do treinameno\n",
      "Fim do treinameno\n",
      "Fim do treinameno\n",
      "Fim do treinameno\n",
      "Fim do treinameno\n",
      "Fim do treinameno\n",
      "Fim do treinameno\n",
      "Fim do treinameno\n",
      "Fim do treinameno\n",
      "Fim do treinameno\n",
      "Fim do treinameno\n",
      "Fim do treinameno\n",
      "Fim do treinameno\n",
      "Fim do treinameno\n",
      "Fim do treinameno\n",
      "Fim do treinameno\n",
      "Fim do treinameno\n",
      "Fim do treinameno\n",
      "Fim do treinameno\n",
      "Fim do treinameno\n",
      "Fim do treinameno\n",
      "Fim do treinameno\n",
      "Fim do treinameno\n",
      "Fim do treinameno\n",
      "Fim do treinameno\n",
      "Fim do treinameno\n",
      "Fim do treinameno\n",
      "Fim do treinameno\n",
      "Fim do treinameno\n",
      "Fim do treinameno\n",
      "Fim do treinameno\n",
      "Fim do treinameno\n",
      "Fim do treinameno\n",
      "Fim do treinameno\n",
      "Fim do treinameno\n",
      "Fim do treinameno\n",
      "Fim do treinameno\n",
      "Fim do treinameno\n",
      "Fim do treinameno\n",
      "Fim do treinameno\n",
      "Fim do treinameno\n",
      "Fim do treinameno\n",
      "Fim do treinameno\n",
      "Fim do treinameno\n"
     ]
    },
    {
     "name": "stderr",
     "output_type": "stream",
     "text": [
      "Realizando a Busca de Parâmetros por 20 iterações:  70%|███████   | 14/20 [6:56:08<3:11:32, 1915.49s/it]"
     ]
    },
    {
     "name": "stdout",
     "output_type": "stream",
     "text": [
      "Fim do treinameno\n",
      "Fim do treinameno\n",
      "Fim do treinameno\n",
      "Fim do treinameno\n",
      "Fim do treinameno\n",
      "Fim do treinameno\n"
     ]
    },
    {
     "name": "stderr",
     "output_type": "stream",
     "text": [
      "/home/guilhermemaciel/.local/lib/python3.10/site-packages/sklearn/model_selection/_validation.py:960: UserWarning: Scoring failed. The score on this train-test partition for these parameters will be set to nan. Details: \n",
      "Traceback (most recent call last):\n",
      "  File \"/home/guilhermemaciel/.local/lib/python3.10/site-packages/sklearn/model_selection/_validation.py\", line 949, in _score\n",
      "    scores = scorer(estimator, X_test, y_test, **score_params)\n",
      "  File \"/home/guilhermemaciel/.local/lib/python3.10/site-packages/sklearn/metrics/_scorer.py\", line 288, in __call__\n",
      "    return self._score(partial(_cached_call, None), estimator, X, y_true, **_kwargs)\n",
      "  File \"/home/guilhermemaciel/.local/lib/python3.10/site-packages/sklearn/metrics/_scorer.py\", line 380, in _score\n",
      "    y_pred = method_caller(\n",
      "  File \"/home/guilhermemaciel/.local/lib/python3.10/site-packages/sklearn/metrics/_scorer.py\", line 90, in _cached_call\n",
      "    result, _ = _get_response_values(\n",
      "  File \"/home/guilhermemaciel/.local/lib/python3.10/site-packages/sklearn/utils/_response.py\", line 235, in _get_response_values\n",
      "    raise ValueError(\n",
      "ValueError: LVQClassifier should either be a classifier to be used with response_method=decision_function or the response_method should be 'predict'. Got a regressor with response_method=decision_function instead.\n",
      "\n",
      "  warnings.warn(\n"
     ]
    },
    {
     "name": "stdout",
     "output_type": "stream",
     "text": [
      "Fim do treinameno\n",
      "Fim do treinameno\n",
      "Fim do treinameno\n",
      "Fim do treinameno\n",
      "Fim do treinameno\n",
      "Fim do treinameno\n",
      "Fim do treinameno\n",
      "Fim do treinameno\n",
      "Fim do treinameno\n",
      "Fim do treinameno\n",
      "Fim do treinameno\n"
     ]
    },
    {
     "name": "stderr",
     "output_type": "stream",
     "text": [
      "/tmp/ipykernel_15807/3722597454.py:5: RuntimeWarning: overflow encountered in scalar add\n",
      "/tmp/ipykernel_15807/3722597454.py:5: RuntimeWarning: overflow encountered in scalar power\n",
      "/tmp/ipykernel_15807/3722597454.py:41: RuntimeWarning: overflow encountered in scalar subtract\n",
      "/tmp/ipykernel_15807/3722597454.py:39: RuntimeWarning: invalid value encountered in scalar add\n"
     ]
    },
    {
     "name": "stdout",
     "output_type": "stream",
     "text": [
      "Fim do treinameno\n",
      "Fim do treinameno\n",
      "Fim do treinameno\n",
      "Fim do treinameno\n",
      "Fim do treinameno\n",
      "Fim do treinameno\n",
      "Fim do treinameno\n",
      "Fim do treinameno\n",
      "Fim do treinameno\n",
      "Fim do treinameno\n",
      "Fim do treinameno\n",
      "Fim do treinameno\n",
      "Fim do treinameno\n",
      "Fim do treinameno\n",
      "Fim do treinameno\n",
      "Fim do treinameno\n",
      "Fim do treinameno\n",
      "Fim do treinameno\n",
      "Fim do treinameno\n",
      "Fim do treinameno\n"
     ]
    },
    {
     "name": "stderr",
     "output_type": "stream",
     "text": [
      "/tmp/ipykernel_15807/3722597454.py:5: RuntimeWarning: overflow encountered in scalar add\n",
      "/tmp/ipykernel_15807/3722597454.py:5: RuntimeWarning: overflow encountered in scalar power\n",
      "/tmp/ipykernel_15807/3722597454.py:41: RuntimeWarning: overflow encountered in scalar subtract\n",
      "/tmp/ipykernel_15807/3722597454.py:39: RuntimeWarning: invalid value encountered in scalar add\n"
     ]
    },
    {
     "name": "stdout",
     "output_type": "stream",
     "text": [
      "Fim do treinameno\n",
      "Fim do treinameno\n",
      "Fim do treinameno\n",
      "Fim do treinameno\n",
      "Fim do treinameno\n",
      "Fim do treinameno\n",
      "Fim do treinameno\n",
      "Fim do treinameno\n",
      "Fim do treinameno\n",
      "Fim do treinameno\n",
      "Fim do treinameno\n",
      "Fim do treinameno\n",
      "Fim do treinameno\n",
      "Fim do treinameno\n",
      "Fim do treinameno\n",
      "Fim do treinameno\n",
      "Fim do treinameno\n",
      "Fim do treinameno\n",
      "Fim do treinameno\n",
      "Fim do treinameno\n",
      "Fim do treinameno\n",
      "Fim do treinameno\n",
      "Fim do treinameno\n",
      "Fim do treinameno\n",
      "Fim do treinameno\n",
      "Fim do treinameno\n",
      "Fim do treinameno\n",
      "Fim do treinameno\n",
      "Fim do treinameno\n",
      "Fim do treinameno\n",
      "Fim do treinameno\n",
      "Fim do treinameno\n",
      "Fim do treinameno\n",
      "Fim do treinameno\n",
      "Fim do treinameno\n",
      "Fim do treinameno\n",
      "Fim do treinameno\n",
      "Fim do treinameno\n",
      "Fim do treinameno\n",
      "Fim do treinameno\n",
      "Fim do treinameno\n",
      "Fim do treinameno\n",
      "Fim do treinameno\n",
      "Fim do treinameno\n",
      "Fim do treinameno\n",
      "Fim do treinameno\n",
      "Fim do treinameno\n",
      "Fim do treinameno\n",
      "Fim do treinameno\n",
      "Fim do treinameno\n",
      "Fim do treinameno\n",
      "Fim do treinameno\n",
      "Fim do treinameno\n",
      "Fim do treinameno\n",
      "Fim do treinameno\n",
      "Fim do treinameno\n"
     ]
    },
    {
     "name": "stderr",
     "output_type": "stream",
     "text": [
      "/tmp/ipykernel_15807/3722597454.py:5: RuntimeWarning: overflow encountered in scalar add\n",
      "/tmp/ipykernel_15807/3722597454.py:5: RuntimeWarning: overflow encountered in scalar power\n",
      "/tmp/ipykernel_15807/3722597454.py:41: RuntimeWarning: overflow encountered in scalar subtract\n",
      "/tmp/ipykernel_15807/3722597454.py:39: RuntimeWarning: invalid value encountered in scalar add\n"
     ]
    },
    {
     "name": "stdout",
     "output_type": "stream",
     "text": [
      "Fim do treinameno\n",
      "Fim do treinameno\n",
      "Fim do treinameno\n",
      "Fim do treinameno\n",
      "Fim do treinameno\n",
      "Fim do treinameno\n",
      "Fim do treinameno\n",
      "Fim do treinameno\n"
     ]
    },
    {
     "name": "stderr",
     "output_type": "stream",
     "text": [
      "Realizando a Busca de Parâmetros por 20 iterações:  75%|███████▌  | 15/20 [8:02:14<3:31:07, 2533.46s/it]"
     ]
    },
    {
     "name": "stdout",
     "output_type": "stream",
     "text": [
      "Fim do treinameno\n"
     ]
    },
    {
     "name": "stderr",
     "output_type": "stream",
     "text": [
      "/home/guilhermemaciel/.local/lib/python3.10/site-packages/sklearn/model_selection/_validation.py:960: UserWarning: Scoring failed. The score on this train-test partition for these parameters will be set to nan. Details: \n",
      "Traceback (most recent call last):\n",
      "  File \"/home/guilhermemaciel/.local/lib/python3.10/site-packages/sklearn/model_selection/_validation.py\", line 949, in _score\n",
      "    scores = scorer(estimator, X_test, y_test, **score_params)\n",
      "  File \"/home/guilhermemaciel/.local/lib/python3.10/site-packages/sklearn/metrics/_scorer.py\", line 288, in __call__\n",
      "    return self._score(partial(_cached_call, None), estimator, X, y_true, **_kwargs)\n",
      "  File \"/home/guilhermemaciel/.local/lib/python3.10/site-packages/sklearn/metrics/_scorer.py\", line 380, in _score\n",
      "    y_pred = method_caller(\n",
      "  File \"/home/guilhermemaciel/.local/lib/python3.10/site-packages/sklearn/metrics/_scorer.py\", line 90, in _cached_call\n",
      "    result, _ = _get_response_values(\n",
      "  File \"/home/guilhermemaciel/.local/lib/python3.10/site-packages/sklearn/utils/_response.py\", line 235, in _get_response_values\n",
      "    raise ValueError(\n",
      "ValueError: LVQClassifier should either be a classifier to be used with response_method=decision_function or the response_method should be 'predict'. Got a regressor with response_method=decision_function instead.\n",
      "\n",
      "  warnings.warn(\n"
     ]
    },
    {
     "name": "stdout",
     "output_type": "stream",
     "text": [
      "Fim do treinameno\n"
     ]
    },
    {
     "name": "stderr",
     "output_type": "stream",
     "text": [
      "/home/guilhermemaciel/.local/lib/python3.10/site-packages/sklearn/model_selection/_validation.py:960: UserWarning: Scoring failed. The score on this train-test partition for these parameters will be set to nan. Details: \n",
      "Traceback (most recent call last):\n",
      "  File \"/home/guilhermemaciel/.local/lib/python3.10/site-packages/sklearn/model_selection/_validation.py\", line 949, in _score\n",
      "    scores = scorer(estimator, X_test, y_test, **score_params)\n",
      "  File \"/home/guilhermemaciel/.local/lib/python3.10/site-packages/sklearn/metrics/_scorer.py\", line 288, in __call__\n",
      "    return self._score(partial(_cached_call, None), estimator, X, y_true, **_kwargs)\n",
      "  File \"/home/guilhermemaciel/.local/lib/python3.10/site-packages/sklearn/metrics/_scorer.py\", line 380, in _score\n",
      "    y_pred = method_caller(\n",
      "  File \"/home/guilhermemaciel/.local/lib/python3.10/site-packages/sklearn/metrics/_scorer.py\", line 90, in _cached_call\n",
      "    result, _ = _get_response_values(\n",
      "  File \"/home/guilhermemaciel/.local/lib/python3.10/site-packages/sklearn/utils/_response.py\", line 235, in _get_response_values\n",
      "    raise ValueError(\n",
      "ValueError: LVQClassifier should either be a classifier to be used with response_method=decision_function or the response_method should be 'predict'. Got a regressor with response_method=decision_function instead.\n",
      "\n",
      "  warnings.warn(\n"
     ]
    },
    {
     "name": "stdout",
     "output_type": "stream",
     "text": [
      "Fim do treinameno\n"
     ]
    },
    {
     "name": "stderr",
     "output_type": "stream",
     "text": [
      "/home/guilhermemaciel/.local/lib/python3.10/site-packages/sklearn/model_selection/_validation.py:960: UserWarning: Scoring failed. The score on this train-test partition for these parameters will be set to nan. Details: \n",
      "Traceback (most recent call last):\n",
      "  File \"/home/guilhermemaciel/.local/lib/python3.10/site-packages/sklearn/model_selection/_validation.py\", line 949, in _score\n",
      "    scores = scorer(estimator, X_test, y_test, **score_params)\n",
      "  File \"/home/guilhermemaciel/.local/lib/python3.10/site-packages/sklearn/metrics/_scorer.py\", line 288, in __call__\n",
      "    return self._score(partial(_cached_call, None), estimator, X, y_true, **_kwargs)\n",
      "  File \"/home/guilhermemaciel/.local/lib/python3.10/site-packages/sklearn/metrics/_scorer.py\", line 380, in _score\n",
      "    y_pred = method_caller(\n",
      "  File \"/home/guilhermemaciel/.local/lib/python3.10/site-packages/sklearn/metrics/_scorer.py\", line 90, in _cached_call\n",
      "    result, _ = _get_response_values(\n",
      "  File \"/home/guilhermemaciel/.local/lib/python3.10/site-packages/sklearn/utils/_response.py\", line 235, in _get_response_values\n",
      "    raise ValueError(\n",
      "ValueError: LVQClassifier should either be a classifier to be used with response_method=decision_function or the response_method should be 'predict'. Got a regressor with response_method=decision_function instead.\n",
      "\n",
      "  warnings.warn(\n"
     ]
    },
    {
     "name": "stdout",
     "output_type": "stream",
     "text": [
      "Fim do treinameno\n"
     ]
    },
    {
     "name": "stderr",
     "output_type": "stream",
     "text": [
      "/home/guilhermemaciel/.local/lib/python3.10/site-packages/sklearn/model_selection/_validation.py:960: UserWarning: Scoring failed. The score on this train-test partition for these parameters will be set to nan. Details: \n",
      "Traceback (most recent call last):\n",
      "  File \"/home/guilhermemaciel/.local/lib/python3.10/site-packages/sklearn/model_selection/_validation.py\", line 949, in _score\n",
      "    scores = scorer(estimator, X_test, y_test, **score_params)\n",
      "  File \"/home/guilhermemaciel/.local/lib/python3.10/site-packages/sklearn/metrics/_scorer.py\", line 288, in __call__\n",
      "    return self._score(partial(_cached_call, None), estimator, X, y_true, **_kwargs)\n",
      "  File \"/home/guilhermemaciel/.local/lib/python3.10/site-packages/sklearn/metrics/_scorer.py\", line 380, in _score\n",
      "    y_pred = method_caller(\n",
      "  File \"/home/guilhermemaciel/.local/lib/python3.10/site-packages/sklearn/metrics/_scorer.py\", line 90, in _cached_call\n",
      "    result, _ = _get_response_values(\n",
      "  File \"/home/guilhermemaciel/.local/lib/python3.10/site-packages/sklearn/utils/_response.py\", line 235, in _get_response_values\n",
      "    raise ValueError(\n",
      "ValueError: LVQClassifier should either be a classifier to be used with response_method=decision_function or the response_method should be 'predict'. Got a regressor with response_method=decision_function instead.\n",
      "\n",
      "  warnings.warn(\n"
     ]
    },
    {
     "name": "stdout",
     "output_type": "stream",
     "text": [
      "Fim do treinameno\n",
      "Fim do treinameno\n"
     ]
    },
    {
     "name": "stderr",
     "output_type": "stream",
     "text": [
      "/home/guilhermemaciel/.local/lib/python3.10/site-packages/sklearn/model_selection/_validation.py:960: UserWarning: Scoring failed. The score on this train-test partition for these parameters will be set to nan. Details: \n",
      "Traceback (most recent call last):\n",
      "  File \"/home/guilhermemaciel/.local/lib/python3.10/site-packages/sklearn/model_selection/_validation.py\", line 949, in _score\n",
      "    scores = scorer(estimator, X_test, y_test, **score_params)\n",
      "  File \"/home/guilhermemaciel/.local/lib/python3.10/site-packages/sklearn/metrics/_scorer.py\", line 288, in __call__\n",
      "    return self._score(partial(_cached_call, None), estimator, X, y_true, **_kwargs)\n",
      "  File \"/home/guilhermemaciel/.local/lib/python3.10/site-packages/sklearn/metrics/_scorer.py\", line 380, in _score\n",
      "    y_pred = method_caller(\n",
      "  File \"/home/guilhermemaciel/.local/lib/python3.10/site-packages/sklearn/metrics/_scorer.py\", line 90, in _cached_call\n",
      "    result, _ = _get_response_values(\n",
      "  File \"/home/guilhermemaciel/.local/lib/python3.10/site-packages/sklearn/utils/_response.py\", line 235, in _get_response_values\n",
      "    raise ValueError(\n",
      "ValueError: LVQClassifier should either be a classifier to be used with response_method=decision_function or the response_method should be 'predict'. Got a regressor with response_method=decision_function instead.\n",
      "\n",
      "  warnings.warn(\n"
     ]
    },
    {
     "name": "stdout",
     "output_type": "stream",
     "text": [
      "Fim do treinameno\n",
      "Fim do treinameno\n",
      "Fim do treinameno\n",
      "Fim do treinameno\n",
      "Fim do treinameno\n"
     ]
    },
    {
     "name": "stderr",
     "output_type": "stream",
     "text": [
      "/home/guilhermemaciel/.local/lib/python3.10/site-packages/sklearn/model_selection/_validation.py:960: UserWarning: Scoring failed. The score on this train-test partition for these parameters will be set to nan. Details: \n",
      "Traceback (most recent call last):\n",
      "  File \"/home/guilhermemaciel/.local/lib/python3.10/site-packages/sklearn/model_selection/_validation.py\", line 949, in _score\n",
      "    scores = scorer(estimator, X_test, y_test, **score_params)\n",
      "  File \"/home/guilhermemaciel/.local/lib/python3.10/site-packages/sklearn/metrics/_scorer.py\", line 288, in __call__\n",
      "    return self._score(partial(_cached_call, None), estimator, X, y_true, **_kwargs)\n",
      "  File \"/home/guilhermemaciel/.local/lib/python3.10/site-packages/sklearn/metrics/_scorer.py\", line 380, in _score\n",
      "    y_pred = method_caller(\n",
      "  File \"/home/guilhermemaciel/.local/lib/python3.10/site-packages/sklearn/metrics/_scorer.py\", line 90, in _cached_call\n",
      "    result, _ = _get_response_values(\n",
      "  File \"/home/guilhermemaciel/.local/lib/python3.10/site-packages/sklearn/utils/_response.py\", line 235, in _get_response_values\n",
      "    raise ValueError(\n",
      "ValueError: LVQClassifier should either be a classifier to be used with response_method=decision_function or the response_method should be 'predict'. Got a regressor with response_method=decision_function instead.\n",
      "\n",
      "  warnings.warn(\n"
     ]
    },
    {
     "name": "stdout",
     "output_type": "stream",
     "text": [
      "Fim do treinameno\n"
     ]
    },
    {
     "name": "stderr",
     "output_type": "stream",
     "text": [
      "/home/guilhermemaciel/.local/lib/python3.10/site-packages/sklearn/model_selection/_validation.py:960: UserWarning: Scoring failed. The score on this train-test partition for these parameters will be set to nan. Details: \n",
      "Traceback (most recent call last):\n",
      "  File \"/home/guilhermemaciel/.local/lib/python3.10/site-packages/sklearn/model_selection/_validation.py\", line 949, in _score\n",
      "    scores = scorer(estimator, X_test, y_test, **score_params)\n",
      "  File \"/home/guilhermemaciel/.local/lib/python3.10/site-packages/sklearn/metrics/_scorer.py\", line 288, in __call__\n",
      "    return self._score(partial(_cached_call, None), estimator, X, y_true, **_kwargs)\n",
      "  File \"/home/guilhermemaciel/.local/lib/python3.10/site-packages/sklearn/metrics/_scorer.py\", line 380, in _score\n",
      "    y_pred = method_caller(\n",
      "  File \"/home/guilhermemaciel/.local/lib/python3.10/site-packages/sklearn/metrics/_scorer.py\", line 90, in _cached_call\n",
      "    result, _ = _get_response_values(\n",
      "  File \"/home/guilhermemaciel/.local/lib/python3.10/site-packages/sklearn/utils/_response.py\", line 235, in _get_response_values\n",
      "    raise ValueError(\n",
      "ValueError: LVQClassifier should either be a classifier to be used with response_method=decision_function or the response_method should be 'predict'. Got a regressor with response_method=decision_function instead.\n",
      "\n",
      "  warnings.warn(\n"
     ]
    },
    {
     "name": "stdout",
     "output_type": "stream",
     "text": [
      "Fim do treinameno\n"
     ]
    },
    {
     "name": "stderr",
     "output_type": "stream",
     "text": [
      "/home/guilhermemaciel/.local/lib/python3.10/site-packages/sklearn/model_selection/_validation.py:960: UserWarning: Scoring failed. The score on this train-test partition for these parameters will be set to nan. Details: \n",
      "Traceback (most recent call last):\n",
      "  File \"/home/guilhermemaciel/.local/lib/python3.10/site-packages/sklearn/model_selection/_validation.py\", line 949, in _score\n",
      "    scores = scorer(estimator, X_test, y_test, **score_params)\n",
      "  File \"/home/guilhermemaciel/.local/lib/python3.10/site-packages/sklearn/metrics/_scorer.py\", line 288, in __call__\n",
      "    return self._score(partial(_cached_call, None), estimator, X, y_true, **_kwargs)\n",
      "  File \"/home/guilhermemaciel/.local/lib/python3.10/site-packages/sklearn/metrics/_scorer.py\", line 380, in _score\n",
      "    y_pred = method_caller(\n",
      "  File \"/home/guilhermemaciel/.local/lib/python3.10/site-packages/sklearn/metrics/_scorer.py\", line 90, in _cached_call\n",
      "    result, _ = _get_response_values(\n",
      "  File \"/home/guilhermemaciel/.local/lib/python3.10/site-packages/sklearn/utils/_response.py\", line 235, in _get_response_values\n",
      "    raise ValueError(\n",
      "ValueError: LVQClassifier should either be a classifier to be used with response_method=decision_function or the response_method should be 'predict'. Got a regressor with response_method=decision_function instead.\n",
      "\n",
      "  warnings.warn(\n"
     ]
    },
    {
     "name": "stdout",
     "output_type": "stream",
     "text": [
      "Fim do treinameno\n",
      "Fim do treinameno\n",
      "Fim do treinameno\n",
      "Fim do treinameno\n",
      "Fim do treinameno\n",
      "Fim do treinameno\n",
      "Fim do treinameno\n",
      "Fim do treinameno\n",
      "Fim do treinameno\n",
      "Fim do treinameno\n",
      "Fim do treinameno\n",
      "Fim do treinameno\n",
      "Fim do treinameno\n",
      "Fim do treinameno\n",
      "Fim do treinameno\n",
      "Fim do treinameno\n",
      "Fim do treinameno\n",
      "Fim do treinameno\n",
      "Fim do treinameno\n",
      "Fim do treinameno\n",
      "Fim do treinameno\n",
      "Fim do treinameno\n",
      "Fim do treinameno\n",
      "Fim do treinameno\n",
      "Fim do treinameno\n",
      "Fim do treinameno\n",
      "Fim do treinameno\n",
      "Fim do treinameno\n",
      "Fim do treinameno\n",
      "Fim do treinameno\n",
      "Fim do treinameno\n",
      "Fim do treinameno\n",
      "Fim do treinameno\n",
      "Fim do treinameno\n",
      "Fim do treinameno\n",
      "Fim do treinameno\n",
      "Fim do treinameno\n",
      "Fim do treinameno\n",
      "Fim do treinameno\n",
      "Fim do treinameno\n",
      "Fim do treinameno\n",
      "Fim do treinameno\n",
      "Fim do treinameno\n",
      "Fim do treinameno\n",
      "Fim do treinameno\n",
      "Fim do treinameno\n",
      "Fim do treinameno\n",
      "Fim do treinameno\n",
      "Fim do treinameno\n",
      "Fim do treinameno\n",
      "Fim do treinameno\n",
      "Fim do treinameno\n",
      "Fim do treinameno\n",
      "Fim do treinameno\n",
      "Fim do treinameno\n",
      "Fim do treinameno\n",
      "Fim do treinameno\n",
      "Fim do treinameno\n",
      "Fim do treinameno\n",
      "Fim do treinameno\n",
      "Fim do treinameno\n",
      "Fim do treinameno\n",
      "Fim do treinameno\n",
      "Fim do treinameno\n",
      "Fim do treinameno\n",
      "Fim do treinameno\n",
      "Fim do treinameno\n",
      "Fim do treinameno\n",
      "Fim do treinameno\n",
      "Fim do treinameno\n",
      "Fim do treinameno\n",
      "Fim do treinameno\n",
      "Fim do treinameno\n",
      "Fim do treinameno\n",
      "Fim do treinameno\n",
      "Fim do treinameno\n",
      "Fim do treinameno\n",
      "Fim do treinameno\n",
      "Fim do treinameno\n",
      "Fim do treinameno\n",
      "Fim do treinameno\n",
      "Fim do treinameno\n",
      "Fim do treinameno\n",
      "Fim do treinameno\n",
      "Fim do treinameno\n",
      "Fim do treinameno\n",
      "Fim do treinameno\n",
      "Fim do treinameno\n"
     ]
    },
    {
     "name": "stderr",
     "output_type": "stream",
     "text": [
      "Realizando a Busca de Parâmetros por 20 iterações:  80%|████████  | 16/20 [8:45:48<2:50:31, 2557.80s/it]"
     ]
    },
    {
     "name": "stdout",
     "output_type": "stream",
     "text": [
      "Fim do treinameno\n",
      "Fim do treinameno\n",
      "Fim do treinameno\n",
      "Fim do treinameno\n",
      "Fim do treinameno\n",
      "Fim do treinameno\n",
      "Fim do treinameno\n",
      "Fim do treinameno\n",
      "Fim do treinameno\n",
      "Fim do treinameno\n",
      "Fim do treinameno\n",
      "Fim do treinameno\n",
      "Fim do treinameno\n",
      "Fim do treinameno\n",
      "Fim do treinameno\n",
      "Fim do treinameno\n",
      "Fim do treinameno\n",
      "Fim do treinameno\n",
      "Fim do treinameno\n",
      "Fim do treinameno\n",
      "Fim do treinameno\n",
      "Fim do treinameno\n",
      "Fim do treinameno\n",
      "Fim do treinameno\n",
      "Fim do treinameno\n",
      "Fim do treinameno\n",
      "Fim do treinameno\n",
      "Fim do treinameno\n",
      "Fim do treinameno\n",
      "Fim do treinameno\n",
      "Fim do treinameno\n",
      "Fim do treinameno\n",
      "Fim do treinameno\n",
      "Fim do treinameno\n",
      "Fim do treinameno\n",
      "Fim do treinameno\n",
      "Fim do treinameno\n",
      "Fim do treinameno\n",
      "Fim do treinameno\n",
      "Fim do treinameno\n",
      "Fim do treinameno\n",
      "Fim do treinameno\n",
      "Fim do treinameno\n",
      "Fim do treinameno\n",
      "Fim do treinameno\n",
      "Fim do treinameno\n",
      "Fim do treinameno\n",
      "Fim do treinameno\n",
      "Fim do treinameno\n",
      "Fim do treinameno\n",
      "Fim do treinameno\n",
      "Fim do treinameno\n",
      "Fim do treinameno\n",
      "Fim do treinameno\n",
      "Fim do treinameno\n",
      "Fim do treinameno\n",
      "Fim do treinameno\n",
      "Fim do treinameno\n",
      "Fim do treinameno\n",
      "Fim do treinameno\n",
      "Fim do treinameno\n",
      "Fim do treinameno\n",
      "Fim do treinameno\n",
      "Fim do treinameno\n",
      "Fim do treinameno\n",
      "Fim do treinameno\n",
      "Fim do treinameno\n",
      "Fim do treinameno\n",
      "Fim do treinameno\n",
      "Fim do treinameno\n",
      "Fim do treinameno\n",
      "Fim do treinameno\n",
      "Fim do treinameno\n",
      "Fim do treinameno\n",
      "Fim do treinameno\n",
      "Fim do treinameno\n",
      "Fim do treinameno\n",
      "Fim do treinameno\n",
      "Fim do treinameno\n",
      "Fim do treinameno\n",
      "Fim do treinameno\n",
      "Fim do treinameno\n",
      "Fim do treinameno\n",
      "Fim do treinameno\n",
      "Fim do treinameno\n",
      "Fim do treinameno\n",
      "Fim do treinameno\n",
      "Fim do treinameno\n",
      "Fim do treinameno\n",
      "Fim do treinameno\n",
      "Fim do treinameno\n",
      "Fim do treinameno\n",
      "Fim do treinameno\n",
      "Fim do treinameno\n",
      "Fim do treinameno\n",
      "Fim do treinameno\n",
      "Fim do treinameno\n",
      "Fim do treinameno\n",
      "Fim do treinameno\n",
      "Fim do treinameno\n",
      "Fim do treinameno\n"
     ]
    },
    {
     "name": "stderr",
     "output_type": "stream",
     "text": [
      "Realizando a Busca de Parâmetros por 20 iterações:  85%|████████▌ | 17/20 [8:59:24<1:41:42, 2034.00s/it]"
     ]
    },
    {
     "name": "stdout",
     "output_type": "stream",
     "text": [
      "Fim do treinameno\n",
      "Fim do treinameno\n",
      "Fim do treinameno\n",
      "Fim do treinameno\n",
      "Fim do treinameno\n",
      "Fim do treinameno\n",
      "Fim do treinameno\n",
      "Fim do treinameno\n",
      "Fim do treinameno\n",
      "Fim do treinameno\n",
      "Fim do treinameno\n",
      "Fim do treinameno\n",
      "Fim do treinameno\n",
      "Fim do treinameno\n",
      "Fim do treinameno\n",
      "Fim do treinameno\n",
      "Fim do treinameno\n",
      "Fim do treinameno\n",
      "Fim do treinameno\n",
      "Fim do treinameno\n",
      "Fim do treinameno\n",
      "Fim do treinameno\n",
      "Fim do treinameno\n",
      "Fim do treinameno\n",
      "Fim do treinameno\n",
      "Fim do treinameno\n",
      "Fim do treinameno\n",
      "Fim do treinameno\n",
      "Fim do treinameno\n",
      "Fim do treinameno\n",
      "Fim do treinameno\n",
      "Fim do treinameno\n",
      "Fim do treinameno\n",
      "Fim do treinameno\n",
      "Fim do treinameno\n",
      "Fim do treinameno\n",
      "Fim do treinameno\n",
      "Fim do treinameno\n",
      "Fim do treinameno\n",
      "Fim do treinameno\n",
      "Fim do treinameno\n",
      "Fim do treinameno\n",
      "Fim do treinameno\n",
      "Fim do treinameno\n",
      "Fim do treinameno\n",
      "Fim do treinameno\n",
      "Fim do treinameno\n",
      "Fim do treinameno\n",
      "Fim do treinameno\n",
      "Fim do treinameno\n",
      "Fim do treinameno\n",
      "Fim do treinameno\n",
      "Fim do treinameno\n",
      "Fim do treinameno\n",
      "Fim do treinameno\n",
      "Fim do treinameno\n",
      "Fim do treinameno\n",
      "Fim do treinameno\n",
      "Fim do treinameno\n",
      "Fim do treinameno\n",
      "Fim do treinameno\n",
      "Fim do treinameno\n",
      "Fim do treinameno\n",
      "Fim do treinameno\n",
      "Fim do treinameno\n",
      "Fim do treinameno\n",
      "Fim do treinameno\n",
      "Fim do treinameno\n",
      "Fim do treinameno\n",
      "Fim do treinameno\n",
      "Fim do treinameno\n",
      "Fim do treinameno\n",
      "Fim do treinameno\n",
      "Fim do treinameno\n",
      "Fim do treinameno\n",
      "Fim do treinameno\n",
      "Fim do treinameno\n",
      "Fim do treinameno\n",
      "Fim do treinameno\n",
      "Fim do treinameno\n",
      "Fim do treinameno\n",
      "Fim do treinameno\n",
      "Fim do treinameno\n",
      "Fim do treinameno\n",
      "Fim do treinameno\n",
      "Fim do treinameno\n",
      "Fim do treinameno\n",
      "Fim do treinameno\n",
      "Fim do treinameno\n",
      "Fim do treinameno\n",
      "Fim do treinameno\n",
      "Fim do treinameno\n",
      "Fim do treinameno\n",
      "Fim do treinameno\n",
      "Fim do treinameno\n",
      "Fim do treinameno\n",
      "Fim do treinameno\n",
      "Fim do treinameno\n",
      "Fim do treinameno\n",
      "Fim do treinameno\n",
      "Fim do treinameno\n"
     ]
    },
    {
     "name": "stderr",
     "output_type": "stream",
     "text": [
      "Realizando a Busca de Parâmetros por 20 iterações:  90%|█████████ | 18/20 [9:28:30<1:04:54, 1947.30s/it]"
     ]
    },
    {
     "name": "stdout",
     "output_type": "stream",
     "text": [
      "Fim do treinameno\n",
      "Fim do treinameno\n"
     ]
    },
    {
     "name": "stderr",
     "output_type": "stream",
     "text": [
      "/home/guilhermemaciel/.local/lib/python3.10/site-packages/sklearn/model_selection/_validation.py:960: UserWarning: Scoring failed. The score on this train-test partition for these parameters will be set to nan. Details: \n",
      "Traceback (most recent call last):\n",
      "  File \"/home/guilhermemaciel/.local/lib/python3.10/site-packages/sklearn/model_selection/_validation.py\", line 949, in _score\n",
      "    scores = scorer(estimator, X_test, y_test, **score_params)\n",
      "  File \"/home/guilhermemaciel/.local/lib/python3.10/site-packages/sklearn/metrics/_scorer.py\", line 288, in __call__\n",
      "    return self._score(partial(_cached_call, None), estimator, X, y_true, **_kwargs)\n",
      "  File \"/home/guilhermemaciel/.local/lib/python3.10/site-packages/sklearn/metrics/_scorer.py\", line 380, in _score\n",
      "    y_pred = method_caller(\n",
      "  File \"/home/guilhermemaciel/.local/lib/python3.10/site-packages/sklearn/metrics/_scorer.py\", line 90, in _cached_call\n",
      "    result, _ = _get_response_values(\n",
      "  File \"/home/guilhermemaciel/.local/lib/python3.10/site-packages/sklearn/utils/_response.py\", line 235, in _get_response_values\n",
      "    raise ValueError(\n",
      "ValueError: LVQClassifier should either be a classifier to be used with response_method=decision_function or the response_method should be 'predict'. Got a regressor with response_method=decision_function instead.\n",
      "\n",
      "  warnings.warn(\n",
      "/home/guilhermemaciel/.local/lib/python3.10/site-packages/sklearn/model_selection/_validation.py:960: UserWarning: Scoring failed. The score on this train-test partition for these parameters will be set to nan. Details: \n",
      "Traceback (most recent call last):\n",
      "  File \"/home/guilhermemaciel/.local/lib/python3.10/site-packages/sklearn/model_selection/_validation.py\", line 949, in _score\n",
      "    scores = scorer(estimator, X_test, y_test, **score_params)\n",
      "  File \"/home/guilhermemaciel/.local/lib/python3.10/site-packages/sklearn/metrics/_scorer.py\", line 288, in __call__\n",
      "    return self._score(partial(_cached_call, None), estimator, X, y_true, **_kwargs)\n",
      "  File \"/home/guilhermemaciel/.local/lib/python3.10/site-packages/sklearn/metrics/_scorer.py\", line 380, in _score\n",
      "    y_pred = method_caller(\n",
      "  File \"/home/guilhermemaciel/.local/lib/python3.10/site-packages/sklearn/metrics/_scorer.py\", line 90, in _cached_call\n",
      "    result, _ = _get_response_values(\n",
      "  File \"/home/guilhermemaciel/.local/lib/python3.10/site-packages/sklearn/utils/_response.py\", line 235, in _get_response_values\n",
      "    raise ValueError(\n",
      "ValueError: LVQClassifier should either be a classifier to be used with response_method=decision_function or the response_method should be 'predict'. Got a regressor with response_method=decision_function instead.\n",
      "\n",
      "  warnings.warn(\n"
     ]
    },
    {
     "name": "stdout",
     "output_type": "stream",
     "text": [
      "Fim do treinameno\n"
     ]
    },
    {
     "name": "stderr",
     "output_type": "stream",
     "text": [
      "/home/guilhermemaciel/.local/lib/python3.10/site-packages/sklearn/model_selection/_validation.py:960: UserWarning: Scoring failed. The score on this train-test partition for these parameters will be set to nan. Details: \n",
      "Traceback (most recent call last):\n",
      "  File \"/home/guilhermemaciel/.local/lib/python3.10/site-packages/sklearn/model_selection/_validation.py\", line 949, in _score\n",
      "    scores = scorer(estimator, X_test, y_test, **score_params)\n",
      "  File \"/home/guilhermemaciel/.local/lib/python3.10/site-packages/sklearn/metrics/_scorer.py\", line 288, in __call__\n",
      "    return self._score(partial(_cached_call, None), estimator, X, y_true, **_kwargs)\n",
      "  File \"/home/guilhermemaciel/.local/lib/python3.10/site-packages/sklearn/metrics/_scorer.py\", line 380, in _score\n",
      "    y_pred = method_caller(\n",
      "  File \"/home/guilhermemaciel/.local/lib/python3.10/site-packages/sklearn/metrics/_scorer.py\", line 90, in _cached_call\n",
      "    result, _ = _get_response_values(\n",
      "  File \"/home/guilhermemaciel/.local/lib/python3.10/site-packages/sklearn/utils/_response.py\", line 235, in _get_response_values\n",
      "    raise ValueError(\n",
      "ValueError: LVQClassifier should either be a classifier to be used with response_method=decision_function or the response_method should be 'predict'. Got a regressor with response_method=decision_function instead.\n",
      "\n",
      "  warnings.warn(\n"
     ]
    },
    {
     "name": "stdout",
     "output_type": "stream",
     "text": [
      "Fim do treinameno\n",
      "Fim do treinameno\n",
      "Fim do treinameno\n",
      "Fim do treinameno\n",
      "Fim do treinameno\n",
      "Fim do treinameno\n",
      "Fim do treinameno\n",
      "Fim do treinameno\n",
      "Fim do treinameno\n",
      "Fim do treinameno\n",
      "Fim do treinameno\n",
      "Fim do treinameno\n",
      "Fim do treinameno\n",
      "Fim do treinameno\n",
      "Fim do treinameno\n",
      "Fim do treinameno\n",
      "Fim do treinameno\n",
      "Fim do treinameno\n",
      "Fim do treinameno\n",
      "Fim do treinameno\n",
      "Fim do treinameno\n",
      "Fim do treinameno\n",
      "Fim do treinameno\n",
      "Fim do treinameno\n",
      "Fim do treinameno\n",
      "Fim do treinameno\n",
      "Fim do treinameno\n",
      "Fim do treinameno\n",
      "Fim do treinameno\n",
      "Fim do treinameno\n",
      "Fim do treinameno\n",
      "Fim do treinameno\n",
      "Fim do treinameno\n",
      "Fim do treinameno\n",
      "Fim do treinameno\n",
      "Fim do treinameno\n",
      "Fim do treinameno\n",
      "Fim do treinameno\n",
      "Fim do treinameno\n",
      "Fim do treinameno\n",
      "Fim do treinameno\n",
      "Fim do treinameno\n",
      "Fim do treinameno\n",
      "Fim do treinameno\n",
      "Fim do treinameno\n",
      "Fim do treinameno\n",
      "Fim do treinameno\n",
      "Fim do treinameno\n",
      "Fim do treinameno\n",
      "Fim do treinameno\n",
      "Fim do treinameno\n",
      "Fim do treinameno\n",
      "Fim do treinameno\n",
      "Fim do treinameno\n",
      "Fim do treinameno\n",
      "Fim do treinameno\n",
      "Fim do treinameno\n",
      "Fim do treinameno\n",
      "Fim do treinameno\n",
      "Fim do treinameno\n",
      "Fim do treinameno\n",
      "Fim do treinameno\n",
      "Fim do treinameno\n",
      "Fim do treinameno\n",
      "Fim do treinameno\n",
      "Fim do treinameno\n",
      "Fim do treinameno\n",
      "Fim do treinameno\n",
      "Fim do treinameno\n",
      "Fim do treinameno\n",
      "Fim do treinameno\n",
      "Fim do treinameno\n",
      "Fim do treinameno\n",
      "Fim do treinameno\n",
      "Fim do treinameno\n",
      "Fim do treinameno\n",
      "Fim do treinameno\n",
      "Fim do treinameno\n",
      "Fim do treinameno\n",
      "Fim do treinameno\n",
      "Fim do treinameno\n",
      "Fim do treinameno\n",
      "Fim do treinameno\n",
      "Fim do treinameno\n",
      "Fim do treinameno\n",
      "Fim do treinameno\n",
      "Fim do treinameno\n",
      "Fim do treinameno\n",
      "Fim do treinameno\n",
      "Fim do treinameno\n",
      "Fim do treinameno\n",
      "Fim do treinameno\n",
      "Fim do treinameno\n",
      "Fim do treinameno\n",
      "Fim do treinameno\n",
      "Fim do treinameno\n",
      "Fim do treinameno\n",
      "Fim do treinameno\n"
     ]
    },
    {
     "name": "stderr",
     "output_type": "stream",
     "text": [
      "Realizando a Busca de Parâmetros por 20 iterações:  95%|█████████▌| 19/20 [9:51:31<29:37, 1777.22s/it]  "
     ]
    },
    {
     "name": "stdout",
     "output_type": "stream",
     "text": [
      "Fim do treinameno\n",
      "Fim do treinameno\n",
      "Fim do treinameno\n",
      "Fim do treinameno\n",
      "Fim do treinameno\n",
      "Fim do treinameno\n",
      "Fim do treinameno\n",
      "Fim do treinameno\n",
      "Fim do treinameno\n",
      "Fim do treinameno\n",
      "Fim do treinameno\n",
      "Fim do treinameno\n",
      "Fim do treinameno\n",
      "Fim do treinameno\n",
      "Fim do treinameno\n",
      "Fim do treinameno\n"
     ]
    },
    {
     "name": "stderr",
     "output_type": "stream",
     "text": [
      "/home/guilhermemaciel/.local/lib/python3.10/site-packages/sklearn/model_selection/_validation.py:960: UserWarning: Scoring failed. The score on this train-test partition for these parameters will be set to nan. Details: \n",
      "Traceback (most recent call last):\n",
      "  File \"/home/guilhermemaciel/.local/lib/python3.10/site-packages/sklearn/model_selection/_validation.py\", line 949, in _score\n",
      "    scores = scorer(estimator, X_test, y_test, **score_params)\n",
      "  File \"/home/guilhermemaciel/.local/lib/python3.10/site-packages/sklearn/metrics/_scorer.py\", line 288, in __call__\n",
      "    return self._score(partial(_cached_call, None), estimator, X, y_true, **_kwargs)\n",
      "  File \"/home/guilhermemaciel/.local/lib/python3.10/site-packages/sklearn/metrics/_scorer.py\", line 380, in _score\n",
      "    y_pred = method_caller(\n",
      "  File \"/home/guilhermemaciel/.local/lib/python3.10/site-packages/sklearn/metrics/_scorer.py\", line 90, in _cached_call\n",
      "    result, _ = _get_response_values(\n",
      "  File \"/home/guilhermemaciel/.local/lib/python3.10/site-packages/sklearn/utils/_response.py\", line 235, in _get_response_values\n",
      "    raise ValueError(\n",
      "ValueError: LVQClassifier should either be a classifier to be used with response_method=decision_function or the response_method should be 'predict'. Got a regressor with response_method=decision_function instead.\n",
      "\n",
      "  warnings.warn(\n"
     ]
    },
    {
     "name": "stdout",
     "output_type": "stream",
     "text": [
      "Fim do treinameno\n",
      "Fim do treinameno\n",
      "Fim do treinameno\n",
      "Fim do treinameno\n",
      "Fim do treinameno\n",
      "Fim do treinameno\n",
      "Fim do treinameno\n",
      "Fim do treinameno\n",
      "Fim do treinameno\n",
      "Fim do treinameno\n",
      "Fim do treinameno\n",
      "Fim do treinameno\n",
      "Fim do treinameno\n",
      "Fim do treinameno\n",
      "Fim do treinameno\n",
      "Fim do treinameno\n",
      "Fim do treinameno\n",
      "Fim do treinameno\n",
      "Fim do treinameno\n",
      "Fim do treinameno\n",
      "Fim do treinameno\n",
      "Fim do treinameno\n",
      "Fim do treinameno\n",
      "Fim do treinameno\n",
      "Fim do treinameno\n",
      "Fim do treinameno\n",
      "Fim do treinameno\n",
      "Fim do treinameno\n",
      "Fim do treinameno\n",
      "Fim do treinameno\n",
      "Fim do treinameno\n",
      "Fim do treinameno\n",
      "Fim do treinameno\n",
      "Fim do treinameno\n",
      "Fim do treinameno\n",
      "Fim do treinameno\n",
      "Fim do treinameno\n",
      "Fim do treinameno\n",
      "Fim do treinameno\n",
      "Fim do treinameno\n",
      "Fim do treinameno\n",
      "Fim do treinameno\n",
      "Fim do treinameno\n",
      "Fim do treinameno\n",
      "Fim do treinameno\n",
      "Fim do treinameno\n",
      "Fim do treinameno\n",
      "Fim do treinameno\n",
      "Fim do treinameno\n",
      "Fim do treinameno\n",
      "Fim do treinameno\n",
      "Fim do treinameno\n",
      "Fim do treinameno\n",
      "Fim do treinameno\n",
      "Fim do treinameno\n",
      "Fim do treinameno\n",
      "Fim do treinameno\n",
      "Fim do treinameno\n",
      "Fim do treinameno\n",
      "Fim do treinameno\n",
      "Fim do treinameno\n",
      "Fim do treinameno\n",
      "Fim do treinameno\n",
      "Fim do treinameno\n",
      "Fim do treinameno\n",
      "Fim do treinameno\n",
      "Fim do treinameno\n",
      "Fim do treinameno\n",
      "Fim do treinameno\n",
      "Fim do treinameno\n",
      "Fim do treinameno\n",
      "Fim do treinameno\n",
      "Fim do treinameno\n",
      "Fim do treinameno\n",
      "Fim do treinameno\n",
      "Fim do treinameno\n",
      "Fim do treinameno\n",
      "Fim do treinameno\n",
      "Fim do treinameno\n",
      "Fim do treinameno\n",
      "Fim do treinameno\n",
      "Fim do treinameno\n",
      "Fim do treinameno\n",
      "Fim do treinameno\n",
      "Fim do treinameno\n"
     ]
    },
    {
     "name": "stderr",
     "output_type": "stream",
     "text": [
      "Realizando a Busca de Parâmetros por 20 iterações: 100%|██████████| 20/20 [10:16:54<00:00, 1850.74s/it]\n"
     ]
    },
    {
     "data": {
      "text/html": [
       "<div>\n",
       "<style scoped>\n",
       "    .dataframe tbody tr th:only-of-type {\n",
       "        vertical-align: middle;\n",
       "    }\n",
       "\n",
       "    .dataframe tbody tr th {\n",
       "        vertical-align: top;\n",
       "    }\n",
       "\n",
       "    .dataframe thead th {\n",
       "        text-align: right;\n",
       "    }\n",
       "</style>\n",
       "<table border=\"1\" class=\"dataframe\">\n",
       "  <thead>\n",
       "    <tr style=\"text-align: right;\">\n",
       "      <th></th>\n",
       "      <th>params</th>\n",
       "      <th>score</th>\n",
       "      <th>model_time</th>\n",
       "      <th>accuracy_train</th>\n",
       "      <th>accuracy_val</th>\n",
       "      <th>accuracy_test</th>\n",
       "      <th>f1_score</th>\n",
       "      <th>recall</th>\n",
       "      <th>auc</th>\n",
       "      <th>fpr</th>\n",
       "      <th>tpr</th>\n",
       "      <th>model_path</th>\n",
       "    </tr>\n",
       "  </thead>\n",
       "  <tbody>\n",
       "    <tr>\n",
       "      <th>0</th>\n",
       "      <td>{'n_codebooks': 30, 'lrate': 0.1, 'epochs': 100}</td>\n",
       "      <td>NaN</td>\n",
       "      <td>140.326295</td>\n",
       "      <td>0.691973</td>\n",
       "      <td>0.692087</td>\n",
       "      <td>0.690010</td>\n",
       "      <td>0.617742</td>\n",
       "      <td>0.613943</td>\n",
       "      <td>0.678186</td>\n",
       "      <td>[0.0, 0.25756964069438837, 1.0]</td>\n",
       "      <td>[0.0, 0.6139425893380199, 1.0]</td>\n",
       "      <td>./models/lvq/0.pkl</td>\n",
       "    </tr>\n",
       "    <tr>\n",
       "      <th>1</th>\n",
       "      <td>{'n_codebooks': 50, 'lrate': 0.05, 'epochs': 2}</td>\n",
       "      <td>NaN</td>\n",
       "      <td>4.824263</td>\n",
       "      <td>0.684391</td>\n",
       "      <td>0.682525</td>\n",
       "      <td>0.680927</td>\n",
       "      <td>0.575517</td>\n",
       "      <td>0.530170</td>\n",
       "      <td>0.657495</td>\n",
       "      <td>[0.0, 0.21517965280581347, 1.0]</td>\n",
       "      <td>[0.0, 0.5301698886936145, 1.0]</td>\n",
       "      <td>./models/lvq/1.pkl</td>\n",
       "    </tr>\n",
       "    <tr>\n",
       "      <th>2</th>\n",
       "      <td>{'n_codebooks': 5, 'lrate': 0.01, 'epochs': 20}</td>\n",
       "      <td>NaN</td>\n",
       "      <td>5.776161</td>\n",
       "      <td>0.621280</td>\n",
       "      <td>0.610328</td>\n",
       "      <td>0.626195</td>\n",
       "      <td>0.441029</td>\n",
       "      <td>0.361453</td>\n",
       "      <td>0.585046</td>\n",
       "      <td>[0.0, 0.19136051675413807, 1.0]</td>\n",
       "      <td>[0.0, 0.36145284124194493, 1.0]</td>\n",
       "      <td>./models/lvq/2.pkl</td>\n",
       "    </tr>\n",
       "    <tr>\n",
       "      <th>3</th>\n",
       "      <td>{'n_codebooks': 5, 'lrate': 0.05, 'epochs': 50}</td>\n",
       "      <td>NaN</td>\n",
       "      <td>14.294660</td>\n",
       "      <td>0.595871</td>\n",
       "      <td>0.591681</td>\n",
       "      <td>0.597275</td>\n",
       "      <td>0.465927</td>\n",
       "      <td>0.430580</td>\n",
       "      <td>0.571366</td>\n",
       "      <td>[0.0, 0.28784820347194184, 1.0]</td>\n",
       "      <td>[0.0, 0.4305799648506151, 1.0]</td>\n",
       "      <td>./models/lvq/3.pkl</td>\n",
       "    </tr>\n",
       "    <tr>\n",
       "      <th>4</th>\n",
       "      <td>{'n_codebooks': 10, 'lrate': 0.05, 'epochs': 2}</td>\n",
       "      <td>NaN</td>\n",
       "      <td>1.042939</td>\n",
       "      <td>0.637928</td>\n",
       "      <td>0.635429</td>\n",
       "      <td>0.637906</td>\n",
       "      <td>0.421093</td>\n",
       "      <td>0.322789</td>\n",
       "      <td>0.588928</td>\n",
       "      <td>[0.0, 0.1449333871618894, 1.0]</td>\n",
       "      <td>[0.0, 0.322788517867604, 1.0]</td>\n",
       "      <td>./models/lvq/4.pkl</td>\n",
       "    </tr>\n",
       "    <tr>\n",
       "      <th>5</th>\n",
       "      <td>{'n_codebooks': 100, 'lrate': 0.01, 'epochs': 2}</td>\n",
       "      <td>NaN</td>\n",
       "      <td>9.301427</td>\n",
       "      <td>0.677732</td>\n",
       "      <td>0.672723</td>\n",
       "      <td>0.670411</td>\n",
       "      <td>0.593575</td>\n",
       "      <td>0.589924</td>\n",
       "      <td>0.657901</td>\n",
       "      <td>[0.0, 0.27412192167945093, 1.0]</td>\n",
       "      <td>[0.0, 0.5899238429994141, 1.0]</td>\n",
       "      <td>./models/lvq/5.pkl</td>\n",
       "    </tr>\n",
       "    <tr>\n",
       "      <th>6</th>\n",
       "      <td>{'n_codebooks': 50, 'lrate': 0.1, 'epochs': 100}</td>\n",
       "      <td>NaN</td>\n",
       "      <td>232.244040</td>\n",
       "      <td>0.697095</td>\n",
       "      <td>0.691609</td>\n",
       "      <td>0.696224</td>\n",
       "      <td>0.631274</td>\n",
       "      <td>0.637376</td>\n",
       "      <td>0.687077</td>\n",
       "      <td>[0.0, 0.26322163907953167, 1.0]</td>\n",
       "      <td>[0.0, 0.6373755125951962, 1.0]</td>\n",
       "      <td>./models/lvq/6.pkl</td>\n",
       "    </tr>\n",
       "    <tr>\n",
       "      <th>7</th>\n",
       "      <td>{'n_codebooks': 5, 'lrate': 0.01, 'epochs': 20}</td>\n",
       "      <td>NaN</td>\n",
       "      <td>5.703035</td>\n",
       "      <td>0.582142</td>\n",
       "      <td>0.578293</td>\n",
       "      <td>0.592017</td>\n",
       "      <td>0.000000</td>\n",
       "      <td>0.000000</td>\n",
       "      <td>0.500000</td>\n",
       "      <td>[0.0, 1.0]</td>\n",
       "      <td>[0.0, 1.0]</td>\n",
       "      <td>./models/lvq/7.pkl</td>\n",
       "    </tr>\n",
       "    <tr>\n",
       "      <th>8</th>\n",
       "      <td>{'n_codebooks': 30, 'lrate': 0.05, 'epochs': 20}</td>\n",
       "      <td>NaN</td>\n",
       "      <td>28.308486</td>\n",
       "      <td>0.663337</td>\n",
       "      <td>0.654793</td>\n",
       "      <td>0.663480</td>\n",
       "      <td>0.543154</td>\n",
       "      <td>0.490334</td>\n",
       "      <td>0.636568</td>\n",
       "      <td>[0.0, 0.21719822365765037, 1.0]</td>\n",
       "      <td>[0.0, 0.4903339191564148, 1.0]</td>\n",
       "      <td>./models/lvq/8.pkl</td>\n",
       "    </tr>\n",
       "    <tr>\n",
       "      <th>9</th>\n",
       "      <td>{'n_codebooks': 50, 'lrate': 0.1, 'epochs': 2}</td>\n",
       "      <td>NaN</td>\n",
       "      <td>4.749943</td>\n",
       "      <td>0.694944</td>\n",
       "      <td>0.685632</td>\n",
       "      <td>0.686424</td>\n",
       "      <td>0.586381</td>\n",
       "      <td>0.544815</td>\n",
       "      <td>0.664414</td>\n",
       "      <td>[0.0, 0.21598708114654824, 1.0]</td>\n",
       "      <td>[0.0, 0.5448154657293497, 1.0]</td>\n",
       "      <td>./models/lvq/9.pkl</td>\n",
       "    </tr>\n",
       "    <tr>\n",
       "      <th>10</th>\n",
       "      <td>{'n_codebooks': 100, 'lrate': 0.1, 'epochs': 2}</td>\n",
       "      <td>NaN</td>\n",
       "      <td>9.322526</td>\n",
       "      <td>0.708468</td>\n",
       "      <td>0.699020</td>\n",
       "      <td>0.698136</td>\n",
       "      <td>0.631241</td>\n",
       "      <td>0.633275</td>\n",
       "      <td>0.688054</td>\n",
       "      <td>[0.0, 0.257165926524021, 1.0]</td>\n",
       "      <td>[0.0, 0.6332747510251904, 1.0]</td>\n",
       "      <td>./models/lvq/10.pkl</td>\n",
       "    </tr>\n",
       "    <tr>\n",
       "      <th>11</th>\n",
       "      <td>{'n_codebooks': 50, 'lrate': 0.5, 'epochs': 100}</td>\n",
       "      <td>NaN</td>\n",
       "      <td>232.680595</td>\n",
       "      <td>0.582142</td>\n",
       "      <td>0.578293</td>\n",
       "      <td>0.592017</td>\n",
       "      <td>0.000000</td>\n",
       "      <td>0.000000</td>\n",
       "      <td>0.500000</td>\n",
       "      <td>[0.0, 1.0]</td>\n",
       "      <td>[0.0, 1.0]</td>\n",
       "      <td>./models/lvq/11.pkl</td>\n",
       "    </tr>\n",
       "    <tr>\n",
       "      <th>12</th>\n",
       "      <td>{'n_codebooks': 50, 'lrate': 0.01, 'epochs': 20}</td>\n",
       "      <td>NaN</td>\n",
       "      <td>47.184436</td>\n",
       "      <td>0.697608</td>\n",
       "      <td>0.694956</td>\n",
       "      <td>0.692639</td>\n",
       "      <td>0.614277</td>\n",
       "      <td>0.599883</td>\n",
       "      <td>0.678222</td>\n",
       "      <td>[0.0, 0.24343964473153007, 1.0]</td>\n",
       "      <td>[0.0, 0.5998828353837141, 1.0]</td>\n",
       "      <td>./models/lvq/12.pkl</td>\n",
       "    </tr>\n",
       "    <tr>\n",
       "      <th>13</th>\n",
       "      <td>{'n_codebooks': 30, 'lrate': 0.5, 'epochs': 2}</td>\n",
       "      <td>NaN</td>\n",
       "      <td>2.899721</td>\n",
       "      <td>0.582142</td>\n",
       "      <td>0.578293</td>\n",
       "      <td>0.592017</td>\n",
       "      <td>0.000000</td>\n",
       "      <td>0.000000</td>\n",
       "      <td>0.500000</td>\n",
       "      <td>[0.0, 1.0]</td>\n",
       "      <td>[0.0, 1.0]</td>\n",
       "      <td>./models/lvq/13.pkl</td>\n",
       "    </tr>\n",
       "    <tr>\n",
       "      <th>14</th>\n",
       "      <td>{'n_codebooks': 100, 'lrate': 0.05, 'epochs': ...</td>\n",
       "      <td>NaN</td>\n",
       "      <td>461.412386</td>\n",
       "      <td>0.711644</td>\n",
       "      <td>0.708343</td>\n",
       "      <td>0.710086</td>\n",
       "      <td>0.650130</td>\n",
       "      <td>0.660223</td>\n",
       "      <td>0.702336</td>\n",
       "      <td>[0.0, 0.2555510698425515, 1.0]</td>\n",
       "      <td>[0.0, 0.6602226127709432, 1.0]</td>\n",
       "      <td>./models/lvq/14.pkl</td>\n",
       "    </tr>\n",
       "    <tr>\n",
       "      <th>15</th>\n",
       "      <td>{'n_codebooks': 5, 'lrate': 0.05, 'epochs': 50}</td>\n",
       "      <td>NaN</td>\n",
       "      <td>13.926648</td>\n",
       "      <td>0.636853</td>\n",
       "      <td>0.639254</td>\n",
       "      <td>0.637428</td>\n",
       "      <td>0.500165</td>\n",
       "      <td>0.444640</td>\n",
       "      <td>0.607463</td>\n",
       "      <td>[0.0, 0.22971336293903916, 1.0]</td>\n",
       "      <td>[0.0, 0.4446397188049209, 1.0]</td>\n",
       "      <td>./models/lvq/15.pkl</td>\n",
       "    </tr>\n",
       "    <tr>\n",
       "      <th>16</th>\n",
       "      <td>{'n_codebooks': 5, 'lrate': 0.01, 'epochs': 2}</td>\n",
       "      <td>NaN</td>\n",
       "      <td>0.568875</td>\n",
       "      <td>0.610829</td>\n",
       "      <td>0.598374</td>\n",
       "      <td>0.614006</td>\n",
       "      <td>0.480874</td>\n",
       "      <td>0.438196</td>\n",
       "      <td>0.586680</td>\n",
       "      <td>[0.0, 0.2648364957610012, 1.0]</td>\n",
       "      <td>[0.0, 0.4381956649091974, 1.0]</td>\n",
       "      <td>./models/lvq/16.pkl</td>\n",
       "    </tr>\n",
       "    <tr>\n",
       "      <th>17</th>\n",
       "      <td>{'n_codebooks': 5, 'lrate': 0.01, 'epochs': 50}</td>\n",
       "      <td>NaN</td>\n",
       "      <td>13.898750</td>\n",
       "      <td>0.625993</td>\n",
       "      <td>0.620129</td>\n",
       "      <td>0.635516</td>\n",
       "      <td>0.374744</td>\n",
       "      <td>0.267721</td>\n",
       "      <td>0.578350</td>\n",
       "      <td>[0.0, 0.11102139685102948, 1.0]</td>\n",
       "      <td>[0.0, 0.2677211482132396, 1.0]</td>\n",
       "      <td>./models/lvq/17.pkl</td>\n",
       "    </tr>\n",
       "    <tr>\n",
       "      <th>18</th>\n",
       "      <td>{'n_codebooks': 50, 'lrate': 0.5, 'epochs': 100}</td>\n",
       "      <td>NaN</td>\n",
       "      <td>222.399390</td>\n",
       "      <td>0.582142</td>\n",
       "      <td>0.578293</td>\n",
       "      <td>0.592017</td>\n",
       "      <td>0.000000</td>\n",
       "      <td>0.000000</td>\n",
       "      <td>0.500000</td>\n",
       "      <td>[0.0, 1.0]</td>\n",
       "      <td>[0.0, 1.0]</td>\n",
       "      <td>./models/lvq/18.pkl</td>\n",
       "    </tr>\n",
       "    <tr>\n",
       "      <th>19</th>\n",
       "      <td>{'n_codebooks': 100, 'lrate': 0.05, 'epochs': 2}</td>\n",
       "      <td>NaN</td>\n",
       "      <td>8.852992</td>\n",
       "      <td>0.705189</td>\n",
       "      <td>0.705235</td>\n",
       "      <td>0.707696</td>\n",
       "      <td>0.624270</td>\n",
       "      <td>0.595196</td>\n",
       "      <td>0.690210</td>\n",
       "      <td>[0.0, 0.2147759386354461, 1.0]</td>\n",
       "      <td>[0.0, 0.5951962507322789, 1.0]</td>\n",
       "      <td>./models/lvq/19.pkl</td>\n",
       "    </tr>\n",
       "  </tbody>\n",
       "</table>\n",
       "</div>"
      ],
      "text/plain": [
       "                                               params  score  model_time  \\\n",
       "0    {'n_codebooks': 30, 'lrate': 0.1, 'epochs': 100}    NaN  140.326295   \n",
       "1     {'n_codebooks': 50, 'lrate': 0.05, 'epochs': 2}    NaN    4.824263   \n",
       "2     {'n_codebooks': 5, 'lrate': 0.01, 'epochs': 20}    NaN    5.776161   \n",
       "3     {'n_codebooks': 5, 'lrate': 0.05, 'epochs': 50}    NaN   14.294660   \n",
       "4     {'n_codebooks': 10, 'lrate': 0.05, 'epochs': 2}    NaN    1.042939   \n",
       "5    {'n_codebooks': 100, 'lrate': 0.01, 'epochs': 2}    NaN    9.301427   \n",
       "6    {'n_codebooks': 50, 'lrate': 0.1, 'epochs': 100}    NaN  232.244040   \n",
       "7     {'n_codebooks': 5, 'lrate': 0.01, 'epochs': 20}    NaN    5.703035   \n",
       "8    {'n_codebooks': 30, 'lrate': 0.05, 'epochs': 20}    NaN   28.308486   \n",
       "9      {'n_codebooks': 50, 'lrate': 0.1, 'epochs': 2}    NaN    4.749943   \n",
       "10    {'n_codebooks': 100, 'lrate': 0.1, 'epochs': 2}    NaN    9.322526   \n",
       "11   {'n_codebooks': 50, 'lrate': 0.5, 'epochs': 100}    NaN  232.680595   \n",
       "12   {'n_codebooks': 50, 'lrate': 0.01, 'epochs': 20}    NaN   47.184436   \n",
       "13     {'n_codebooks': 30, 'lrate': 0.5, 'epochs': 2}    NaN    2.899721   \n",
       "14  {'n_codebooks': 100, 'lrate': 0.05, 'epochs': ...    NaN  461.412386   \n",
       "15    {'n_codebooks': 5, 'lrate': 0.05, 'epochs': 50}    NaN   13.926648   \n",
       "16     {'n_codebooks': 5, 'lrate': 0.01, 'epochs': 2}    NaN    0.568875   \n",
       "17    {'n_codebooks': 5, 'lrate': 0.01, 'epochs': 50}    NaN   13.898750   \n",
       "18   {'n_codebooks': 50, 'lrate': 0.5, 'epochs': 100}    NaN  222.399390   \n",
       "19   {'n_codebooks': 100, 'lrate': 0.05, 'epochs': 2}    NaN    8.852992   \n",
       "\n",
       "    accuracy_train  accuracy_val  accuracy_test  f1_score    recall       auc  \\\n",
       "0         0.691973      0.692087       0.690010  0.617742  0.613943  0.678186   \n",
       "1         0.684391      0.682525       0.680927  0.575517  0.530170  0.657495   \n",
       "2         0.621280      0.610328       0.626195  0.441029  0.361453  0.585046   \n",
       "3         0.595871      0.591681       0.597275  0.465927  0.430580  0.571366   \n",
       "4         0.637928      0.635429       0.637906  0.421093  0.322789  0.588928   \n",
       "5         0.677732      0.672723       0.670411  0.593575  0.589924  0.657901   \n",
       "6         0.697095      0.691609       0.696224  0.631274  0.637376  0.687077   \n",
       "7         0.582142      0.578293       0.592017  0.000000  0.000000  0.500000   \n",
       "8         0.663337      0.654793       0.663480  0.543154  0.490334  0.636568   \n",
       "9         0.694944      0.685632       0.686424  0.586381  0.544815  0.664414   \n",
       "10        0.708468      0.699020       0.698136  0.631241  0.633275  0.688054   \n",
       "11        0.582142      0.578293       0.592017  0.000000  0.000000  0.500000   \n",
       "12        0.697608      0.694956       0.692639  0.614277  0.599883  0.678222   \n",
       "13        0.582142      0.578293       0.592017  0.000000  0.000000  0.500000   \n",
       "14        0.711644      0.708343       0.710086  0.650130  0.660223  0.702336   \n",
       "15        0.636853      0.639254       0.637428  0.500165  0.444640  0.607463   \n",
       "16        0.610829      0.598374       0.614006  0.480874  0.438196  0.586680   \n",
       "17        0.625993      0.620129       0.635516  0.374744  0.267721  0.578350   \n",
       "18        0.582142      0.578293       0.592017  0.000000  0.000000  0.500000   \n",
       "19        0.705189      0.705235       0.707696  0.624270  0.595196  0.690210   \n",
       "\n",
       "                                fpr                              tpr  \\\n",
       "0   [0.0, 0.25756964069438837, 1.0]   [0.0, 0.6139425893380199, 1.0]   \n",
       "1   [0.0, 0.21517965280581347, 1.0]   [0.0, 0.5301698886936145, 1.0]   \n",
       "2   [0.0, 0.19136051675413807, 1.0]  [0.0, 0.36145284124194493, 1.0]   \n",
       "3   [0.0, 0.28784820347194184, 1.0]   [0.0, 0.4305799648506151, 1.0]   \n",
       "4    [0.0, 0.1449333871618894, 1.0]    [0.0, 0.322788517867604, 1.0]   \n",
       "5   [0.0, 0.27412192167945093, 1.0]   [0.0, 0.5899238429994141, 1.0]   \n",
       "6   [0.0, 0.26322163907953167, 1.0]   [0.0, 0.6373755125951962, 1.0]   \n",
       "7                        [0.0, 1.0]                       [0.0, 1.0]   \n",
       "8   [0.0, 0.21719822365765037, 1.0]   [0.0, 0.4903339191564148, 1.0]   \n",
       "9   [0.0, 0.21598708114654824, 1.0]   [0.0, 0.5448154657293497, 1.0]   \n",
       "10    [0.0, 0.257165926524021, 1.0]   [0.0, 0.6332747510251904, 1.0]   \n",
       "11                       [0.0, 1.0]                       [0.0, 1.0]   \n",
       "12  [0.0, 0.24343964473153007, 1.0]   [0.0, 0.5998828353837141, 1.0]   \n",
       "13                       [0.0, 1.0]                       [0.0, 1.0]   \n",
       "14   [0.0, 0.2555510698425515, 1.0]   [0.0, 0.6602226127709432, 1.0]   \n",
       "15  [0.0, 0.22971336293903916, 1.0]   [0.0, 0.4446397188049209, 1.0]   \n",
       "16   [0.0, 0.2648364957610012, 1.0]   [0.0, 0.4381956649091974, 1.0]   \n",
       "17  [0.0, 0.11102139685102948, 1.0]   [0.0, 0.2677211482132396, 1.0]   \n",
       "18                       [0.0, 1.0]                       [0.0, 1.0]   \n",
       "19   [0.0, 0.2147759386354461, 1.0]   [0.0, 0.5951962507322789, 1.0]   \n",
       "\n",
       "             model_path  \n",
       "0    ./models/lvq/0.pkl  \n",
       "1    ./models/lvq/1.pkl  \n",
       "2    ./models/lvq/2.pkl  \n",
       "3    ./models/lvq/3.pkl  \n",
       "4    ./models/lvq/4.pkl  \n",
       "5    ./models/lvq/5.pkl  \n",
       "6    ./models/lvq/6.pkl  \n",
       "7    ./models/lvq/7.pkl  \n",
       "8    ./models/lvq/8.pkl  \n",
       "9    ./models/lvq/9.pkl  \n",
       "10  ./models/lvq/10.pkl  \n",
       "11  ./models/lvq/11.pkl  \n",
       "12  ./models/lvq/12.pkl  \n",
       "13  ./models/lvq/13.pkl  \n",
       "14  ./models/lvq/14.pkl  \n",
       "15  ./models/lvq/15.pkl  \n",
       "16  ./models/lvq/16.pkl  \n",
       "17  ./models/lvq/17.pkl  \n",
       "18  ./models/lvq/18.pkl  \n",
       "19  ./models/lvq/19.pkl  "
      ]
     },
     "execution_count": 21,
     "metadata": {},
     "output_type": "execute_result"
    }
   ],
   "source": [
    "lvq_model = LVQClassifier()\n",
    "\n",
    "result, model, cv, loss, all_cv = runner.search_paramsv2(lvq_model, param_distributions_lvq, 'lvq',\n",
    "                              [X_train, Y_train, X_val, Y_val, X_test, Y_test], n_iter=100)\n",
    "\n",
    "df=pd.DataFrame((result.values()))\n",
    "df"
   ]
  },
  {
   "cell_type": "code",
   "execution_count": 23,
   "metadata": {},
   "outputs": [
    {
     "ename": "UFuncTypeError",
     "evalue": "ufunc 'subtract' did not contain a loop with signature matching types (dtype('float64'), dtype('<U1')) -> None",
     "output_type": "error",
     "traceback": [
      "\u001b[0;31m---------------------------------------------------------------------------\u001b[0m",
      "\u001b[0;31mUFuncTypeError\u001b[0m                            Traceback (most recent call last)",
      "Cell \u001b[0;32mIn[23], line 5\u001b[0m\n\u001b[1;32m      3\u001b[0m plots\u001b[38;5;241m.\u001b[39mshow_best_roc(df)\n\u001b[1;32m      4\u001b[0m plots\u001b[38;5;241m.\u001b[39mshow_bar_metrics2(df)\n\u001b[0;32m----> 5\u001b[0m \u001b[43mplots\u001b[49m\u001b[38;5;241;43m.\u001b[39;49m\u001b[43mshow_confusion_matrix\u001b[49m\u001b[43m(\u001b[49m\u001b[43mmodel\u001b[49m\u001b[43m,\u001b[49m\u001b[43m \u001b[49m\u001b[43mX_test\u001b[49m\u001b[43m,\u001b[49m\u001b[43m \u001b[49m\u001b[43mY_test\u001b[49m\u001b[43m)\u001b[49m\n\u001b[1;32m      6\u001b[0m plots\u001b[38;5;241m.\u001b[39mshow_metrics_comparison_line_plot(df)\n\u001b[1;32m      7\u001b[0m plots\u001b[38;5;241m.\u001b[39mplot_cv_performance(cv, \u001b[38;5;124m\"\u001b[39m\u001b[38;5;124mDesempenho do Melhor Modelo na Cross Validation\u001b[39m\u001b[38;5;124m\"\u001b[39m)\n",
      "File \u001b[0;32m~/Área de Trabalho/SI5-ELEC2/lib/plots.py:108\u001b[0m, in \u001b[0;36mshow_confusion_matrix\u001b[0;34m(model, X_test, Y_test, ax)\u001b[0m\n\u001b[1;32m    105\u001b[0m \u001b[38;5;28;01mfrom\u001b[39;00m \u001b[38;5;21;01msklearn\u001b[39;00m\u001b[38;5;21;01m.\u001b[39;00m\u001b[38;5;21;01mmetrics\u001b[39;00m \u001b[38;5;28;01mimport\u001b[39;00m confusion_matrix\n\u001b[1;32m    106\u001b[0m \u001b[38;5;28;01mimport\u001b[39;00m \u001b[38;5;21;01mseaborn\u001b[39;00m \u001b[38;5;28;01mas\u001b[39;00m \u001b[38;5;21;01msns\u001b[39;00m\n\u001b[0;32m--> 108\u001b[0m Y_pred \u001b[38;5;241m=\u001b[39m \u001b[43mmodel\u001b[49m\u001b[38;5;241;43m.\u001b[39;49m\u001b[43mpredict\u001b[49m\u001b[43m(\u001b[49m\u001b[43mX_test\u001b[49m\u001b[43m)\u001b[49m\n\u001b[1;32m    109\u001b[0m cm \u001b[38;5;241m=\u001b[39m confusion_matrix(Y_test, Y_pred)\n\u001b[1;32m    111\u001b[0m \u001b[38;5;28;01mif\u001b[39;00m ax \u001b[38;5;129;01mis\u001b[39;00m \u001b[38;5;28;01mNone\u001b[39;00m:\n",
      "Cell \u001b[0;32mIn[15], line 59\u001b[0m, in \u001b[0;36mLVQClassifier.predict\u001b[0;34m(self, X)\u001b[0m\n\u001b[1;32m     58\u001b[0m \u001b[38;5;28;01mdef\u001b[39;00m \u001b[38;5;21mpredict\u001b[39m(\u001b[38;5;28mself\u001b[39m, X):\n\u001b[0;32m---> 59\u001b[0m     predictions \u001b[38;5;241m=\u001b[39m [predict(\u001b[38;5;28mself\u001b[39m\u001b[38;5;241m.\u001b[39mcodebooks_, row) \u001b[38;5;28;01mfor\u001b[39;00m row \u001b[38;5;129;01min\u001b[39;00m X]\n\u001b[1;32m     60\u001b[0m     \u001b[38;5;28;01mreturn\u001b[39;00m np\u001b[38;5;241m.\u001b[39marray(predictions)\n",
      "Cell \u001b[0;32mIn[15], line 59\u001b[0m, in \u001b[0;36m<listcomp>\u001b[0;34m(.0)\u001b[0m\n\u001b[1;32m     58\u001b[0m \u001b[38;5;28;01mdef\u001b[39;00m \u001b[38;5;21mpredict\u001b[39m(\u001b[38;5;28mself\u001b[39m, X):\n\u001b[0;32m---> 59\u001b[0m     predictions \u001b[38;5;241m=\u001b[39m [\u001b[43mpredict\u001b[49m\u001b[43m(\u001b[49m\u001b[38;5;28;43mself\u001b[39;49m\u001b[38;5;241;43m.\u001b[39;49m\u001b[43mcodebooks_\u001b[49m\u001b[43m,\u001b[49m\u001b[43m \u001b[49m\u001b[43mrow\u001b[49m\u001b[43m)\u001b[49m \u001b[38;5;28;01mfor\u001b[39;00m row \u001b[38;5;129;01min\u001b[39;00m X]\n\u001b[1;32m     60\u001b[0m     \u001b[38;5;28;01mreturn\u001b[39;00m np\u001b[38;5;241m.\u001b[39marray(predictions)\n",
      "Cell \u001b[0;32mIn[15], line 19\u001b[0m, in \u001b[0;36mpredict\u001b[0;34m(codebooks, test_row)\u001b[0m\n\u001b[1;32m     18\u001b[0m \u001b[38;5;28;01mdef\u001b[39;00m \u001b[38;5;21mpredict\u001b[39m(codebooks, test_row):\n\u001b[0;32m---> 19\u001b[0m     bmu \u001b[38;5;241m=\u001b[39m \u001b[43mget_best_matching_unit\u001b[49m\u001b[43m(\u001b[49m\u001b[43mcodebooks\u001b[49m\u001b[43m,\u001b[49m\u001b[43m \u001b[49m\u001b[43mtest_row\u001b[49m\u001b[43m)\u001b[49m\n\u001b[1;32m     20\u001b[0m     \u001b[38;5;28;01mreturn\u001b[39;00m bmu[\u001b[38;5;241m-\u001b[39m\u001b[38;5;241m1\u001b[39m]\n",
      "Cell \u001b[0;32mIn[15], line 12\u001b[0m, in \u001b[0;36mget_best_matching_unit\u001b[0;34m(codebooks, test_row)\u001b[0m\n\u001b[1;32m     10\u001b[0m distances \u001b[38;5;241m=\u001b[39m \u001b[38;5;28mlist\u001b[39m()\n\u001b[1;32m     11\u001b[0m \u001b[38;5;28;01mfor\u001b[39;00m codebook \u001b[38;5;129;01min\u001b[39;00m codebooks:\n\u001b[0;32m---> 12\u001b[0m     dist \u001b[38;5;241m=\u001b[39m \u001b[43meuclidean_distance\u001b[49m\u001b[43m(\u001b[49m\u001b[43mcodebook\u001b[49m\u001b[43m,\u001b[49m\u001b[43m \u001b[49m\u001b[43mtest_row\u001b[49m\u001b[43m)\u001b[49m\n\u001b[1;32m     13\u001b[0m     distances\u001b[38;5;241m.\u001b[39mappend((codebook, dist))\n\u001b[1;32m     14\u001b[0m distances\u001b[38;5;241m.\u001b[39msort(key\u001b[38;5;241m=\u001b[39m\u001b[38;5;28;01mlambda\u001b[39;00m tup: tup[\u001b[38;5;241m1\u001b[39m])\n",
      "Cell \u001b[0;32mIn[15], line 5\u001b[0m, in \u001b[0;36meuclidean_distance\u001b[0;34m(row1, row2)\u001b[0m\n\u001b[1;32m      3\u001b[0m distance \u001b[38;5;241m=\u001b[39m \u001b[38;5;241m0.0\u001b[39m\n\u001b[1;32m      4\u001b[0m \u001b[38;5;28;01mfor\u001b[39;00m i \u001b[38;5;129;01min\u001b[39;00m \u001b[38;5;28mrange\u001b[39m(\u001b[38;5;28mlen\u001b[39m(row1)\u001b[38;5;241m-\u001b[39m\u001b[38;5;241m1\u001b[39m):\n\u001b[0;32m----> 5\u001b[0m     distance \u001b[38;5;241m+\u001b[39m\u001b[38;5;241m=\u001b[39m (\u001b[43mrow1\u001b[49m\u001b[43m[\u001b[49m\u001b[43mi\u001b[49m\u001b[43m]\u001b[49m\u001b[43m \u001b[49m\u001b[38;5;241;43m-\u001b[39;49m\u001b[43m \u001b[49m\u001b[43mrow2\u001b[49m\u001b[43m[\u001b[49m\u001b[43mi\u001b[49m\u001b[43m]\u001b[49m)\u001b[38;5;241m*\u001b[39m\u001b[38;5;241m*\u001b[39m\u001b[38;5;241m2\u001b[39m\n\u001b[1;32m      6\u001b[0m \u001b[38;5;28;01mreturn\u001b[39;00m sqrt(distance)\n",
      "\u001b[0;31mUFuncTypeError\u001b[0m: ufunc 'subtract' did not contain a loop with signature matching types (dtype('float64'), dtype('<U1')) -> None"
     ]
    },
    {
     "data": {
      "image/png": "[encoded data removed]",
      "text/plain": [
       "<Figure size 800x600 with 1 Axes>"
      ]
     },
     "metadata": {},
     "output_type": "display_data"
    },
    {
     "data": {
      "image/png": "[encoded data removed]",
      "text/plain": [
       "<Figure size 1000x600 with 1 Axes>"
      ]
     },
     "metadata": {},
     "output_type": "display_data"
    }
   ],
   "source": [
    "from IPython.display import display, Markdown\n",
    "\n",
    "plots.show_best_roc(df)\n",
    "plots.show_bar_metrics2(df)\n",
    "plots.show_confusion_matrix(model, X_test, Y_test)\n",
    "plots.show_metrics_comparison_line_plot(df)\n",
    "plots.plot_cv_performance(cv, \"Desempenho do Melhor Modelo na Cross Validation\")\n",
    "plots.plot_cv_performance(all_cv, \"Desempenho Médio dos Modelos Selecionados na Cross Validation\")\n",
    "display(Markdown(util.generate_markdown_report(model, result.values())))"
   ]
  },
  {
   "cell_type": "code",
   "execution_count": 17,
   "metadata": {},
   "outputs": [
    {
     "data": {
      "text/html": [
       "<div>\n",
       "<style scoped>\n",
       "    .dataframe tbody tr th:only-of-type {\n",
       "        vertical-align: middle;\n",
       "    }\n",
       "\n",
       "    .dataframe tbody tr th {\n",
       "        vertical-align: top;\n",
       "    }\n",
       "\n",
       "    .dataframe thead th {\n",
       "        text-align: right;\n",
       "    }\n",
       "</style>\n",
       "<table border=\"1\" class=\"dataframe\">\n",
       "  <thead>\n",
       "    <tr style=\"text-align: right;\">\n",
       "      <th></th>\n",
       "      <th>params</th>\n",
       "      <th>score</th>\n",
       "      <th>model_time</th>\n",
       "      <th>accuracy_train</th>\n",
       "      <th>accuracy_val</th>\n",
       "      <th>accuracy_test</th>\n",
       "      <th>f1_score</th>\n",
       "      <th>recall</th>\n",
       "      <th>auc</th>\n",
       "      <th>fpr</th>\n",
       "      <th>tpr</th>\n",
       "      <th>model_path</th>\n",
       "    </tr>\n",
       "  </thead>\n",
       "  <tbody>\n",
       "    <tr>\n",
       "      <th>0</th>\n",
       "      <td>{'n_codebooks': 30, 'lrate': 0.1, 'epochs': 100}</td>\n",
       "      <td>NaN</td>\n",
       "      <td>140.326295</td>\n",
       "      <td>0.691973</td>\n",
       "      <td>0.692087</td>\n",
       "      <td>0.690010</td>\n",
       "      <td>0.617742</td>\n",
       "      <td>0.613943</td>\n",
       "      <td>0.678186</td>\n",
       "      <td>[np.float64(0.0), np.float64(0.257569640694388...</td>\n",
       "      <td>[np.float64(0.0), np.float64(0.613942589338019...</td>\n",
       "      <td>./models/lvq/0.pkl</td>\n",
       "    </tr>\n",
       "    <tr>\n",
       "      <th>1</th>\n",
       "      <td>{'n_codebooks': 50, 'lrate': 0.05, 'epochs': 2}</td>\n",
       "      <td>NaN</td>\n",
       "      <td>4.824263</td>\n",
       "      <td>0.684391</td>\n",
       "      <td>0.682525</td>\n",
       "      <td>0.680927</td>\n",
       "      <td>0.575517</td>\n",
       "      <td>0.530170</td>\n",
       "      <td>0.657495</td>\n",
       "      <td>[np.float64(0.0), np.float64(0.215179652805813...</td>\n",
       "      <td>[np.float64(0.0), np.float64(0.530169888693614...</td>\n",
       "      <td>./models/lvq/1.pkl</td>\n",
       "    </tr>\n",
       "    <tr>\n",
       "      <th>2</th>\n",
       "      <td>{'n_codebooks': 5, 'lrate': 0.01, 'epochs': 20}</td>\n",
       "      <td>NaN</td>\n",
       "      <td>5.776161</td>\n",
       "      <td>0.621280</td>\n",
       "      <td>0.610328</td>\n",
       "      <td>0.626195</td>\n",
       "      <td>0.441029</td>\n",
       "      <td>0.361453</td>\n",
       "      <td>0.585046</td>\n",
       "      <td>[np.float64(0.0), np.float64(0.191360516754138...</td>\n",
       "      <td>[np.float64(0.0), np.float64(0.361452841241944...</td>\n",
       "      <td>./models/lvq/2.pkl</td>\n",
       "    </tr>\n",
       "    <tr>\n",
       "      <th>3</th>\n",
       "      <td>{'n_codebooks': 5, 'lrate': 0.05, 'epochs': 50}</td>\n",
       "      <td>NaN</td>\n",
       "      <td>14.294660</td>\n",
       "      <td>0.595871</td>\n",
       "      <td>0.591681</td>\n",
       "      <td>0.597275</td>\n",
       "      <td>0.465927</td>\n",
       "      <td>0.430580</td>\n",
       "      <td>0.571366</td>\n",
       "      <td>[np.float64(0.0), np.float64(0.287848203471941...</td>\n",
       "      <td>[np.float64(0.0), np.float64(0.430579964850615...</td>\n",
       "      <td>./models/lvq/3.pkl</td>\n",
       "    </tr>\n",
       "    <tr>\n",
       "      <th>4</th>\n",
       "      <td>{'n_codebooks': 10, 'lrate': 0.05, 'epochs': 2}</td>\n",
       "      <td>NaN</td>\n",
       "      <td>1.042939</td>\n",
       "      <td>0.637928</td>\n",
       "      <td>0.635429</td>\n",
       "      <td>0.637906</td>\n",
       "      <td>0.421093</td>\n",
       "      <td>0.322789</td>\n",
       "      <td>0.588928</td>\n",
       "      <td>[np.float64(0.0), np.float64(0.144933387161889...</td>\n",
       "      <td>[np.float64(0.0), np.float64(0.322788517867604...</td>\n",
       "      <td>./models/lvq/4.pkl</td>\n",
       "    </tr>\n",
       "    <tr>\n",
       "      <th>5</th>\n",
       "      <td>{'n_codebooks': 100, 'lrate': 0.01, 'epochs': 2}</td>\n",
       "      <td>NaN</td>\n",
       "      <td>9.301427</td>\n",
       "      <td>0.677732</td>\n",
       "      <td>0.672723</td>\n",
       "      <td>0.670411</td>\n",
       "      <td>0.593575</td>\n",
       "      <td>0.589924</td>\n",
       "      <td>0.657901</td>\n",
       "      <td>[np.float64(0.0), np.float64(0.274121921679450...</td>\n",
       "      <td>[np.float64(0.0), np.float64(0.589923842999414...</td>\n",
       "      <td>./models/lvq/5.pkl</td>\n",
       "    </tr>\n",
       "    <tr>\n",
       "      <th>6</th>\n",
       "      <td>{'n_codebooks': 50, 'lrate': 0.1, 'epochs': 100}</td>\n",
       "      <td>NaN</td>\n",
       "      <td>232.244040</td>\n",
       "      <td>0.697095</td>\n",
       "      <td>0.691609</td>\n",
       "      <td>0.696224</td>\n",
       "      <td>0.631274</td>\n",
       "      <td>0.637376</td>\n",
       "      <td>0.687077</td>\n",
       "      <td>[np.float64(0.0), np.float64(0.263221639079531...</td>\n",
       "      <td>[np.float64(0.0), np.float64(0.637375512595196...</td>\n",
       "      <td>./models/lvq/6.pkl</td>\n",
       "    </tr>\n",
       "    <tr>\n",
       "      <th>7</th>\n",
       "      <td>{'n_codebooks': 5, 'lrate': 0.01, 'epochs': 20}</td>\n",
       "      <td>NaN</td>\n",
       "      <td>5.703035</td>\n",
       "      <td>0.582142</td>\n",
       "      <td>0.578293</td>\n",
       "      <td>0.592017</td>\n",
       "      <td>0.000000</td>\n",
       "      <td>0.000000</td>\n",
       "      <td>0.500000</td>\n",
       "      <td>[np.float64(0.0), np.float64(1.0)]</td>\n",
       "      <td>[np.float64(0.0), np.float64(1.0)]</td>\n",
       "      <td>./models/lvq/7.pkl</td>\n",
       "    </tr>\n",
       "    <tr>\n",
       "      <th>8</th>\n",
       "      <td>{'n_codebooks': 30, 'lrate': 0.05, 'epochs': 20}</td>\n",
       "      <td>NaN</td>\n",
       "      <td>28.308486</td>\n",
       "      <td>0.663337</td>\n",
       "      <td>0.654793</td>\n",
       "      <td>0.663480</td>\n",
       "      <td>0.543154</td>\n",
       "      <td>0.490334</td>\n",
       "      <td>0.636568</td>\n",
       "      <td>[np.float64(0.0), np.float64(0.217198223657650...</td>\n",
       "      <td>[np.float64(0.0), np.float64(0.490333919156414...</td>\n",
       "      <td>./models/lvq/8.pkl</td>\n",
       "    </tr>\n",
       "    <tr>\n",
       "      <th>9</th>\n",
       "      <td>{'n_codebooks': 50, 'lrate': 0.1, 'epochs': 2}</td>\n",
       "      <td>NaN</td>\n",
       "      <td>4.749943</td>\n",
       "      <td>0.694944</td>\n",
       "      <td>0.685632</td>\n",
       "      <td>0.686424</td>\n",
       "      <td>0.586381</td>\n",
       "      <td>0.544815</td>\n",
       "      <td>0.664414</td>\n",
       "      <td>[np.float64(0.0), np.float64(0.215987081146548...</td>\n",
       "      <td>[np.float64(0.0), np.float64(0.544815465729349...</td>\n",
       "      <td>./models/lvq/9.pkl</td>\n",
       "    </tr>\n",
       "    <tr>\n",
       "      <th>10</th>\n",
       "      <td>{'n_codebooks': 100, 'lrate': 0.1, 'epochs': 2}</td>\n",
       "      <td>NaN</td>\n",
       "      <td>9.322526</td>\n",
       "      <td>0.708468</td>\n",
       "      <td>0.699020</td>\n",
       "      <td>0.698136</td>\n",
       "      <td>0.631241</td>\n",
       "      <td>0.633275</td>\n",
       "      <td>0.688054</td>\n",
       "      <td>[np.float64(0.0), np.float64(0.257165926524021...</td>\n",
       "      <td>[np.float64(0.0), np.float64(0.633274751025190...</td>\n",
       "      <td>./models/lvq/10.pkl</td>\n",
       "    </tr>\n",
       "    <tr>\n",
       "      <th>11</th>\n",
       "      <td>{'n_codebooks': 50, 'lrate': 0.5, 'epochs': 100}</td>\n",
       "      <td>NaN</td>\n",
       "      <td>232.680595</td>\n",
       "      <td>0.582142</td>\n",
       "      <td>0.578293</td>\n",
       "      <td>0.592017</td>\n",
       "      <td>0.000000</td>\n",
       "      <td>0.000000</td>\n",
       "      <td>0.500000</td>\n",
       "      <td>[np.float64(0.0), np.float64(1.0)]</td>\n",
       "      <td>[np.float64(0.0), np.float64(1.0)]</td>\n",
       "      <td>./models/lvq/11.pkl</td>\n",
       "    </tr>\n",
       "    <tr>\n",
       "      <th>12</th>\n",
       "      <td>{'n_codebooks': 50, 'lrate': 0.01, 'epochs': 20}</td>\n",
       "      <td>NaN</td>\n",
       "      <td>47.184436</td>\n",
       "      <td>0.697608</td>\n",
       "      <td>0.694956</td>\n",
       "      <td>0.692639</td>\n",
       "      <td>0.614277</td>\n",
       "      <td>0.599883</td>\n",
       "      <td>0.678222</td>\n",
       "      <td>[np.float64(0.0), np.float64(0.243439644731530...</td>\n",
       "      <td>[np.float64(0.0), np.float64(0.599882835383714...</td>\n",
       "      <td>./models/lvq/12.pkl</td>\n",
       "    </tr>\n",
       "    <tr>\n",
       "      <th>13</th>\n",
       "      <td>{'n_codebooks': 30, 'lrate': 0.5, 'epochs': 2}</td>\n",
       "      <td>NaN</td>\n",
       "      <td>2.899721</td>\n",
       "      <td>0.582142</td>\n",
       "      <td>0.578293</td>\n",
       "      <td>0.592017</td>\n",
       "      <td>0.000000</td>\n",
       "      <td>0.000000</td>\n",
       "      <td>0.500000</td>\n",
       "      <td>[np.float64(0.0), np.float64(1.0)]</td>\n",
       "      <td>[np.float64(0.0), np.float64(1.0)]</td>\n",
       "      <td>./models/lvq/13.pkl</td>\n",
       "    </tr>\n",
       "    <tr>\n",
       "      <th>14</th>\n",
       "      <td>{'n_codebooks': 100, 'lrate': 0.05, 'epochs': ...</td>\n",
       "      <td>NaN</td>\n",
       "      <td>461.412386</td>\n",
       "      <td>0.711644</td>\n",
       "      <td>0.708343</td>\n",
       "      <td>0.710086</td>\n",
       "      <td>0.650130</td>\n",
       "      <td>0.660223</td>\n",
       "      <td>0.702336</td>\n",
       "      <td>[np.float64(0.0), np.float64(0.255551069842551...</td>\n",
       "      <td>[np.float64(0.0), np.float64(0.660222612770943...</td>\n",
       "      <td>./models/lvq/14.pkl</td>\n",
       "    </tr>\n",
       "    <tr>\n",
       "      <th>15</th>\n",
       "      <td>{'n_codebooks': 5, 'lrate': 0.05, 'epochs': 50}</td>\n",
       "      <td>NaN</td>\n",
       "      <td>13.926648</td>\n",
       "      <td>0.636853</td>\n",
       "      <td>0.639254</td>\n",
       "      <td>0.637428</td>\n",
       "      <td>0.500165</td>\n",
       "      <td>0.444640</td>\n",
       "      <td>0.607463</td>\n",
       "      <td>[np.float64(0.0), np.float64(0.229713362939039...</td>\n",
       "      <td>[np.float64(0.0), np.float64(0.444639718804920...</td>\n",
       "      <td>./models/lvq/15.pkl</td>\n",
       "    </tr>\n",
       "    <tr>\n",
       "      <th>16</th>\n",
       "      <td>{'n_codebooks': 5, 'lrate': 0.01, 'epochs': 2}</td>\n",
       "      <td>NaN</td>\n",
       "      <td>0.568875</td>\n",
       "      <td>0.610829</td>\n",
       "      <td>0.598374</td>\n",
       "      <td>0.614006</td>\n",
       "      <td>0.480874</td>\n",
       "      <td>0.438196</td>\n",
       "      <td>0.586680</td>\n",
       "      <td>[np.float64(0.0), np.float64(0.264836495761001...</td>\n",
       "      <td>[np.float64(0.0), np.float64(0.438195664909197...</td>\n",
       "      <td>./models/lvq/16.pkl</td>\n",
       "    </tr>\n",
       "    <tr>\n",
       "      <th>17</th>\n",
       "      <td>{'n_codebooks': 5, 'lrate': 0.01, 'epochs': 50}</td>\n",
       "      <td>NaN</td>\n",
       "      <td>13.898750</td>\n",
       "      <td>0.625993</td>\n",
       "      <td>0.620129</td>\n",
       "      <td>0.635516</td>\n",
       "      <td>0.374744</td>\n",
       "      <td>0.267721</td>\n",
       "      <td>0.578350</td>\n",
       "      <td>[np.float64(0.0), np.float64(0.111021396851029...</td>\n",
       "      <td>[np.float64(0.0), np.float64(0.267721148213239...</td>\n",
       "      <td>./models/lvq/17.pkl</td>\n",
       "    </tr>\n",
       "    <tr>\n",
       "      <th>18</th>\n",
       "      <td>{'n_codebooks': 50, 'lrate': 0.5, 'epochs': 100}</td>\n",
       "      <td>NaN</td>\n",
       "      <td>222.399390</td>\n",
       "      <td>0.582142</td>\n",
       "      <td>0.578293</td>\n",
       "      <td>0.592017</td>\n",
       "      <td>0.000000</td>\n",
       "      <td>0.000000</td>\n",
       "      <td>0.500000</td>\n",
       "      <td>[np.float64(0.0), np.float64(1.0)]</td>\n",
       "      <td>[np.float64(0.0), np.float64(1.0)]</td>\n",
       "      <td>./models/lvq/18.pkl</td>\n",
       "    </tr>\n",
       "    <tr>\n",
       "      <th>19</th>\n",
       "      <td>{'n_codebooks': 100, 'lrate': 0.05, 'epochs': 2}</td>\n",
       "      <td>NaN</td>\n",
       "      <td>8.852992</td>\n",
       "      <td>0.705189</td>\n",
       "      <td>0.705235</td>\n",
       "      <td>0.707696</td>\n",
       "      <td>0.624270</td>\n",
       "      <td>0.595196</td>\n",
       "      <td>0.690210</td>\n",
       "      <td>[np.float64(0.0), np.float64(0.214775938635446...</td>\n",
       "      <td>[np.float64(0.0), np.float64(0.595196250732278...</td>\n",
       "      <td>./models/lvq/19.pkl</td>\n",
       "    </tr>\n",
       "  </tbody>\n",
       "</table>\n",
       "</div>"
      ],
      "text/plain": [
       "                                               params  score  model_time  \\\n",
       "0    {'n_codebooks': 30, 'lrate': 0.1, 'epochs': 100}    NaN  140.326295   \n",
       "1     {'n_codebooks': 50, 'lrate': 0.05, 'epochs': 2}    NaN    4.824263   \n",
       "2     {'n_codebooks': 5, 'lrate': 0.01, 'epochs': 20}    NaN    5.776161   \n",
       "3     {'n_codebooks': 5, 'lrate': 0.05, 'epochs': 50}    NaN   14.294660   \n",
       "4     {'n_codebooks': 10, 'lrate': 0.05, 'epochs': 2}    NaN    1.042939   \n",
       "5    {'n_codebooks': 100, 'lrate': 0.01, 'epochs': 2}    NaN    9.301427   \n",
       "6    {'n_codebooks': 50, 'lrate': 0.1, 'epochs': 100}    NaN  232.244040   \n",
       "7     {'n_codebooks': 5, 'lrate': 0.01, 'epochs': 20}    NaN    5.703035   \n",
       "8    {'n_codebooks': 30, 'lrate': 0.05, 'epochs': 20}    NaN   28.308486   \n",
       "9      {'n_codebooks': 50, 'lrate': 0.1, 'epochs': 2}    NaN    4.749943   \n",
       "10    {'n_codebooks': 100, 'lrate': 0.1, 'epochs': 2}    NaN    9.322526   \n",
       "11   {'n_codebooks': 50, 'lrate': 0.5, 'epochs': 100}    NaN  232.680595   \n",
       "12   {'n_codebooks': 50, 'lrate': 0.01, 'epochs': 20}    NaN   47.184436   \n",
       "13     {'n_codebooks': 30, 'lrate': 0.5, 'epochs': 2}    NaN    2.899721   \n",
       "14  {'n_codebooks': 100, 'lrate': 0.05, 'epochs': ...    NaN  461.412386   \n",
       "15    {'n_codebooks': 5, 'lrate': 0.05, 'epochs': 50}    NaN   13.926648   \n",
       "16     {'n_codebooks': 5, 'lrate': 0.01, 'epochs': 2}    NaN    0.568875   \n",
       "17    {'n_codebooks': 5, 'lrate': 0.01, 'epochs': 50}    NaN   13.898750   \n",
       "18   {'n_codebooks': 50, 'lrate': 0.5, 'epochs': 100}    NaN  222.399390   \n",
       "19   {'n_codebooks': 100, 'lrate': 0.05, 'epochs': 2}    NaN    8.852992   \n",
       "\n",
       "    accuracy_train  accuracy_val  accuracy_test  f1_score    recall       auc  \\\n",
       "0         0.691973      0.692087       0.690010  0.617742  0.613943  0.678186   \n",
       "1         0.684391      0.682525       0.680927  0.575517  0.530170  0.657495   \n",
       "2         0.621280      0.610328       0.626195  0.441029  0.361453  0.585046   \n",
       "3         0.595871      0.591681       0.597275  0.465927  0.430580  0.571366   \n",
       "4         0.637928      0.635429       0.637906  0.421093  0.322789  0.588928   \n",
       "5         0.677732      0.672723       0.670411  0.593575  0.589924  0.657901   \n",
       "6         0.697095      0.691609       0.696224  0.631274  0.637376  0.687077   \n",
       "7         0.582142      0.578293       0.592017  0.000000  0.000000  0.500000   \n",
       "8         0.663337      0.654793       0.663480  0.543154  0.490334  0.636568   \n",
       "9         0.694944      0.685632       0.686424  0.586381  0.544815  0.664414   \n",
       "10        0.708468      0.699020       0.698136  0.631241  0.633275  0.688054   \n",
       "11        0.582142      0.578293       0.592017  0.000000  0.000000  0.500000   \n",
       "12        0.697608      0.694956       0.692639  0.614277  0.599883  0.678222   \n",
       "13        0.582142      0.578293       0.592017  0.000000  0.000000  0.500000   \n",
       "14        0.711644      0.708343       0.710086  0.650130  0.660223  0.702336   \n",
       "15        0.636853      0.639254       0.637428  0.500165  0.444640  0.607463   \n",
       "16        0.610829      0.598374       0.614006  0.480874  0.438196  0.586680   \n",
       "17        0.625993      0.620129       0.635516  0.374744  0.267721  0.578350   \n",
       "18        0.582142      0.578293       0.592017  0.000000  0.000000  0.500000   \n",
       "19        0.705189      0.705235       0.707696  0.624270  0.595196  0.690210   \n",
       "\n",
       "                                                  fpr  \\\n",
       "0   [np.float64(0.0), np.float64(0.257569640694388...   \n",
       "1   [np.float64(0.0), np.float64(0.215179652805813...   \n",
       "2   [np.float64(0.0), np.float64(0.191360516754138...   \n",
       "3   [np.float64(0.0), np.float64(0.287848203471941...   \n",
       "4   [np.float64(0.0), np.float64(0.144933387161889...   \n",
       "5   [np.float64(0.0), np.float64(0.274121921679450...   \n",
       "6   [np.float64(0.0), np.float64(0.263221639079531...   \n",
       "7                  [np.float64(0.0), np.float64(1.0)]   \n",
       "8   [np.float64(0.0), np.float64(0.217198223657650...   \n",
       "9   [np.float64(0.0), np.float64(0.215987081146548...   \n",
       "10  [np.float64(0.0), np.float64(0.257165926524021...   \n",
       "11                 [np.float64(0.0), np.float64(1.0)]   \n",
       "12  [np.float64(0.0), np.float64(0.243439644731530...   \n",
       "13                 [np.float64(0.0), np.float64(1.0)]   \n",
       "14  [np.float64(0.0), np.float64(0.255551069842551...   \n",
       "15  [np.float64(0.0), np.float64(0.229713362939039...   \n",
       "16  [np.float64(0.0), np.float64(0.264836495761001...   \n",
       "17  [np.float64(0.0), np.float64(0.111021396851029...   \n",
       "18                 [np.float64(0.0), np.float64(1.0)]   \n",
       "19  [np.float64(0.0), np.float64(0.214775938635446...   \n",
       "\n",
       "                                                  tpr           model_path  \n",
       "0   [np.float64(0.0), np.float64(0.613942589338019...   ./models/lvq/0.pkl  \n",
       "1   [np.float64(0.0), np.float64(0.530169888693614...   ./models/lvq/1.pkl  \n",
       "2   [np.float64(0.0), np.float64(0.361452841241944...   ./models/lvq/2.pkl  \n",
       "3   [np.float64(0.0), np.float64(0.430579964850615...   ./models/lvq/3.pkl  \n",
       "4   [np.float64(0.0), np.float64(0.322788517867604...   ./models/lvq/4.pkl  \n",
       "5   [np.float64(0.0), np.float64(0.589923842999414...   ./models/lvq/5.pkl  \n",
       "6   [np.float64(0.0), np.float64(0.637375512595196...   ./models/lvq/6.pkl  \n",
       "7                  [np.float64(0.0), np.float64(1.0)]   ./models/lvq/7.pkl  \n",
       "8   [np.float64(0.0), np.float64(0.490333919156414...   ./models/lvq/8.pkl  \n",
       "9   [np.float64(0.0), np.float64(0.544815465729349...   ./models/lvq/9.pkl  \n",
       "10  [np.float64(0.0), np.float64(0.633274751025190...  ./models/lvq/10.pkl  \n",
       "11                 [np.float64(0.0), np.float64(1.0)]  ./models/lvq/11.pkl  \n",
       "12  [np.float64(0.0), np.float64(0.599882835383714...  ./models/lvq/12.pkl  \n",
       "13                 [np.float64(0.0), np.float64(1.0)]  ./models/lvq/13.pkl  \n",
       "14  [np.float64(0.0), np.float64(0.660222612770943...  ./models/lvq/14.pkl  \n",
       "15  [np.float64(0.0), np.float64(0.444639718804920...  ./models/lvq/15.pkl  \n",
       "16  [np.float64(0.0), np.float64(0.438195664909197...  ./models/lvq/16.pkl  \n",
       "17  [np.float64(0.0), np.float64(0.267721148213239...  ./models/lvq/17.pkl  \n",
       "18                 [np.float64(0.0), np.float64(1.0)]  ./models/lvq/18.pkl  \n",
       "19  [np.float64(0.0), np.float64(0.595196250732278...  ./models/lvq/19.pkl  "
      ]
     },
     "execution_count": 17,
     "metadata": {},
     "output_type": "execute_result"
    }
   ],
   "source": [
    "df = pd.read_csv('/home/guilhermemaciel/Área de Trabalho/SI5-ELEC2/data/results/lvq.csv')\n",
    "df"
   ]
  },
  {
   "cell_type": "code",
   "execution_count": 39,
   "metadata": {},
   "outputs": [
    {
     "data": {
      "image/png": "[encoded data removed]",
      "text/plain": [
       "<Figure size 1200x600 with 1 Axes>"
      ]
     },
     "execution_count": 39,
     "metadata": {},
     "output_type": "execute_result"
    },
    {
     "data": {
      "image/png": "[encoded data removed]",
      "text/plain": [
       "<Figure size 1200x600 with 1 Axes>"
      ]
     },
     "metadata": {},
     "output_type": "display_data"
    }
   ],
   "source": [
    "plots.show_metrics_comparison_line_plot(df, y_min= 0)"
   ]
  },
  {
   "cell_type": "code",
   "execution_count": 45,
   "metadata": {},
   "outputs": [],
   "source": [
    "import pickle\n",
    "\n",
    "model_path = '/home/guilhermemaciel/Área de Trabalho/SI5-ELEC2/models/lvq/14.pkl'\n",
    "if os.path.exists(model_path):\n",
    "    with open(model_path, \"rb\") as f:\n",
    "        model = pickle.load(f)"
   ]
  },
  {
   "cell_type": "code",
   "execution_count": 33,
   "metadata": {},
   "outputs": [],
   "source": [
    "X_train, Y_train, X_val, Y_val, X_test, Y_test = map(np.array, [X_train, Y_train, X_val, Y_val, X_test, Y_test])\n"
   ]
  },
  {
   "cell_type": "code",
   "execution_count": 34,
   "metadata": {},
   "outputs": [
    {
     "data": {
      "image/png": "[encoded data removed]",
      "text/plain": [
       "<Figure size 600x600 with 2 Axes>"
      ]
     },
     "metadata": {},
     "output_type": "display_data"
    }
   ],
   "source": [
    "plots.show_confusion_matrix(model, X_test, Y_test)"
   ]
  },
  {
   "cell_type": "code",
   "execution_count": 37,
   "metadata": {},
   "outputs": [
    {
     "data": {
      "text/plain": [
       "{'epochs': 100, 'lrate': 0.05, 'n_codebooks': 100}"
      ]
     },
     "execution_count": 37,
     "metadata": {},
     "output_type": "execute_result"
    }
   ],
   "source": [
    "model.get_params()"
   ]
  },
  {
   "cell_type": "markdown",
   "metadata": {},
   "source": [
    "### Cross-Validation"
   ]
  },
  {
   "cell_type": "code",
   "execution_count": 63,
   "metadata": {},
   "outputs": [],
   "source": [
    "from sklearn.metrics import accuracy_score, f1_score, roc_curve, roc_auc_score, recall_score\n",
    "import numpy as np\n",
    "import time\n",
    "import pandas as pd\n",
    "from sklearn.model_selection import RandomizedSearchCV, StratifiedKFold\n",
    "from tqdm.auto import tqdm\n",
    "\n",
    "def cv_best_model(model,params,  X_t, Y_t):\n",
    "    kfold = StratifiedKFold(n_splits=5, random_state=RANDOM_STATE, shuffle=True)\n",
    "    \n",
    "    cv_metrics = []\n",
    "    \n",
    "    for fold, (train_idx, val_idx) in tqdm(enumerate(kfold.split(X_t, Y_t), 1), desc=f\"Realizando CV dos parâmetros {params}\"):\n",
    "        X_train_fold, X_val_fold = X_t[train_idx], X_t[val_idx]\n",
    "        Y_train_fold, Y_val_fold = Y_t[train_idx], Y_t[val_idx]\n",
    "        \n",
    "        # Treina o modelo\n",
    "        model.set_params(**params)\n",
    "        model.fit(X_train_fold, Y_train_fold)\n",
    "        \n",
    "        # Avalia o modelo no conjunto de validação do fold\n",
    "        #fold_metrics = runner.evaluate_model_metrics(model, X_val_fold, Y_val_fold)\n",
    "        #fold_metrics['fold'] = fold\n",
    "        Y_pred_test = model.predict(X_val_fold)\n",
    "        fold_metrics = runner.roc_auc_score(Y_val_fold, Y_pred_test)\n",
    "        cv_metrics.append(fold_metrics)\n",
    "    \n",
    "    return sum(cv_metrics)/len(cv_metrics)"
   ]
  },
  {
   "cell_type": "code",
   "execution_count": 67,
   "metadata": {},
   "outputs": [
    {
     "name": "stderr",
     "output_type": "stream",
     "text": [
      "Realizando CV dos parâmetros {'n_codebooks': 30, 'lrate': 0.1, 'epochs': 100}: 1it [00:25, 25.67s/it]"
     ]
    },
    {
     "name": "stdout",
     "output_type": "stream",
     "text": [
      "Fim do treinameno\n"
     ]
    },
    {
     "name": "stderr",
     "output_type": "stream",
     "text": [
      "Realizando CV dos parâmetros {'n_codebooks': 30, 'lrate': 0.1, 'epochs': 100}: 2it [00:50, 24.96s/it]"
     ]
    },
    {
     "name": "stdout",
     "output_type": "stream",
     "text": [
      "Fim do treinameno\n"
     ]
    },
    {
     "name": "stderr",
     "output_type": "stream",
     "text": [
      "Realizando CV dos parâmetros {'n_codebooks': 30, 'lrate': 0.1, 'epochs': 100}: 3it [01:16, 25.62s/it]"
     ]
    },
    {
     "name": "stdout",
     "output_type": "stream",
     "text": [
      "Fim do treinameno\n"
     ]
    },
    {
     "name": "stderr",
     "output_type": "stream",
     "text": [
      "Realizando CV dos parâmetros {'n_codebooks': 30, 'lrate': 0.1, 'epochs': 100}: 4it [01:42, 25.57s/it]"
     ]
    },
    {
     "name": "stdout",
     "output_type": "stream",
     "text": [
      "Fim do treinameno\n"
     ]
    },
    {
     "name": "stderr",
     "output_type": "stream",
     "text": [
      "Realizando CV dos parâmetros {'n_codebooks': 30, 'lrate': 0.1, 'epochs': 100}: 5it [02:07, 25.46s/it]\n"
     ]
    },
    {
     "name": "stdout",
     "output_type": "stream",
     "text": [
      "Fim do treinameno\n"
     ]
    },
    {
     "name": "stderr",
     "output_type": "stream",
     "text": [
      "Realizando CV dos parâmetros {'n_codebooks': 50, 'lrate': 0.05, 'epochs': 2}: 1it [00:00,  1.07it/s]"
     ]
    },
    {
     "name": "stdout",
     "output_type": "stream",
     "text": [
      "Fim do treinameno\n"
     ]
    },
    {
     "name": "stderr",
     "output_type": "stream",
     "text": [
      "Realizando CV dos parâmetros {'n_codebooks': 50, 'lrate': 0.05, 'epochs': 2}: 2it [00:01,  1.06it/s]"
     ]
    },
    {
     "name": "stdout",
     "output_type": "stream",
     "text": [
      "Fim do treinameno\n"
     ]
    },
    {
     "name": "stderr",
     "output_type": "stream",
     "text": [
      "Realizando CV dos parâmetros {'n_codebooks': 50, 'lrate': 0.05, 'epochs': 2}: 3it [00:02,  1.03it/s]"
     ]
    },
    {
     "name": "stdout",
     "output_type": "stream",
     "text": [
      "Fim do treinameno\n"
     ]
    },
    {
     "name": "stderr",
     "output_type": "stream",
     "text": [
      "Realizando CV dos parâmetros {'n_codebooks': 50, 'lrate': 0.05, 'epochs': 2}: 4it [00:03,  1.03it/s]"
     ]
    },
    {
     "name": "stdout",
     "output_type": "stream",
     "text": [
      "Fim do treinameno\n"
     ]
    },
    {
     "name": "stderr",
     "output_type": "stream",
     "text": [
      "Realizando CV dos parâmetros {'n_codebooks': 50, 'lrate': 0.05, 'epochs': 2}: 5it [00:04,  1.04it/s]\n"
     ]
    },
    {
     "name": "stdout",
     "output_type": "stream",
     "text": [
      "Fim do treinameno\n"
     ]
    },
    {
     "name": "stderr",
     "output_type": "stream",
     "text": [
      "Realizando CV dos parâmetros {'n_codebooks': 5, 'lrate': 0.01, 'epochs': 20}: 1it [00:01,  1.02s/it]"
     ]
    },
    {
     "name": "stdout",
     "output_type": "stream",
     "text": [
      "Fim do treinameno\n"
     ]
    },
    {
     "name": "stderr",
     "output_type": "stream",
     "text": [
      "Realizando CV dos parâmetros {'n_codebooks': 5, 'lrate': 0.01, 'epochs': 20}: 2it [00:02,  1.03s/it]"
     ]
    },
    {
     "name": "stdout",
     "output_type": "stream",
     "text": [
      "Fim do treinameno\n"
     ]
    },
    {
     "name": "stderr",
     "output_type": "stream",
     "text": [
      "Realizando CV dos parâmetros {'n_codebooks': 5, 'lrate': 0.01, 'epochs': 20}: 3it [00:03,  1.04s/it]"
     ]
    },
    {
     "name": "stdout",
     "output_type": "stream",
     "text": [
      "Fim do treinameno\n"
     ]
    },
    {
     "name": "stderr",
     "output_type": "stream",
     "text": [
      "Realizando CV dos parâmetros {'n_codebooks': 5, 'lrate': 0.01, 'epochs': 20}: 4it [00:04,  1.05s/it]"
     ]
    },
    {
     "name": "stdout",
     "output_type": "stream",
     "text": [
      "Fim do treinameno\n"
     ]
    },
    {
     "name": "stderr",
     "output_type": "stream",
     "text": [
      "Realizando CV dos parâmetros {'n_codebooks': 5, 'lrate': 0.01, 'epochs': 20}: 5it [00:05,  1.05s/it]\n"
     ]
    },
    {
     "name": "stdout",
     "output_type": "stream",
     "text": [
      "Fim do treinameno\n"
     ]
    },
    {
     "name": "stderr",
     "output_type": "stream",
     "text": [
      "Realizando CV dos parâmetros {'n_codebooks': 5, 'lrate': 0.05, 'epochs': 50}: 1it [00:02,  2.75s/it]"
     ]
    },
    {
     "name": "stdout",
     "output_type": "stream",
     "text": [
      "Fim do treinameno\n"
     ]
    },
    {
     "name": "stderr",
     "output_type": "stream",
     "text": [
      "Realizando CV dos parâmetros {'n_codebooks': 5, 'lrate': 0.05, 'epochs': 50}: 2it [00:05,  2.75s/it]"
     ]
    },
    {
     "name": "stdout",
     "output_type": "stream",
     "text": [
      "Fim do treinameno\n"
     ]
    },
    {
     "name": "stderr",
     "output_type": "stream",
     "text": [
      "Realizando CV dos parâmetros {'n_codebooks': 5, 'lrate': 0.05, 'epochs': 50}: 3it [00:07,  2.57s/it]"
     ]
    },
    {
     "name": "stdout",
     "output_type": "stream",
     "text": [
      "Fim do treinameno\n"
     ]
    },
    {
     "name": "stderr",
     "output_type": "stream",
     "text": [
      "Realizando CV dos parâmetros {'n_codebooks': 5, 'lrate': 0.05, 'epochs': 50}: 4it [00:10,  2.50s/it]"
     ]
    },
    {
     "name": "stdout",
     "output_type": "stream",
     "text": [
      "Fim do treinameno\n"
     ]
    },
    {
     "name": "stderr",
     "output_type": "stream",
     "text": [
      "Realizando CV dos parâmetros {'n_codebooks': 5, 'lrate': 0.05, 'epochs': 50}: 5it [00:12,  2.52s/it]\n"
     ]
    },
    {
     "name": "stdout",
     "output_type": "stream",
     "text": [
      "Fim do treinameno\n"
     ]
    },
    {
     "name": "stderr",
     "output_type": "stream",
     "text": [
      "Realizando CV dos parâmetros {'n_codebooks': 10, 'lrate': 0.05, 'epochs': 2}: 1it [00:00,  5.34it/s]"
     ]
    },
    {
     "name": "stdout",
     "output_type": "stream",
     "text": [
      "Fim do treinameno\n",
      "Fim do treinameno\n"
     ]
    },
    {
     "name": "stderr",
     "output_type": "stream",
     "text": [
      "Realizando CV dos parâmetros {'n_codebooks': 10, 'lrate': 0.05, 'epochs': 2}: 3it [00:00,  5.35it/s]"
     ]
    },
    {
     "name": "stdout",
     "output_type": "stream",
     "text": [
      "Fim do treinameno\n",
      "Fim do treinameno\n"
     ]
    },
    {
     "name": "stderr",
     "output_type": "stream",
     "text": [
      "Realizando CV dos parâmetros {'n_codebooks': 10, 'lrate': 0.05, 'epochs': 2}: 5it [00:00,  5.11it/s]\n"
     ]
    },
    {
     "name": "stdout",
     "output_type": "stream",
     "text": [
      "Fim do treinameno\n"
     ]
    },
    {
     "name": "stderr",
     "output_type": "stream",
     "text": [
      "Realizando CV dos parâmetros {'n_codebooks': 100, 'lrate': 0.01, 'epochs': 2}: 1it [00:01,  1.79s/it]"
     ]
    },
    {
     "name": "stdout",
     "output_type": "stream",
     "text": [
      "Fim do treinameno\n",
      "Fim do treinameno\n"
     ]
    },
    {
     "name": "stderr",
     "output_type": "stream",
     "text": [
      "Realizando CV dos parâmetros {'n_codebooks': 100, 'lrate': 0.01, 'epochs': 2}: 3it [00:05,  1.89s/it]"
     ]
    },
    {
     "name": "stdout",
     "output_type": "stream",
     "text": [
      "Fim do treinameno\n"
     ]
    },
    {
     "name": "stderr",
     "output_type": "stream",
     "text": [
      "Realizando CV dos parâmetros {'n_codebooks': 100, 'lrate': 0.01, 'epochs': 2}: 4it [00:07,  1.81s/it]"
     ]
    },
    {
     "name": "stdout",
     "output_type": "stream",
     "text": [
      "Fim do treinameno\n"
     ]
    },
    {
     "name": "stderr",
     "output_type": "stream",
     "text": [
      "Realizando CV dos parâmetros {'n_codebooks': 100, 'lrate': 0.01, 'epochs': 2}: 5it [00:09,  1.80s/it]\n"
     ]
    },
    {
     "name": "stdout",
     "output_type": "stream",
     "text": [
      "Fim do treinameno\n"
     ]
    },
    {
     "name": "stderr",
     "output_type": "stream",
     "text": [
      "Realizando CV dos parâmetros {'n_codebooks': 50, 'lrate': 0.1, 'epochs': 100}: 1it [00:40, 40.19s/it]"
     ]
    },
    {
     "name": "stdout",
     "output_type": "stream",
     "text": [
      "Fim do treinameno\n"
     ]
    },
    {
     "name": "stderr",
     "output_type": "stream",
     "text": [
      "Realizando CV dos parâmetros {'n_codebooks': 50, 'lrate': 0.1, 'epochs': 100}: 2it [01:21, 40.94s/it]"
     ]
    },
    {
     "name": "stdout",
     "output_type": "stream",
     "text": [
      "Fim do treinameno\n"
     ]
    },
    {
     "name": "stderr",
     "output_type": "stream",
     "text": [
      "Realizando CV dos parâmetros {'n_codebooks': 50, 'lrate': 0.1, 'epochs': 100}: 3it [02:01, 40.57s/it]"
     ]
    },
    {
     "name": "stdout",
     "output_type": "stream",
     "text": [
      "Fim do treinameno\n"
     ]
    },
    {
     "name": "stderr",
     "output_type": "stream",
     "text": [
      "Realizando CV dos parâmetros {'n_codebooks': 50, 'lrate': 0.1, 'epochs': 100}: 4it [02:45, 41.87s/it]"
     ]
    },
    {
     "name": "stdout",
     "output_type": "stream",
     "text": [
      "Fim do treinameno\n"
     ]
    },
    {
     "name": "stderr",
     "output_type": "stream",
     "text": [
      "Realizando CV dos parâmetros {'n_codebooks': 50, 'lrate': 0.1, 'epochs': 100}: 5it [03:26, 41.32s/it]\n"
     ]
    },
    {
     "name": "stdout",
     "output_type": "stream",
     "text": [
      "Fim do treinameno\n"
     ]
    },
    {
     "name": "stderr",
     "output_type": "stream",
     "text": [
      "Realizando CV dos parâmetros {'n_codebooks': 5, 'lrate': 0.01, 'epochs': 20}: 1it [00:01,  1.04s/it]"
     ]
    },
    {
     "name": "stdout",
     "output_type": "stream",
     "text": [
      "Fim do treinameno\n"
     ]
    },
    {
     "name": "stderr",
     "output_type": "stream",
     "text": [
      "Realizando CV dos parâmetros {'n_codebooks': 5, 'lrate': 0.01, 'epochs': 20}: 2it [00:02,  1.06s/it]"
     ]
    },
    {
     "name": "stdout",
     "output_type": "stream",
     "text": [
      "Fim do treinameno\n"
     ]
    },
    {
     "name": "stderr",
     "output_type": "stream",
     "text": [
      "Realizando CV dos parâmetros {'n_codebooks': 5, 'lrate': 0.01, 'epochs': 20}: 3it [00:03,  1.06s/it]"
     ]
    },
    {
     "name": "stdout",
     "output_type": "stream",
     "text": [
      "Fim do treinameno\n"
     ]
    },
    {
     "name": "stderr",
     "output_type": "stream",
     "text": [
      "Realizando CV dos parâmetros {'n_codebooks': 5, 'lrate': 0.01, 'epochs': 20}: 4it [00:04,  1.06s/it]"
     ]
    },
    {
     "name": "stdout",
     "output_type": "stream",
     "text": [
      "Fim do treinameno\n"
     ]
    },
    {
     "name": "stderr",
     "output_type": "stream",
     "text": [
      "Realizando CV dos parâmetros {'n_codebooks': 5, 'lrate': 0.01, 'epochs': 20}: 5it [00:05,  1.06s/it]\n"
     ]
    },
    {
     "name": "stdout",
     "output_type": "stream",
     "text": [
      "Fim do treinameno\n"
     ]
    },
    {
     "name": "stderr",
     "output_type": "stream",
     "text": [
      "Realizando CV dos parâmetros {'n_codebooks': 30, 'lrate': 0.05, 'epochs': 20}: 1it [00:05,  5.23s/it]"
     ]
    },
    {
     "name": "stdout",
     "output_type": "stream",
     "text": [
      "Fim do treinameno\n"
     ]
    },
    {
     "name": "stderr",
     "output_type": "stream",
     "text": [
      "Realizando CV dos parâmetros {'n_codebooks': 30, 'lrate': 0.05, 'epochs': 20}: 2it [00:10,  5.17s/it]"
     ]
    },
    {
     "name": "stdout",
     "output_type": "stream",
     "text": [
      "Fim do treinameno\n"
     ]
    },
    {
     "name": "stderr",
     "output_type": "stream",
     "text": [
      "Realizando CV dos parâmetros {'n_codebooks': 30, 'lrate': 0.05, 'epochs': 20}: 3it [00:15,  5.26s/it]"
     ]
    },
    {
     "name": "stdout",
     "output_type": "stream",
     "text": [
      "Fim do treinameno\n"
     ]
    },
    {
     "name": "stderr",
     "output_type": "stream",
     "text": [
      "Realizando CV dos parâmetros {'n_codebooks': 30, 'lrate': 0.05, 'epochs': 20}: 4it [00:20,  5.23s/it]"
     ]
    },
    {
     "name": "stdout",
     "output_type": "stream",
     "text": [
      "Fim do treinameno\n"
     ]
    },
    {
     "name": "stderr",
     "output_type": "stream",
     "text": [
      "Realizando CV dos parâmetros {'n_codebooks': 30, 'lrate': 0.05, 'epochs': 20}: 5it [00:26,  5.24s/it]\n"
     ]
    },
    {
     "name": "stdout",
     "output_type": "stream",
     "text": [
      "Fim do treinameno\n"
     ]
    },
    {
     "name": "stderr",
     "output_type": "stream",
     "text": [
      "Realizando CV dos parâmetros {'n_codebooks': 50, 'lrate': 0.1, 'epochs': 2}: 1it [00:00,  1.04it/s]"
     ]
    },
    {
     "name": "stdout",
     "output_type": "stream",
     "text": [
      "Fim do treinameno\n"
     ]
    },
    {
     "name": "stderr",
     "output_type": "stream",
     "text": [
      "Realizando CV dos parâmetros {'n_codebooks': 50, 'lrate': 0.1, 'epochs': 2}: 2it [00:01,  1.13it/s]"
     ]
    },
    {
     "name": "stdout",
     "output_type": "stream",
     "text": [
      "Fim do treinameno\n"
     ]
    },
    {
     "name": "stderr",
     "output_type": "stream",
     "text": [
      "Realizando CV dos parâmetros {'n_codebooks': 50, 'lrate': 0.1, 'epochs': 2}: 3it [00:02,  1.16it/s]"
     ]
    },
    {
     "name": "stdout",
     "output_type": "stream",
     "text": [
      "Fim do treinameno\n"
     ]
    },
    {
     "name": "stderr",
     "output_type": "stream",
     "text": [
      "Realizando CV dos parâmetros {'n_codebooks': 50, 'lrate': 0.1, 'epochs': 2}: 4it [00:03,  1.18it/s]"
     ]
    },
    {
     "name": "stdout",
     "output_type": "stream",
     "text": [
      "Fim do treinameno\n"
     ]
    },
    {
     "name": "stderr",
     "output_type": "stream",
     "text": [
      "Realizando CV dos parâmetros {'n_codebooks': 50, 'lrate': 0.1, 'epochs': 2}: 5it [00:04,  1.16it/s]\n"
     ]
    },
    {
     "name": "stdout",
     "output_type": "stream",
     "text": [
      "Fim do treinameno\n"
     ]
    },
    {
     "name": "stderr",
     "output_type": "stream",
     "text": [
      "Realizando CV dos parâmetros {'n_codebooks': 100, 'lrate': 0.1, 'epochs': 2}: 1it [00:01,  1.64s/it]"
     ]
    },
    {
     "name": "stdout",
     "output_type": "stream",
     "text": [
      "Fim do treinameno\n"
     ]
    },
    {
     "name": "stderr",
     "output_type": "stream",
     "text": [
      "Realizando CV dos parâmetros {'n_codebooks': 100, 'lrate': 0.1, 'epochs': 2}: 2it [00:03,  1.65s/it]"
     ]
    },
    {
     "name": "stdout",
     "output_type": "stream",
     "text": [
      "Fim do treinameno\n"
     ]
    },
    {
     "name": "stderr",
     "output_type": "stream",
     "text": [
      "Realizando CV dos parâmetros {'n_codebooks': 100, 'lrate': 0.1, 'epochs': 2}: 3it [00:04,  1.64s/it]"
     ]
    },
    {
     "name": "stdout",
     "output_type": "stream",
     "text": [
      "Fim do treinameno\n"
     ]
    },
    {
     "name": "stderr",
     "output_type": "stream",
     "text": [
      "Realizando CV dos parâmetros {'n_codebooks': 100, 'lrate': 0.1, 'epochs': 2}: 4it [00:06,  1.64s/it]"
     ]
    },
    {
     "name": "stdout",
     "output_type": "stream",
     "text": [
      "Fim do treinameno\n"
     ]
    },
    {
     "name": "stderr",
     "output_type": "stream",
     "text": [
      "Realizando CV dos parâmetros {'n_codebooks': 100, 'lrate': 0.1, 'epochs': 2}: 5it [00:08,  1.64s/it]\n"
     ]
    },
    {
     "name": "stdout",
     "output_type": "stream",
     "text": [
      "Fim do treinameno\n"
     ]
    },
    {
     "name": "stderr",
     "output_type": "stream",
     "text": [
      "Realizando CV dos parâmetros {'n_codebooks': 50, 'lrate': 0.5, 'epochs': 100}: 1it [00:41, 41.45s/it]"
     ]
    },
    {
     "name": "stdout",
     "output_type": "stream",
     "text": [
      "Fim do treinameno\n"
     ]
    },
    {
     "name": "stderr",
     "output_type": "stream",
     "text": [
      "Realizando CV dos parâmetros {'n_codebooks': 50, 'lrate': 0.5, 'epochs': 100}: 2it [01:20, 39.96s/it]"
     ]
    },
    {
     "name": "stdout",
     "output_type": "stream",
     "text": [
      "Fim do treinameno\n"
     ]
    },
    {
     "name": "stderr",
     "output_type": "stream",
     "text": [
      "Realizando CV dos parâmetros {'n_codebooks': 50, 'lrate': 0.5, 'epochs': 100}: 3it [01:56, 38.41s/it]"
     ]
    },
    {
     "name": "stdout",
     "output_type": "stream",
     "text": [
      "Fim do treinameno\n"
     ]
    },
    {
     "name": "stderr",
     "output_type": "stream",
     "text": [
      "Realizando CV dos parâmetros {'n_codebooks': 50, 'lrate': 0.5, 'epochs': 100}: 4it [02:33, 37.60s/it]"
     ]
    },
    {
     "name": "stdout",
     "output_type": "stream",
     "text": [
      "Fim do treinameno\n"
     ]
    },
    {
     "name": "stderr",
     "output_type": "stream",
     "text": [
      "Realizando CV dos parâmetros {'n_codebooks': 50, 'lrate': 0.5, 'epochs': 100}: 5it [03:10, 38.02s/it]\n"
     ]
    },
    {
     "name": "stdout",
     "output_type": "stream",
     "text": [
      "Fim do treinameno\n"
     ]
    },
    {
     "name": "stderr",
     "output_type": "stream",
     "text": [
      "Realizando CV dos parâmetros {'n_codebooks': 50, 'lrate': 0.01, 'epochs': 20}: 1it [00:07,  7.29s/it]"
     ]
    },
    {
     "name": "stdout",
     "output_type": "stream",
     "text": [
      "Fim do treinameno\n"
     ]
    },
    {
     "name": "stderr",
     "output_type": "stream",
     "text": [
      "Realizando CV dos parâmetros {'n_codebooks': 50, 'lrate': 0.01, 'epochs': 20}: 2it [00:14,  7.39s/it]"
     ]
    },
    {
     "name": "stdout",
     "output_type": "stream",
     "text": [
      "Fim do treinameno\n"
     ]
    },
    {
     "name": "stderr",
     "output_type": "stream",
     "text": [
      "Realizando CV dos parâmetros {'n_codebooks': 50, 'lrate': 0.01, 'epochs': 20}: 3it [00:22,  7.39s/it]"
     ]
    },
    {
     "name": "stdout",
     "output_type": "stream",
     "text": [
      "Fim do treinameno\n"
     ]
    },
    {
     "name": "stderr",
     "output_type": "stream",
     "text": [
      "Realizando CV dos parâmetros {'n_codebooks': 50, 'lrate': 0.01, 'epochs': 20}: 4it [00:29,  7.39s/it]"
     ]
    },
    {
     "name": "stdout",
     "output_type": "stream",
     "text": [
      "Fim do treinameno\n"
     ]
    },
    {
     "name": "stderr",
     "output_type": "stream",
     "text": [
      "Realizando CV dos parâmetros {'n_codebooks': 50, 'lrate': 0.01, 'epochs': 20}: 5it [00:36,  7.40s/it]\n"
     ]
    },
    {
     "name": "stdout",
     "output_type": "stream",
     "text": [
      "Fim do treinameno\n"
     ]
    },
    {
     "name": "stderr",
     "output_type": "stream",
     "text": [
      "Realizando CV dos parâmetros {'n_codebooks': 30, 'lrate': 0.5, 'epochs': 2}: 1it [00:00,  1.99it/s]"
     ]
    },
    {
     "name": "stdout",
     "output_type": "stream",
     "text": [
      "Fim do treinameno\n"
     ]
    },
    {
     "name": "stderr",
     "output_type": "stream",
     "text": [
      "Realizando CV dos parâmetros {'n_codebooks': 30, 'lrate': 0.5, 'epochs': 2}: 2it [00:00,  2.00it/s]"
     ]
    },
    {
     "name": "stdout",
     "output_type": "stream",
     "text": [
      "Fim do treinameno\n"
     ]
    },
    {
     "name": "stderr",
     "output_type": "stream",
     "text": [
      "Realizando CV dos parâmetros {'n_codebooks': 30, 'lrate': 0.5, 'epochs': 2}: 3it [00:01,  1.99it/s]"
     ]
    },
    {
     "name": "stdout",
     "output_type": "stream",
     "text": [
      "Fim do treinameno\n"
     ]
    },
    {
     "name": "stderr",
     "output_type": "stream",
     "text": [
      "Realizando CV dos parâmetros {'n_codebooks': 30, 'lrate': 0.5, 'epochs': 2}: 4it [00:02,  2.00it/s]"
     ]
    },
    {
     "name": "stdout",
     "output_type": "stream",
     "text": [
      "Fim do treinameno\n"
     ]
    },
    {
     "name": "stderr",
     "output_type": "stream",
     "text": [
      "Realizando CV dos parâmetros {'n_codebooks': 30, 'lrate': 0.5, 'epochs': 2}: 5it [00:02,  2.00it/s]\n"
     ]
    },
    {
     "name": "stdout",
     "output_type": "stream",
     "text": [
      "Fim do treinameno\n"
     ]
    },
    {
     "name": "stderr",
     "output_type": "stream",
     "text": [
      "Realizando CV dos parâmetros {'n_codebooks': 100, 'lrate': 0.05, 'epochs': 100}: 1it [01:12, 72.00s/it]"
     ]
    },
    {
     "name": "stdout",
     "output_type": "stream",
     "text": [
      "Fim do treinameno\n"
     ]
    },
    {
     "name": "stderr",
     "output_type": "stream",
     "text": [
      "Realizando CV dos parâmetros {'n_codebooks': 100, 'lrate': 0.05, 'epochs': 100}: 2it [02:23, 71.88s/it]"
     ]
    },
    {
     "name": "stdout",
     "output_type": "stream",
     "text": [
      "Fim do treinameno\n"
     ]
    },
    {
     "name": "stderr",
     "output_type": "stream",
     "text": [
      "Realizando CV dos parâmetros {'n_codebooks': 100, 'lrate': 0.05, 'epochs': 100}: 3it [03:36, 72.22s/it]"
     ]
    },
    {
     "name": "stdout",
     "output_type": "stream",
     "text": [
      "Fim do treinameno\n"
     ]
    },
    {
     "name": "stderr",
     "output_type": "stream",
     "text": [
      "Realizando CV dos parâmetros {'n_codebooks': 100, 'lrate': 0.05, 'epochs': 100}: 4it [04:48, 72.09s/it]"
     ]
    },
    {
     "name": "stdout",
     "output_type": "stream",
     "text": [
      "Fim do treinameno\n"
     ]
    },
    {
     "name": "stderr",
     "output_type": "stream",
     "text": [
      "Realizando CV dos parâmetros {'n_codebooks': 100, 'lrate': 0.05, 'epochs': 100}: 5it [06:01, 72.20s/it]\n"
     ]
    },
    {
     "name": "stdout",
     "output_type": "stream",
     "text": [
      "Fim do treinameno\n"
     ]
    },
    {
     "name": "stderr",
     "output_type": "stream",
     "text": [
      "Realizando CV dos parâmetros {'n_codebooks': 5, 'lrate': 0.05, 'epochs': 50}: 1it [00:02,  2.28s/it]"
     ]
    },
    {
     "name": "stdout",
     "output_type": "stream",
     "text": [
      "Fim do treinameno\n"
     ]
    },
    {
     "name": "stderr",
     "output_type": "stream",
     "text": [
      "Realizando CV dos parâmetros {'n_codebooks': 5, 'lrate': 0.05, 'epochs': 50}: 2it [00:04,  2.27s/it]"
     ]
    },
    {
     "name": "stdout",
     "output_type": "stream",
     "text": [
      "Fim do treinameno\n"
     ]
    },
    {
     "name": "stderr",
     "output_type": "stream",
     "text": [
      "Realizando CV dos parâmetros {'n_codebooks': 5, 'lrate': 0.05, 'epochs': 50}: 3it [00:06,  2.28s/it]"
     ]
    },
    {
     "name": "stdout",
     "output_type": "stream",
     "text": [
      "Fim do treinameno\n"
     ]
    },
    {
     "name": "stderr",
     "output_type": "stream",
     "text": [
      "Realizando CV dos parâmetros {'n_codebooks': 5, 'lrate': 0.05, 'epochs': 50}: 4it [00:09,  2.28s/it]"
     ]
    },
    {
     "name": "stdout",
     "output_type": "stream",
     "text": [
      "Fim do treinameno\n"
     ]
    },
    {
     "name": "stderr",
     "output_type": "stream",
     "text": [
      "Realizando CV dos parâmetros {'n_codebooks': 5, 'lrate': 0.05, 'epochs': 50}: 5it [00:11,  2.28s/it]\n"
     ]
    },
    {
     "name": "stdout",
     "output_type": "stream",
     "text": [
      "Fim do treinameno\n"
     ]
    },
    {
     "name": "stderr",
     "output_type": "stream",
     "text": [
      "Realizando CV dos parâmetros {'n_codebooks': 5, 'lrate': 0.01, 'epochs': 2}: 1it [00:00,  9.54it/s]"
     ]
    },
    {
     "name": "stdout",
     "output_type": "stream",
     "text": [
      "Fim do treinameno\n",
      "Fim do treinameno\n"
     ]
    },
    {
     "name": "stderr",
     "output_type": "stream",
     "text": [
      "Realizando CV dos parâmetros {'n_codebooks': 5, 'lrate': 0.01, 'epochs': 2}: 2it [00:00,  9.71it/s]"
     ]
    },
    {
     "name": "stdout",
     "output_type": "stream",
     "text": [
      "Fim do treinameno\n"
     ]
    },
    {
     "name": "stderr",
     "output_type": "stream",
     "text": [
      "Realizando CV dos parâmetros {'n_codebooks': 5, 'lrate': 0.01, 'epochs': 2}: 4it [00:00,  9.66it/s]"
     ]
    },
    {
     "name": "stdout",
     "output_type": "stream",
     "text": [
      "Fim do treinameno\n",
      "Fim do treinameno\n"
     ]
    },
    {
     "name": "stderr",
     "output_type": "stream",
     "text": [
      "Realizando CV dos parâmetros {'n_codebooks': 5, 'lrate': 0.01, 'epochs': 2}: 5it [00:00,  9.68it/s]\n",
      "Realizando CV dos parâmetros {'n_codebooks': 5, 'lrate': 0.01, 'epochs': 50}: 1it [00:02,  2.28s/it]"
     ]
    },
    {
     "name": "stdout",
     "output_type": "stream",
     "text": [
      "Fim do treinameno\n"
     ]
    },
    {
     "name": "stderr",
     "output_type": "stream",
     "text": [
      "Realizando CV dos parâmetros {'n_codebooks': 5, 'lrate': 0.01, 'epochs': 50}: 2it [00:04,  2.27s/it]"
     ]
    },
    {
     "name": "stdout",
     "output_type": "stream",
     "text": [
      "Fim do treinameno\n"
     ]
    },
    {
     "name": "stderr",
     "output_type": "stream",
     "text": [
      "Realizando CV dos parâmetros {'n_codebooks': 5, 'lrate': 0.01, 'epochs': 50}: 3it [00:06,  2.27s/it]"
     ]
    },
    {
     "name": "stdout",
     "output_type": "stream",
     "text": [
      "Fim do treinameno\n"
     ]
    },
    {
     "name": "stderr",
     "output_type": "stream",
     "text": [
      "Realizando CV dos parâmetros {'n_codebooks': 5, 'lrate': 0.01, 'epochs': 50}: 4it [00:09,  2.29s/it]"
     ]
    },
    {
     "name": "stdout",
     "output_type": "stream",
     "text": [
      "Fim do treinameno\n"
     ]
    },
    {
     "name": "stderr",
     "output_type": "stream",
     "text": [
      "Realizando CV dos parâmetros {'n_codebooks': 5, 'lrate': 0.01, 'epochs': 50}: 5it [00:11,  2.28s/it]\n"
     ]
    },
    {
     "name": "stdout",
     "output_type": "stream",
     "text": [
      "Fim do treinameno\n"
     ]
    },
    {
     "name": "stderr",
     "output_type": "stream",
     "text": [
      "Realizando CV dos parâmetros {'n_codebooks': 50, 'lrate': 0.5, 'epochs': 100}: 1it [00:35, 35.97s/it]"
     ]
    },
    {
     "name": "stdout",
     "output_type": "stream",
     "text": [
      "Fim do treinameno\n"
     ]
    },
    {
     "name": "stderr",
     "output_type": "stream",
     "text": [
      "Realizando CV dos parâmetros {'n_codebooks': 50, 'lrate': 0.5, 'epochs': 100}: 2it [01:11, 36.00s/it]"
     ]
    },
    {
     "name": "stdout",
     "output_type": "stream",
     "text": [
      "Fim do treinameno\n"
     ]
    },
    {
     "name": "stderr",
     "output_type": "stream",
     "text": [
      "Realizando CV dos parâmetros {'n_codebooks': 50, 'lrate': 0.5, 'epochs': 100}: 3it [01:48, 36.34s/it]"
     ]
    },
    {
     "name": "stdout",
     "output_type": "stream",
     "text": [
      "Fim do treinameno\n"
     ]
    },
    {
     "name": "stderr",
     "output_type": "stream",
     "text": [
      "Realizando CV dos parâmetros {'n_codebooks': 50, 'lrate': 0.5, 'epochs': 100}: 4it [02:24, 36.12s/it]"
     ]
    },
    {
     "name": "stdout",
     "output_type": "stream",
     "text": [
      "Fim do treinameno\n"
     ]
    },
    {
     "name": "stderr",
     "output_type": "stream",
     "text": [
      "Realizando CV dos parâmetros {'n_codebooks': 50, 'lrate': 0.5, 'epochs': 100}: 5it [03:00, 36.19s/it]\n"
     ]
    },
    {
     "name": "stdout",
     "output_type": "stream",
     "text": [
      "Fim do treinameno\n"
     ]
    },
    {
     "name": "stderr",
     "output_type": "stream",
     "text": [
      "Realizando CV dos parâmetros {'n_codebooks': 100, 'lrate': 0.05, 'epochs': 2}: 1it [00:01,  1.69s/it]"
     ]
    },
    {
     "name": "stdout",
     "output_type": "stream",
     "text": [
      "Fim do treinameno\n"
     ]
    },
    {
     "name": "stderr",
     "output_type": "stream",
     "text": [
      "Realizando CV dos parâmetros {'n_codebooks': 100, 'lrate': 0.05, 'epochs': 2}: 2it [00:03,  1.65s/it]"
     ]
    },
    {
     "name": "stdout",
     "output_type": "stream",
     "text": [
      "Fim do treinameno\n"
     ]
    },
    {
     "name": "stderr",
     "output_type": "stream",
     "text": [
      "Realizando CV dos parâmetros {'n_codebooks': 100, 'lrate': 0.05, 'epochs': 2}: 3it [00:04,  1.67s/it]"
     ]
    },
    {
     "name": "stdout",
     "output_type": "stream",
     "text": [
      "Fim do treinameno\n"
     ]
    },
    {
     "name": "stderr",
     "output_type": "stream",
     "text": [
      "Realizando CV dos parâmetros {'n_codebooks': 100, 'lrate': 0.05, 'epochs': 2}: 4it [00:06,  1.65s/it]"
     ]
    },
    {
     "name": "stdout",
     "output_type": "stream",
     "text": [
      "Fim do treinameno\n"
     ]
    },
    {
     "name": "stderr",
     "output_type": "stream",
     "text": [
      "Realizando CV dos parâmetros {'n_codebooks': 100, 'lrate': 0.05, 'epochs': 2}: 5it [00:08,  1.66s/it]"
     ]
    },
    {
     "name": "stdout",
     "output_type": "stream",
     "text": [
      "Fim do treinameno\n"
     ]
    },
    {
     "name": "stderr",
     "output_type": "stream",
     "text": [
      "\n"
     ]
    }
   ],
   "source": [
    "import ast\n",
    "\n",
    "test = {}\n",
    "for x, model_info in enumerate(df['params']):\n",
    "    test[x] = cv_best_model(lvq_model, ast.literal_eval(model_info), X_test, Y_test)"
   ]
  },
  {
   "cell_type": "code",
   "execution_count": 52,
   "metadata": {},
   "outputs": [
    {
     "name": "stdout",
     "output_type": "stream",
     "text": [
      "#### Resultados das Métricas:\n",
      "- **Accuracy train**:\n",
      "  - **Melhor valor geral**: 0.7116\n",
      "  - **Média**: 0.6495\n",
      "  - **Desvio Padrão**: 0.0476\n",
      "  - **Valor no Modelo Selecionado**: 0.7116\n",
      "\n",
      "- **Accuracy val**:\n",
      "  - **Melhor valor geral**: 0.7083\n",
      "  - **Média**: 0.6448\n",
      "  - **Desvio Padrão**: 0.0480\n",
      "  - **Valor no Modelo Selecionado**: 0.7083\n",
      "\n",
      "- **Accuracy test**:\n",
      "  - **Melhor valor geral**: 0.7101\n",
      "  - **Média**: 0.6506\n",
      "  - **Desvio Padrão**: 0.0426\n",
      "  - **Valor no Modelo Selecionado**: 0.7101\n",
      "\n",
      "- **F1 score**:\n",
      "  - **Melhor valor geral**: 0.6501\n",
      "  - **Média**: 0.4376\n",
      "  - **Desvio Padrão**: 0.2315\n",
      "  - **Valor no Modelo Selecionado**: 0.6501\n",
      "\n",
      "- **Auc**:\n",
      "  - **Melhor valor geral**: 0.7023\n",
      "  - **Média**: 0.6129\n",
      "  - **Desvio Padrão**: 0.0696\n",
      "  - **Valor no Modelo Selecionado**: 0.7023\n",
      "\n",
      "- **Recall**:\n",
      "  - **Melhor valor geral**: 0.6602\n",
      "  - **Média**: 0.4080\n",
      "  - **Desvio Padrão**: 0.2294\n",
      "  - **Valor no Modelo Selecionado**: 0.6602\n",
      "\n",
      "\n"
     ]
    }
   ],
   "source": [
    "# Inicializando o markdown\n",
    "markdown = \"#### Resultados das Métricas:\\n\"\n",
    "\n",
    "#Definindo as métricas a serem analisadas\n",
    "metrics = [\"accuracy_train\", \"accuracy_val\", \"accuracy_test\", \"f1_score\", \"auc\", \"recall\"]\n",
    "\n",
    "\n",
    "# Encontrar o modelo com o melhor AUC\n",
    "best_model_row = max(df.iterrows(), key=lambda x: x[1]['auc'])  # Modelo com o maior AUC\n",
    "\n",
    "\n",
    "# Iterando sobre as métricas para calcular os valores\n",
    "for metric in metrics:\n",
    "    # Obtendo os valores para cada métrica\n",
    "    all_values = df[metric].values  # Acessando diretamente a coluna como um array NumPy\n",
    "    \n",
    "    # Calcular o melhor valor da métrica (máximo)\n",
    "    best_value = max(all_values)\n",
    "    \n",
    "    # Calcular a média e desvio padrão da métrica\n",
    "    avg_value = np.mean(all_values)\n",
    "    std_value = np.std(all_values)\n",
    "    \n",
    "    # Encontrar o valor do modelo selecionado (o modelo com o melhor AUC)\n",
    "    model_value = best_model_row[1][metric]  # Acessando a linha do modelo com melhor AUC\n",
    "    \n",
    "    # Adicionando os resultados ao markdown\n",
    "    markdown += f\"- **{metric.replace('_', ' ').capitalize()}**:\\n\"\n",
    "    markdown += f\"  - **Melhor valor geral**: {best_value:.4f}\\n\"\n",
    "    markdown += f\"  - **Média**: {avg_value:.4f}\\n\"\n",
    "    markdown += f\"  - **Desvio Padrão**: {std_value:.4f}\\n\"\n",
    "    markdown += f\"  - **Valor no Modelo Selecionado**: {model_value:.4f}\\n\\n\"\n",
    "\n",
    "# Exibindo o resultado final do markdown\n",
    "print(markdown)\n"
   ]
  },
  {
   "cell_type": "code",
   "execution_count": 85,
   "metadata": {},
   "outputs": [
    {
     "data": {
      "image/png": "[encoded data removed]",
      "text/plain": [
       "<Figure size 1000x600 with 1 Axes>"
      ]
     },
     "metadata": {},
     "output_type": "display_data"
    }
   ],
   "source": [
    "import numpy as np\n",
    "import pandas as pd\n",
    "import matplotlib.pyplot as plt\n",
    "from sklearn.metrics import confusion_matrix\n",
    "import seaborn as sns\n",
    "\n",
    "# Criando o gráfico\n",
    "plt.figure(figsize=(10, 6))\n",
    "\n",
    "# Plotando o desempenho de teste\n",
    "plt.plot(range(1, 6), list(test.values())[15:20], label='Test Score', marker='o', linestyle='-', color='blue')\n",
    "\n",
    "# Plotando o desempenho de treino\n",
    "plt.plot(range(1, 6), list(train.values())[15:20], label='Train Score', marker='o', linestyle='-', color='red')\n",
    "\n",
    "# Adicionando rótulos e título\n",
    "plt.xlabel('Split', fontsize=12)\n",
    "plt.ylabel('Score', fontsize=12)\n",
    "plt.title(\"Desempenho do Melhor Modelo na Cross Validation\", fontsize=14)\n",
    "\n",
    "# Adicionando a legenda\n",
    "plt.legend()\n",
    "\n",
    "# Exibindo a grade\n",
    "plt.grid(True)\n",
    "\n",
    "# Exibindo o gráfico\n",
    "plt.show()"
   ]
  }
 ],
 "metadata": {
  "kernelspec": {
   "display_name": "Python 3",
   "language": "python",
   "name": "python3"
  },
  "language_info": {
   "codemirror_mode": {
    "name": "ipython",
    "version": 3
   },
   "file_extension": ".py",
   "mimetype": "text/x-python",
   "name": "python",
   "nbconvert_exporter": "python",
   "pygments_lexer": "ipython3",
   "version": "3.10.12"
  }
 },
 "nbformat": 4,
 "nbformat_minor": 2
}
