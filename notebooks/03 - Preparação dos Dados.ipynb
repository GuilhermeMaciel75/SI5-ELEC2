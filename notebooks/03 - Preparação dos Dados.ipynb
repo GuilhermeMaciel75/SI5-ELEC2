{
 "cells": [
  {
   "cell_type": "markdown",
   "metadata": {},
   "source": [
    "# Fase 3 - Preparação dos Dados"
   ]
  },
  {
   "cell_type": "markdown",
   "metadata": {},
   "source": [
    "## 0. Importando Bibliotecas Externas e o Dataset"
   ]
  },
  {
   "cell_type": "code",
   "execution_count": 22,
   "metadata": {},
   "outputs": [],
   "source": [
    "import warnings\n",
    "warnings.filterwarnings(\"ignore\")"
   ]
  },
  {
   "cell_type": "code",
   "execution_count": 23,
   "metadata": {},
   "outputs": [],
   "source": [
    "import pandas as pd\n",
    "import numpy as np\n",
    "import seaborn as sns\n",
    "import matplotlib.pyplot as plt\n",
    "from scipy.io import arff\n",
    "from sklearn.model_selection import train_test_split\n",
    "\n",
    "\n",
    "RANDOM = 51"
   ]
  },
  {
   "cell_type": "markdown",
   "metadata": {},
   "source": [
    "### Importando os dados"
   ]
  },
  {
   "cell_type": "code",
   "execution_count": 24,
   "metadata": {},
   "outputs": [
    {
     "data": {
      "text/html": [
       "<div>\n",
       "<style scoped>\n",
       "    .dataframe tbody tr th:only-of-type {\n",
       "        vertical-align: middle;\n",
       "    }\n",
       "\n",
       "    .dataframe tbody tr th {\n",
       "        vertical-align: top;\n",
       "    }\n",
       "\n",
       "    .dataframe thead th {\n",
       "        text-align: right;\n",
       "    }\n",
       "</style>\n",
       "<table border=\"1\" class=\"dataframe\">\n",
       "  <thead>\n",
       "    <tr style=\"text-align: right;\">\n",
       "      <th></th>\n",
       "      <th>date</th>\n",
       "      <th>day</th>\n",
       "      <th>period</th>\n",
       "      <th>nswprice</th>\n",
       "      <th>nswdemand</th>\n",
       "      <th>vicprice</th>\n",
       "      <th>vicdemand</th>\n",
       "      <th>transfer</th>\n",
       "      <th>class</th>\n",
       "    </tr>\n",
       "  </thead>\n",
       "  <tbody>\n",
       "    <tr>\n",
       "      <th>0</th>\n",
       "      <td>0.0000</td>\n",
       "      <td>b'2'</td>\n",
       "      <td>0.000000</td>\n",
       "      <td>0.056443</td>\n",
       "      <td>0.439155</td>\n",
       "      <td>0.003467</td>\n",
       "      <td>0.422915</td>\n",
       "      <td>0.414912</td>\n",
       "      <td>b'UP'</td>\n",
       "    </tr>\n",
       "    <tr>\n",
       "      <th>1</th>\n",
       "      <td>0.0000</td>\n",
       "      <td>b'2'</td>\n",
       "      <td>0.021277</td>\n",
       "      <td>0.051699</td>\n",
       "      <td>0.415055</td>\n",
       "      <td>0.003467</td>\n",
       "      <td>0.422915</td>\n",
       "      <td>0.414912</td>\n",
       "      <td>b'UP'</td>\n",
       "    </tr>\n",
       "    <tr>\n",
       "      <th>2</th>\n",
       "      <td>0.0000</td>\n",
       "      <td>b'2'</td>\n",
       "      <td>0.042553</td>\n",
       "      <td>0.051489</td>\n",
       "      <td>0.385004</td>\n",
       "      <td>0.003467</td>\n",
       "      <td>0.422915</td>\n",
       "      <td>0.414912</td>\n",
       "      <td>b'UP'</td>\n",
       "    </tr>\n",
       "    <tr>\n",
       "      <th>3</th>\n",
       "      <td>0.0000</td>\n",
       "      <td>b'2'</td>\n",
       "      <td>0.063830</td>\n",
       "      <td>0.045485</td>\n",
       "      <td>0.314639</td>\n",
       "      <td>0.003467</td>\n",
       "      <td>0.422915</td>\n",
       "      <td>0.414912</td>\n",
       "      <td>b'UP'</td>\n",
       "    </tr>\n",
       "    <tr>\n",
       "      <th>4</th>\n",
       "      <td>0.0000</td>\n",
       "      <td>b'2'</td>\n",
       "      <td>0.085106</td>\n",
       "      <td>0.042482</td>\n",
       "      <td>0.251116</td>\n",
       "      <td>0.003467</td>\n",
       "      <td>0.422915</td>\n",
       "      <td>0.414912</td>\n",
       "      <td>b'DOWN'</td>\n",
       "    </tr>\n",
       "    <tr>\n",
       "      <th>...</th>\n",
       "      <td>...</td>\n",
       "      <td>...</td>\n",
       "      <td>...</td>\n",
       "      <td>...</td>\n",
       "      <td>...</td>\n",
       "      <td>...</td>\n",
       "      <td>...</td>\n",
       "      <td>...</td>\n",
       "      <td>...</td>\n",
       "    </tr>\n",
       "    <tr>\n",
       "      <th>45307</th>\n",
       "      <td>0.9158</td>\n",
       "      <td>b'7'</td>\n",
       "      <td>0.914894</td>\n",
       "      <td>0.044224</td>\n",
       "      <td>0.340672</td>\n",
       "      <td>0.003033</td>\n",
       "      <td>0.255049</td>\n",
       "      <td>0.405263</td>\n",
       "      <td>b'DOWN'</td>\n",
       "    </tr>\n",
       "    <tr>\n",
       "      <th>45308</th>\n",
       "      <td>0.9158</td>\n",
       "      <td>b'7'</td>\n",
       "      <td>0.936170</td>\n",
       "      <td>0.044884</td>\n",
       "      <td>0.355549</td>\n",
       "      <td>0.003072</td>\n",
       "      <td>0.241326</td>\n",
       "      <td>0.420614</td>\n",
       "      <td>b'DOWN'</td>\n",
       "    </tr>\n",
       "    <tr>\n",
       "      <th>45309</th>\n",
       "      <td>0.9158</td>\n",
       "      <td>b'7'</td>\n",
       "      <td>0.957447</td>\n",
       "      <td>0.043593</td>\n",
       "      <td>0.340970</td>\n",
       "      <td>0.002983</td>\n",
       "      <td>0.247799</td>\n",
       "      <td>0.362281</td>\n",
       "      <td>b'DOWN'</td>\n",
       "    </tr>\n",
       "    <tr>\n",
       "      <th>45310</th>\n",
       "      <td>0.9158</td>\n",
       "      <td>b'7'</td>\n",
       "      <td>0.978723</td>\n",
       "      <td>0.066651</td>\n",
       "      <td>0.329366</td>\n",
       "      <td>0.004630</td>\n",
       "      <td>0.345417</td>\n",
       "      <td>0.206579</td>\n",
       "      <td>b'UP'</td>\n",
       "    </tr>\n",
       "    <tr>\n",
       "      <th>45311</th>\n",
       "      <td>0.9158</td>\n",
       "      <td>b'7'</td>\n",
       "      <td>1.000000</td>\n",
       "      <td>0.050679</td>\n",
       "      <td>0.288753</td>\n",
       "      <td>0.003542</td>\n",
       "      <td>0.355256</td>\n",
       "      <td>0.231140</td>\n",
       "      <td>b'DOWN'</td>\n",
       "    </tr>\n",
       "  </tbody>\n",
       "</table>\n",
       "<p>45312 rows × 9 columns</p>\n",
       "</div>"
      ],
      "text/plain": [
       "         date   day    period  nswprice  nswdemand  vicprice  vicdemand  \\\n",
       "0      0.0000  b'2'  0.000000  0.056443   0.439155  0.003467   0.422915   \n",
       "1      0.0000  b'2'  0.021277  0.051699   0.415055  0.003467   0.422915   \n",
       "2      0.0000  b'2'  0.042553  0.051489   0.385004  0.003467   0.422915   \n",
       "3      0.0000  b'2'  0.063830  0.045485   0.314639  0.003467   0.422915   \n",
       "4      0.0000  b'2'  0.085106  0.042482   0.251116  0.003467   0.422915   \n",
       "...       ...   ...       ...       ...        ...       ...        ...   \n",
       "45307  0.9158  b'7'  0.914894  0.044224   0.340672  0.003033   0.255049   \n",
       "45308  0.9158  b'7'  0.936170  0.044884   0.355549  0.003072   0.241326   \n",
       "45309  0.9158  b'7'  0.957447  0.043593   0.340970  0.002983   0.247799   \n",
       "45310  0.9158  b'7'  0.978723  0.066651   0.329366  0.004630   0.345417   \n",
       "45311  0.9158  b'7'  1.000000  0.050679   0.288753  0.003542   0.355256   \n",
       "\n",
       "       transfer    class  \n",
       "0      0.414912    b'UP'  \n",
       "1      0.414912    b'UP'  \n",
       "2      0.414912    b'UP'  \n",
       "3      0.414912    b'UP'  \n",
       "4      0.414912  b'DOWN'  \n",
       "...         ...      ...  \n",
       "45307  0.405263  b'DOWN'  \n",
       "45308  0.420614  b'DOWN'  \n",
       "45309  0.362281  b'DOWN'  \n",
       "45310  0.206579    b'UP'  \n",
       "45311  0.231140  b'DOWN'  \n",
       "\n",
       "[45312 rows x 9 columns]"
      ]
     },
     "execution_count": 24,
     "metadata": {},
     "output_type": "execute_result"
    }
   ],
   "source": [
    "file_path = \"../data/raw/electricity-normalized.arff\"\n",
    "data, meta = arff.loadarff(file_path)\n",
    "\n",
    "df = pd.DataFrame(data)\n",
    "\n",
    "df"
   ]
  },
  {
   "cell_type": "markdown",
   "metadata": {},
   "source": [
    "### Convertendo as colunas categóricas para Bytes de strings\n"
   ]
  },
  {
   "cell_type": "code",
   "execution_count": 25,
   "metadata": {},
   "outputs": [
    {
     "data": {
      "text/html": [
       "<div>\n",
       "<style scoped>\n",
       "    .dataframe tbody tr th:only-of-type {\n",
       "        vertical-align: middle;\n",
       "    }\n",
       "\n",
       "    .dataframe tbody tr th {\n",
       "        vertical-align: top;\n",
       "    }\n",
       "\n",
       "    .dataframe thead th {\n",
       "        text-align: right;\n",
       "    }\n",
       "</style>\n",
       "<table border=\"1\" class=\"dataframe\">\n",
       "  <thead>\n",
       "    <tr style=\"text-align: right;\">\n",
       "      <th></th>\n",
       "      <th>date</th>\n",
       "      <th>day</th>\n",
       "      <th>period</th>\n",
       "      <th>nswprice</th>\n",
       "      <th>nswdemand</th>\n",
       "      <th>vicprice</th>\n",
       "      <th>vicdemand</th>\n",
       "      <th>transfer</th>\n",
       "      <th>class</th>\n",
       "    </tr>\n",
       "  </thead>\n",
       "  <tbody>\n",
       "    <tr>\n",
       "      <th>0</th>\n",
       "      <td>0.0000</td>\n",
       "      <td>2</td>\n",
       "      <td>0.000000</td>\n",
       "      <td>0.056443</td>\n",
       "      <td>0.439155</td>\n",
       "      <td>0.003467</td>\n",
       "      <td>0.422915</td>\n",
       "      <td>0.414912</td>\n",
       "      <td>UP</td>\n",
       "    </tr>\n",
       "    <tr>\n",
       "      <th>1</th>\n",
       "      <td>0.0000</td>\n",
       "      <td>2</td>\n",
       "      <td>0.021277</td>\n",
       "      <td>0.051699</td>\n",
       "      <td>0.415055</td>\n",
       "      <td>0.003467</td>\n",
       "      <td>0.422915</td>\n",
       "      <td>0.414912</td>\n",
       "      <td>UP</td>\n",
       "    </tr>\n",
       "    <tr>\n",
       "      <th>2</th>\n",
       "      <td>0.0000</td>\n",
       "      <td>2</td>\n",
       "      <td>0.042553</td>\n",
       "      <td>0.051489</td>\n",
       "      <td>0.385004</td>\n",
       "      <td>0.003467</td>\n",
       "      <td>0.422915</td>\n",
       "      <td>0.414912</td>\n",
       "      <td>UP</td>\n",
       "    </tr>\n",
       "    <tr>\n",
       "      <th>3</th>\n",
       "      <td>0.0000</td>\n",
       "      <td>2</td>\n",
       "      <td>0.063830</td>\n",
       "      <td>0.045485</td>\n",
       "      <td>0.314639</td>\n",
       "      <td>0.003467</td>\n",
       "      <td>0.422915</td>\n",
       "      <td>0.414912</td>\n",
       "      <td>UP</td>\n",
       "    </tr>\n",
       "    <tr>\n",
       "      <th>4</th>\n",
       "      <td>0.0000</td>\n",
       "      <td>2</td>\n",
       "      <td>0.085106</td>\n",
       "      <td>0.042482</td>\n",
       "      <td>0.251116</td>\n",
       "      <td>0.003467</td>\n",
       "      <td>0.422915</td>\n",
       "      <td>0.414912</td>\n",
       "      <td>DOWN</td>\n",
       "    </tr>\n",
       "    <tr>\n",
       "      <th>...</th>\n",
       "      <td>...</td>\n",
       "      <td>...</td>\n",
       "      <td>...</td>\n",
       "      <td>...</td>\n",
       "      <td>...</td>\n",
       "      <td>...</td>\n",
       "      <td>...</td>\n",
       "      <td>...</td>\n",
       "      <td>...</td>\n",
       "    </tr>\n",
       "    <tr>\n",
       "      <th>45307</th>\n",
       "      <td>0.9158</td>\n",
       "      <td>7</td>\n",
       "      <td>0.914894</td>\n",
       "      <td>0.044224</td>\n",
       "      <td>0.340672</td>\n",
       "      <td>0.003033</td>\n",
       "      <td>0.255049</td>\n",
       "      <td>0.405263</td>\n",
       "      <td>DOWN</td>\n",
       "    </tr>\n",
       "    <tr>\n",
       "      <th>45308</th>\n",
       "      <td>0.9158</td>\n",
       "      <td>7</td>\n",
       "      <td>0.936170</td>\n",
       "      <td>0.044884</td>\n",
       "      <td>0.355549</td>\n",
       "      <td>0.003072</td>\n",
       "      <td>0.241326</td>\n",
       "      <td>0.420614</td>\n",
       "      <td>DOWN</td>\n",
       "    </tr>\n",
       "    <tr>\n",
       "      <th>45309</th>\n",
       "      <td>0.9158</td>\n",
       "      <td>7</td>\n",
       "      <td>0.957447</td>\n",
       "      <td>0.043593</td>\n",
       "      <td>0.340970</td>\n",
       "      <td>0.002983</td>\n",
       "      <td>0.247799</td>\n",
       "      <td>0.362281</td>\n",
       "      <td>DOWN</td>\n",
       "    </tr>\n",
       "    <tr>\n",
       "      <th>45310</th>\n",
       "      <td>0.9158</td>\n",
       "      <td>7</td>\n",
       "      <td>0.978723</td>\n",
       "      <td>0.066651</td>\n",
       "      <td>0.329366</td>\n",
       "      <td>0.004630</td>\n",
       "      <td>0.345417</td>\n",
       "      <td>0.206579</td>\n",
       "      <td>UP</td>\n",
       "    </tr>\n",
       "    <tr>\n",
       "      <th>45311</th>\n",
       "      <td>0.9158</td>\n",
       "      <td>7</td>\n",
       "      <td>1.000000</td>\n",
       "      <td>0.050679</td>\n",
       "      <td>0.288753</td>\n",
       "      <td>0.003542</td>\n",
       "      <td>0.355256</td>\n",
       "      <td>0.231140</td>\n",
       "      <td>DOWN</td>\n",
       "    </tr>\n",
       "  </tbody>\n",
       "</table>\n",
       "<p>45312 rows × 9 columns</p>\n",
       "</div>"
      ],
      "text/plain": [
       "         date day    period  nswprice  nswdemand  vicprice  vicdemand  \\\n",
       "0      0.0000   2  0.000000  0.056443   0.439155  0.003467   0.422915   \n",
       "1      0.0000   2  0.021277  0.051699   0.415055  0.003467   0.422915   \n",
       "2      0.0000   2  0.042553  0.051489   0.385004  0.003467   0.422915   \n",
       "3      0.0000   2  0.063830  0.045485   0.314639  0.003467   0.422915   \n",
       "4      0.0000   2  0.085106  0.042482   0.251116  0.003467   0.422915   \n",
       "...       ...  ..       ...       ...        ...       ...        ...   \n",
       "45307  0.9158   7  0.914894  0.044224   0.340672  0.003033   0.255049   \n",
       "45308  0.9158   7  0.936170  0.044884   0.355549  0.003072   0.241326   \n",
       "45309  0.9158   7  0.957447  0.043593   0.340970  0.002983   0.247799   \n",
       "45310  0.9158   7  0.978723  0.066651   0.329366  0.004630   0.345417   \n",
       "45311  0.9158   7  1.000000  0.050679   0.288753  0.003542   0.355256   \n",
       "\n",
       "       transfer class  \n",
       "0      0.414912    UP  \n",
       "1      0.414912    UP  \n",
       "2      0.414912    UP  \n",
       "3      0.414912    UP  \n",
       "4      0.414912  DOWN  \n",
       "...         ...   ...  \n",
       "45307  0.405263  DOWN  \n",
       "45308  0.420614  DOWN  \n",
       "45309  0.362281  DOWN  \n",
       "45310  0.206579    UP  \n",
       "45311  0.231140  DOWN  \n",
       "\n",
       "[45312 rows x 9 columns]"
      ]
     },
     "execution_count": 25,
     "metadata": {},
     "output_type": "execute_result"
    }
   ],
   "source": [
    "for col in df.select_dtypes([object]):\n",
    "    df[col] = df[col].str.decode(\"utf-8\")\n",
    "\n",
    "df"
   ]
  },
  {
   "cell_type": "markdown",
   "metadata": {},
   "source": [
    "## 1. Seleção dos Dados\n"
   ]
  },
  {
   "cell_type": "markdown",
   "metadata": {},
   "source": [
    "Como vimos na etapa CRISP anterior, alguns dos dados não apresentaram valores reais e foram preenchidos utilizando a média, como nas features **vicdemand**, **vicprice** e **transfer**, cujos dados reais começam apenas após o primeiro ano. Isso pode ser observado nas imagens abaixo, que ilustram a variação de algumas dessas variáveis ao longo do tempo."
   ]
  },
  {
   "cell_type": "markdown",
   "metadata": {},
   "source": [
    "![Gráfico](../images/transfer.png)"
   ]
  },
  {
   "cell_type": "markdown",
   "metadata": {},
   "source": [
    "![Gráfico](../images/vicdemand.png)"
   ]
  },
  {
   "cell_type": "markdown",
   "metadata": {},
   "source": [
    "![Gráfico](../images/vcprice.png)"
   ]
  },
  {
   "cell_type": "markdown",
   "metadata": {},
   "source": [
    "Essa característica do conjunto de dados pode impactar diretamente a modelagem preditiva, pois períodos preenchidos com valores artificiais podem introduzir padrões artificiais, afetando a capacidade de generalização dos modelos."
   ]
  },
  {
   "cell_type": "markdown",
   "metadata": {},
   "source": [
    "Com isso, optamos em selecionar apenas os dados que houve uma medição real para a próxima fase, a fim de garantir um treinamento com dados mais próximo dos acontecimentos reais."
   ]
  },
  {
   "cell_type": "markdown",
   "metadata": {},
   "source": [
    "Para a realizar esse filtro, verificamos até quando o valor de vicprice não variava, assim na primeira vez que ele deixou de possui o valor 0.003467, indicava que ele teve uma medição real. Esse comportamento ocorreu no dia 363, aproximadamente um ano após o início da coleta."
   ]
  },
  {
   "cell_type": "code",
   "execution_count": 26,
   "metadata": {},
   "outputs": [
    {
     "data": {
      "text/plain": [
       "date         0.442326\n",
       "day                 1\n",
       "period            0.0\n",
       "nswprice     0.046325\n",
       "nswdemand    0.298274\n",
       "vicprice     0.003232\n",
       "vicdemand    0.296737\n",
       "transfer     0.500526\n",
       "class            DOWN\n",
       "Name: 17424, dtype: object"
      ]
     },
     "execution_count": 26,
     "metadata": {},
     "output_type": "execute_result"
    }
   ],
   "source": [
    "# Encontrar o último valor sem medições\n",
    "df.loc[df['vicprice'] != 0.003467].iloc[0]"
   ]
  },
  {
   "cell_type": "code",
   "execution_count": 27,
   "metadata": {},
   "outputs": [
    {
     "data": {
      "text/html": [
       "<div>\n",
       "<style scoped>\n",
       "    .dataframe tbody tr th:only-of-type {\n",
       "        vertical-align: middle;\n",
       "    }\n",
       "\n",
       "    .dataframe tbody tr th {\n",
       "        vertical-align: top;\n",
       "    }\n",
       "\n",
       "    .dataframe thead th {\n",
       "        text-align: right;\n",
       "    }\n",
       "</style>\n",
       "<table border=\"1\" class=\"dataframe\">\n",
       "  <thead>\n",
       "    <tr style=\"text-align: right;\">\n",
       "      <th></th>\n",
       "      <th>date</th>\n",
       "      <th>day</th>\n",
       "      <th>period</th>\n",
       "      <th>nswprice</th>\n",
       "      <th>nswdemand</th>\n",
       "      <th>vicprice</th>\n",
       "      <th>vicdemand</th>\n",
       "      <th>transfer</th>\n",
       "      <th>class</th>\n",
       "    </tr>\n",
       "  </thead>\n",
       "  <tbody>\n",
       "    <tr>\n",
       "      <th>17424</th>\n",
       "      <td>0.442326</td>\n",
       "      <td>1</td>\n",
       "      <td>0.000000</td>\n",
       "      <td>0.046325</td>\n",
       "      <td>0.298274</td>\n",
       "      <td>0.003232</td>\n",
       "      <td>0.296737</td>\n",
       "      <td>0.500526</td>\n",
       "      <td>DOWN</td>\n",
       "    </tr>\n",
       "    <tr>\n",
       "      <th>17425</th>\n",
       "      <td>0.442326</td>\n",
       "      <td>1</td>\n",
       "      <td>0.021277</td>\n",
       "      <td>0.045485</td>\n",
       "      <td>0.253794</td>\n",
       "      <td>0.003145</td>\n",
       "      <td>0.268255</td>\n",
       "      <td>0.500526</td>\n",
       "      <td>DOWN</td>\n",
       "    </tr>\n",
       "    <tr>\n",
       "      <th>17426</th>\n",
       "      <td>0.442326</td>\n",
       "      <td>1</td>\n",
       "      <td>0.042553</td>\n",
       "      <td>0.047316</td>\n",
       "      <td>0.231032</td>\n",
       "      <td>0.002910</td>\n",
       "      <td>0.306577</td>\n",
       "      <td>0.500526</td>\n",
       "      <td>DOWN</td>\n",
       "    </tr>\n",
       "    <tr>\n",
       "      <th>17427</th>\n",
       "      <td>0.442326</td>\n",
       "      <td>1</td>\n",
       "      <td>0.063830</td>\n",
       "      <td>0.036658</td>\n",
       "      <td>0.183130</td>\n",
       "      <td>0.002956</td>\n",
       "      <td>0.271621</td>\n",
       "      <td>0.500526</td>\n",
       "      <td>DOWN</td>\n",
       "    </tr>\n",
       "    <tr>\n",
       "      <th>17428</th>\n",
       "      <td>0.442326</td>\n",
       "      <td>1</td>\n",
       "      <td>0.085106</td>\n",
       "      <td>0.041882</td>\n",
       "      <td>0.148319</td>\n",
       "      <td>0.002659</td>\n",
       "      <td>0.219834</td>\n",
       "      <td>0.500526</td>\n",
       "      <td>DOWN</td>\n",
       "    </tr>\n",
       "    <tr>\n",
       "      <th>...</th>\n",
       "      <td>...</td>\n",
       "      <td>...</td>\n",
       "      <td>...</td>\n",
       "      <td>...</td>\n",
       "      <td>...</td>\n",
       "      <td>...</td>\n",
       "      <td>...</td>\n",
       "      <td>...</td>\n",
       "      <td>...</td>\n",
       "    </tr>\n",
       "    <tr>\n",
       "      <th>45307</th>\n",
       "      <td>0.915800</td>\n",
       "      <td>7</td>\n",
       "      <td>0.914894</td>\n",
       "      <td>0.044224</td>\n",
       "      <td>0.340672</td>\n",
       "      <td>0.003033</td>\n",
       "      <td>0.255049</td>\n",
       "      <td>0.405263</td>\n",
       "      <td>DOWN</td>\n",
       "    </tr>\n",
       "    <tr>\n",
       "      <th>45308</th>\n",
       "      <td>0.915800</td>\n",
       "      <td>7</td>\n",
       "      <td>0.936170</td>\n",
       "      <td>0.044884</td>\n",
       "      <td>0.355549</td>\n",
       "      <td>0.003072</td>\n",
       "      <td>0.241326</td>\n",
       "      <td>0.420614</td>\n",
       "      <td>DOWN</td>\n",
       "    </tr>\n",
       "    <tr>\n",
       "      <th>45309</th>\n",
       "      <td>0.915800</td>\n",
       "      <td>7</td>\n",
       "      <td>0.957447</td>\n",
       "      <td>0.043593</td>\n",
       "      <td>0.340970</td>\n",
       "      <td>0.002983</td>\n",
       "      <td>0.247799</td>\n",
       "      <td>0.362281</td>\n",
       "      <td>DOWN</td>\n",
       "    </tr>\n",
       "    <tr>\n",
       "      <th>45310</th>\n",
       "      <td>0.915800</td>\n",
       "      <td>7</td>\n",
       "      <td>0.978723</td>\n",
       "      <td>0.066651</td>\n",
       "      <td>0.329366</td>\n",
       "      <td>0.004630</td>\n",
       "      <td>0.345417</td>\n",
       "      <td>0.206579</td>\n",
       "      <td>UP</td>\n",
       "    </tr>\n",
       "    <tr>\n",
       "      <th>45311</th>\n",
       "      <td>0.915800</td>\n",
       "      <td>7</td>\n",
       "      <td>1.000000</td>\n",
       "      <td>0.050679</td>\n",
       "      <td>0.288753</td>\n",
       "      <td>0.003542</td>\n",
       "      <td>0.355256</td>\n",
       "      <td>0.231140</td>\n",
       "      <td>DOWN</td>\n",
       "    </tr>\n",
       "  </tbody>\n",
       "</table>\n",
       "<p>27888 rows × 9 columns</p>\n",
       "</div>"
      ],
      "text/plain": [
       "           date day    period  nswprice  nswdemand  vicprice  vicdemand  \\\n",
       "17424  0.442326   1  0.000000  0.046325   0.298274  0.003232   0.296737   \n",
       "17425  0.442326   1  0.021277  0.045485   0.253794  0.003145   0.268255   \n",
       "17426  0.442326   1  0.042553  0.047316   0.231032  0.002910   0.306577   \n",
       "17427  0.442326   1  0.063830  0.036658   0.183130  0.002956   0.271621   \n",
       "17428  0.442326   1  0.085106  0.041882   0.148319  0.002659   0.219834   \n",
       "...         ...  ..       ...       ...        ...       ...        ...   \n",
       "45307  0.915800   7  0.914894  0.044224   0.340672  0.003033   0.255049   \n",
       "45308  0.915800   7  0.936170  0.044884   0.355549  0.003072   0.241326   \n",
       "45309  0.915800   7  0.957447  0.043593   0.340970  0.002983   0.247799   \n",
       "45310  0.915800   7  0.978723  0.066651   0.329366  0.004630   0.345417   \n",
       "45311  0.915800   7  1.000000  0.050679   0.288753  0.003542   0.355256   \n",
       "\n",
       "       transfer class  \n",
       "17424  0.500526  DOWN  \n",
       "17425  0.500526  DOWN  \n",
       "17426  0.500526  DOWN  \n",
       "17427  0.500526  DOWN  \n",
       "17428  0.500526  DOWN  \n",
       "...         ...   ...  \n",
       "45307  0.405263  DOWN  \n",
       "45308  0.420614  DOWN  \n",
       "45309  0.362281  DOWN  \n",
       "45310  0.206579    UP  \n",
       "45311  0.231140  DOWN  \n",
       "\n",
       "[27888 rows x 9 columns]"
      ]
     },
     "execution_count": 27,
     "metadata": {},
     "output_type": "execute_result"
    }
   ],
   "source": [
    "# Selecionar apenas os dados com medições reais (após o primeiro ano)\n",
    "df = df.iloc[17424:]\n",
    "df"
   ]
  },
  {
   "cell_type": "markdown",
   "metadata": {},
   "source": [
    "A seguir está a distribuição dessas variáveis após a seleção do período com medições reais:"
   ]
  },
  {
   "cell_type": "markdown",
   "metadata": {},
   "source": [
    "![gráfico](../images/transfer_pos.png)"
   ]
  },
  {
   "cell_type": "markdown",
   "metadata": {},
   "source": [
    "![Gráfico](../images/vicdemand_pos.png)"
   ]
  },
  {
   "cell_type": "markdown",
   "metadata": {},
   "source": [
    "![Gráfico](../images/vicprice_pos.png)"
   ]
  },
  {
   "cell_type": "markdown",
   "metadata": {},
   "source": [
    "Além disso, foi identificado que a normalização prévia dos dados, sem acesso aos valores originais, pode ter influenciado na distribuição das variáveis contínuas, dificultando a identificação de outliers e padrões reais."
   ]
  },
  {
   "cell_type": "markdown",
   "metadata": {},
   "source": [
    "Neste momento, optamos por testar os dados com os outliers presentes, dado que a quantidade é pequena e não parece ser um fator crítico. Caso observemos dificuldades nos resultados ou no desempenho dos modelos durante as etapas posteriores, reavaliamos a remoção desses outliers. Também não optamos por retirar nenhuma variável, mas queremos experimentar retirando as variáveis de Day e Date. O foco agora será na análise de como esses dados impactam a performance, sendo possível que ajustes sejam feitos posteriormente, dependendo dos resultados obtidos."
   ]
  },
  {
   "cell_type": "markdown",
   "metadata": {},
   "source": [
    "## 2. Limpeza dos Dados "
   ]
  },
  {
   "cell_type": "markdown",
   "metadata": {},
   "source": [
    "Assim como informado anteriormente, o dataset disponibilizado já está normalizado, o que dispensa a necessidade de realizar uma nova normalização. "
   ]
  },
  {
   "cell_type": "markdown",
   "metadata": {},
   "source": [
    "Além disso, é importante destacar que a remoção de outliers após a normalização pode não ser a abordagem mais recomendada, visto que a normalização se baseia nos valores do dataset, então os outliers que estão sendo removidos já podem ter interferido na distribuição dos dados."
   ]
  },
  {
   "cell_type": "markdown",
   "metadata": {},
   "source": [
    "Dessa forma, inicialmente, realizaremos testes com o conjunto de dados completo e, em etapas posteriores, avaliaremos o impacto da remoção de outliers, para verificar se essa prática pode melhorar os resultados para o problema em questão."
   ]
  },
  {
   "cell_type": "markdown",
   "metadata": {},
   "source": [
    "Além disso, é importante citar também que o dataset não possui nenhum valor ausente, diante disso não foi necessário utilizar técnicas de remoção ou preenchimento de valores ausentes durante o processo de preparação e limpeza dos dados."
   ]
  },
  {
   "cell_type": "markdown",
   "metadata": {},
   "source": [
    "## 3. Construção de Dados"
   ]
  },
  {
   "cell_type": "markdown",
   "metadata": {},
   "source": [
    "### 3.1 Atributos Derivados"
   ]
  },
  {
   "cell_type": "markdown",
   "metadata": {},
   "source": [
    "Tendo em vista que o dataset já está completo, para os testes iniciais, não será necessário criar novos atributos derivados. No entanto, considerando que se trata de uma base temporal, uma abordagem interessante a ser explorada em etapas futuras seria a criação de atributos baseados no comportamento da variável alvo nos dias anteriores.  "
   ]
  },
  {
   "cell_type": "markdown",
   "metadata": {},
   "source": [
    "A tendência de alta ou queda do preço na medição anterior pode ser um fator relevante na previsão do movimento de preço nos dias seguintes, e a inclusão dessa informação pode melhorar a acuracidade do modelo preditivo. Esse é um dos testes que queremos gerar nos modelos, a partir da base de dados gerada nesse relatório."
   ]
  },
  {
   "cell_type": "markdown",
   "metadata": {},
   "source": [
    "### 3.2 Registros Gerados"
   ]
  },
  {
   "cell_type": "markdown",
   "metadata": {},
   "source": [
    "Até o momento, nenhum registro foi gerado, devido à natureza do dataset utilizado. O conjunto de dados original não apresenta a necessidade de registros adicionais durante as etapas de preparação e pré-processamento, uma vez que ele já contém as informações necessárias para a execução dos modelos de machine learning e são informações advindas de coletas do mundo real. "
   ]
  },
  {
   "cell_type": "markdown",
   "metadata": {},
   "source": [
    "Além disso, a distribuição dos dados em relação a variável alvo no conjunto de treinamento não é tão desproporcional, por esse motivo na primeira etapa não vamos focar em balancear o dataset."
   ]
  },
  {
   "cell_type": "markdown",
   "metadata": {},
   "source": [
    "![DistribuiçãoClasseAlvo](../images/distribuicao_class.png)"
   ]
  },
  {
   "cell_type": "markdown",
   "metadata": {},
   "source": [
    "No entanto, em etapas futuras pode ser interessante utilizar técnicas de balanceamento no conjunto de treinamento, como um Random Oversampling, a fim de verificar se essa distribuição está impactando nos resultados obtidos (É importante ressaltar que a aplicação de técnicas de balanceamento devem ser feitas apenas no conjunto de treinamento, visto que os conjuntos de validação de de teste devem representar da distribuição real, que não será balanceada)."
   ]
  },
  {
   "cell_type": "markdown",
   "metadata": {},
   "source": [
    "## 4. Integração de Dados"
   ]
  },
  {
   "cell_type": "markdown",
   "metadata": {},
   "source": [
    "No momento da escrita desse relatório, não realizaremos nenhuma integração externa com o dataset, e não pretendemos também uma vez que ele o dataset já veio completo. "
   ]
  },
  {
   "cell_type": "markdown",
   "metadata": {},
   "source": [
    "## 5. Formatação de Dados"
   ]
  },
  {
   "cell_type": "markdown",
   "metadata": {},
   "source": [
    "Como discutido nos tópicos anteriores, não houve necessidade de formatação adicional nos dados, pois estes já estavam normalizados quando obtidos da fonte. Dessa forma, essa etapa não precisou ser executada durante o processo de preparação dos dados. "
   ]
  },
  {
   "cell_type": "markdown",
   "metadata": {},
   "source": [
    "No entanto, foi necessário realizar uma pequena alteração na estrutura dos dados da classe alvo, uma vez que estava no formato de texto e precisávamos convertê-la para formato numérico, para que ela pudesse ser utilizada nos modelos de machine learning. "
   ]
  },
  {
   "cell_type": "markdown",
   "metadata": {},
   "source": [
    "Assim, as variáveis associadas ao valor \"UP\" receberam o valor numérico 1, enquanto as associadas ao valor \"DOWN\" foram atribuídas com o valor 0. Gerando o seguinte data-frame."
   ]
  },
  {
   "cell_type": "markdown",
   "metadata": {},
   "source": [
    "Antes:"
   ]
  },
  {
   "cell_type": "markdown",
   "metadata": {},
   "source": [
    "![](../images/class_ant.png)"
   ]
  },
  {
   "cell_type": "markdown",
   "metadata": {},
   "source": [
    "Depois:"
   ]
  },
  {
   "cell_type": "markdown",
   "metadata": {},
   "source": [
    "![](../images/class_atu.png)"
   ]
  },
  {
   "cell_type": "markdown",
   "metadata": {},
   "source": [
    "### 5.1. Separação dos Dados"
   ]
  },
  {
   "cell_type": "markdown",
   "metadata": {},
   "source": [
    "Nesta fase, o dataset resultante das etapas anteriores foi dividido em três conjuntos: treinamento, validação e teste. O dataset foi particionado da seguinte forma: 65% dos dados foram destinados ao treinamento, 15% à validação e 20% ao teste. Conforme o formato abaixo:"
   ]
  },
  {
   "cell_type": "code",
   "execution_count": 28,
   "metadata": {},
   "outputs": [],
   "source": [
    "train_df, val_test_df = train_test_split(df, test_size=0.30, random_state=42)\n",
    "val_df, test_df = train_test_split(val_test_df, test_size=0.50, random_state=42)"
   ]
  },
  {
   "cell_type": "code",
   "execution_count": 29,
   "metadata": {},
   "outputs": [],
   "source": [
    "# Conjunto de treino\n",
    "X_train = train_df.drop('class', axis=1) \n",
    "Y_train = train_df['class']\n",
    "\n",
    "# Conjunto de validação\n",
    "X_val = val_df.drop('class', axis=1) \n",
    "Y_val = val_df['class']\n",
    "\n",
    "# Conjunto de teste\n",
    "X_test = test_df.drop('class', axis=1) \n",
    "Y_test = test_df['class']"
   ]
  },
  {
   "cell_type": "code",
   "execution_count": 30,
   "metadata": {},
   "outputs": [],
   "source": [
    "# Salvando os conjuntos de dados em arquivos CSV separadamente\n",
    "X_train.to_csv('../data/processed/X_train.csv', index=False)\n",
    "Y_train.to_csv('../data/processed/Y_train.csv', index=False)\n",
    "\n",
    "X_val.to_csv('../data/processed/X_val.csv', index=False)\n",
    "Y_val.to_csv('../data/processed/Y_val.csv', index=False)\n",
    "\n",
    "X_test.to_csv('../data/processed/X_test.csv', index=False)\n",
    "Y_test.to_csv('../data/processed/Y_test.csv', index=False)"
   ]
  },
  {
   "cell_type": "markdown",
   "metadata": {},
   "source": [
    "Após a divisão, os dados foram salvos em arquivos CSV, que serão utilizados nas etapas subsequentes do processo."
   ]
  }
 ],
 "metadata": {
  "kernelspec": {
   "display_name": "Python 3",
   "language": "python",
   "name": "python3"
  },
  "language_info": {
   "codemirror_mode": {
    "name": "ipython",
    "version": 3
   },
   "file_extension": ".py",
   "mimetype": "text/x-python",
   "name": "python",
   "nbconvert_exporter": "python",
   "pygments_lexer": "ipython3",
   "version": "3.12.9"
  }
 },
 "nbformat": 4,
 "nbformat_minor": 2
}
