{
  "cells": [
    {
      "cell_type": "code",
      "execution_count": null,
      "metadata": {},
      "outputs": [],
      "source": [
        "import warnings\n",
        "warnings.filterwarnings(\"ignore\")"
      ]
    },
    {
      "cell_type": "code",
      "execution_count": null,
      "metadata": {
        "id": "wGlMBPL4hWhv"
      },
      "outputs": [],
      "source": [
        "import pandas as pd\n",
        "import numpy as np\n",
        "import seaborn as sns\n",
        "import matplotlib.pyplot as plt\n",
        "from scipy.io import arff\n",
        "from sklearn.manifold import TSNE\n",
        "from sklearn.decomposition import PCA\n",
        "import umap"
      ]
    },
    {
      "cell_type": "code",
      "execution_count": null,
      "metadata": {
        "colab": {
          "base_uri": "https://localhost:8080/"
        },
        "id": "MzWe9r1agIH-",
        "outputId": "346fa87f-8c3e-49bc-89d0-1adf7e06d7f2"
      },
      "outputs": [],
      "source": [
        "#from google.colab import drive\n",
        "#drive.mount('/content/drive')"
      ]
    },
    {
      "cell_type": "markdown",
      "metadata": {
        "id": "zlE-8pPzhhdH"
      },
      "source": [
        "## 1. Coleta Inicial de Dados"
      ]
    },
    {
      "cell_type": "markdown",
      "metadata": {},
      "source": [
        "### Colab"
      ]
    },
    {
      "cell_type": "code",
      "execution_count": null,
      "metadata": {
        "id": "s1n-hhmMg3K5"
      },
      "outputs": [],
      "source": [
        "#file_path = \"/content/drive/MyDrive/SI5/electricity-normalized.arff\"\n",
        "#data, meta = arff.loadarff(file_path)\n",
        "\n",
        "#df = pd.DataFrame(data)"
      ]
    },
    {
      "cell_type": "markdown",
      "metadata": {},
      "source": [
        "### Local"
      ]
    },
    {
      "cell_type": "code",
      "execution_count": null,
      "metadata": {},
      "outputs": [],
      "source": [
        "file_path = \"data/raw/electricity-normalized.arff\"\n",
        "data, meta = arff.loadarff(file_path)\n",
        "\n",
        "df = pd.DataFrame(data)"
      ]
    },
    {
      "cell_type": "markdown",
      "metadata": {
        "id": "gUBgxN2dho0H"
      },
      "source": [
        "### Converter colunas categóricas de bytes para strings\n"
      ]
    },
    {
      "cell_type": "code",
      "execution_count": null,
      "metadata": {
        "id": "8ajjQ2_nhegl"
      },
      "outputs": [],
      "source": [
        "for col in df.select_dtypes([object]):\n",
        "    df[col] = df[col].str.decode(\"utf-8\")"
      ]
    },
    {
      "cell_type": "markdown",
      "metadata": {},
      "source": [
        "## 2. Descrição dos dados"
      ]
    },
    {
      "cell_type": "code",
      "execution_count": null,
      "metadata": {
        "colab": {
          "base_uri": "https://localhost:8080/"
        },
        "id": "B4UvfExPhxRW",
        "outputId": "02c24e5b-0313-42a9-88e7-a177d5d50078"
      },
      "outputs": [],
      "source": [
        "df.info()"
      ]
    },
    {
      "cell_type": "code",
      "execution_count": null,
      "metadata": {},
      "outputs": [],
      "source": [
        "df['class'] = df['class'].apply(lambda val: 1 if val == 'UP' else 0)"
      ]
    },
    {
      "cell_type": "code",
      "execution_count": null,
      "metadata": {
        "colab": {
          "base_uri": "https://localhost:8080/",
          "height": 300
        },
        "id": "i56ImOxphzv3",
        "outputId": "f61a5ddd-4a23-45d1-c01f-538deefe6d65"
      },
      "outputs": [],
      "source": [
        "df.describe()"
      ]
    },
    {
      "cell_type": "code",
      "execution_count": null,
      "metadata": {
        "colab": {
          "base_uri": "https://localhost:8080/",
          "height": 366
        },
        "id": "NzAxqnvTh-Vs",
        "outputId": "b434d7d7-f57b-45f7-a62e-90d3548c90c2"
      },
      "outputs": [],
      "source": [
        "df.isnull().sum()"
      ]
    },
    {
      "cell_type": "markdown",
      "metadata": {
        "id": "FSt4kmO1iCAC"
      },
      "source": [
        "## 3. Exploração dos dados Data"
      ]
    },
    {
      "cell_type": "markdown",
      "metadata": {},
      "source": [
        "### Identificando Outliers"
      ]
    },
    {
      "cell_type": "code",
      "execution_count": null,
      "metadata": {
        "id": "6tru6GlKkISK"
      },
      "outputs": [],
      "source": [
        "# Filtra apenas as colunas numéricas\n",
        "numerical_cols = df.select_dtypes(include=['float64', 'int64']).columns\n",
        "\n",
        "# Calcula Q1, Q3 e IQR para cada coluna numérica\n",
        "Q1 = df[numerical_cols].quantile(0.25)\n",
        "Q3 = df[numerical_cols].quantile(0.75)\n",
        "IQR = Q3 - Q1\n",
        "\n",
        "# Detecta outliers\n",
        "outliers = ((df[numerical_cols] < (Q1 - 1.5 * IQR)) | (df[numerical_cols] > (Q3 + 1.5 * IQR))).sum()\n",
        "outliers"
      ]
    },
    {
      "cell_type": "code",
      "execution_count": null,
      "metadata": {
        "colab": {
          "base_uri": "https://localhost:8080/",
          "height": 615
        },
        "id": "jZZ7rCwViGYo",
        "outputId": "a4d3d721-4442-4f11-b04e-265ea80b7879"
      },
      "outputs": [],
      "source": [
        "plt.figure(figsize=(12, 6))\n",
        "sns.boxplot(data=df)\n",
        "plt.title(\"Boxplot das Variáveis Contínuas\")\n",
        "plt.xticks(rotation=90)\n",
        "plt.show()"
      ]
    },
    {
      "cell_type": "code",
      "execution_count": null,
      "metadata": {},
      "outputs": [],
      "source": [
        "categorical_columns = df.select_dtypes(include=[object]).columns\n",
        "categorical_columns"
      ]
    },
    {
      "cell_type": "markdown",
      "metadata": {},
      "source": [
        "### Distribuição da Classe Alvo"
      ]
    },
    {
      "cell_type": "code",
      "execution_count": null,
      "metadata": {
        "colab": {
          "base_uri": "https://localhost:8080/",
          "height": 410
        },
        "id": "U0PwMofBicH5",
        "outputId": "afe04495-1dbe-498e-9ebb-e001486c1aae"
      },
      "outputs": [],
      "source": [
        "plt.figure(figsize=(6, 4))\n",
        "sns.countplot(x=df['class'])\n",
        "plt.title(\"Distribuição da Classe Alvo\")\n",
        "plt.show()"
      ]
    },
    {
      "cell_type": "markdown",
      "metadata": {
        "id": "DXQFBYFYifWq"
      },
      "source": [
        "### Distribuição das variáveis categóricas\n"
      ]
    },
    {
      "cell_type": "code",
      "execution_count": null,
      "metadata": {
        "colab": {
          "base_uri": "https://localhost:8080/",
          "height": 1000
        },
        "id": "363DMY1uiekr",
        "outputId": "b772580d-b1b2-41ff-8aad-266f3ce488e2"
      },
      "outputs": [],
      "source": [
        "for col in categorical_columns:\n",
        "    plt.figure(figsize=(6, 6))\n",
        "    df[col].value_counts().plot.pie(autopct='%1.1f%%')\n",
        "    plt.title(f\"Distribuição da Variável Categórica: {col}\")\n",
        "    plt.ylabel('')\n",
        "    plt.show()"
      ]
    },
    {
      "cell_type": "markdown",
      "metadata": {
        "id": "g1DlZEwsijo0"
      },
      "source": [
        "### Histogramas para variáveis contínuas\n"
      ]
    },
    {
      "cell_type": "code",
      "execution_count": null,
      "metadata": {
        "colab": {
          "base_uri": "https://localhost:8080/",
          "height": 930
        },
        "id": "GAjrzIeLikPT",
        "outputId": "f03d79b2-2784-4909-c3a3-89982d860920"
      },
      "outputs": [],
      "source": [
        "df.hist(bins=30, figsize=(15, 10))\n",
        "plt.suptitle(\"Histogramas das Variáveis Contínuas\")\n",
        "plt.show()"
      ]
    },
    {
      "cell_type": "markdown",
      "metadata": {
        "id": "_rcO9j4ZilsV"
      },
      "source": [
        "### Gráficos comparativos para distribuição dos dados entre as diferentes classes\n"
      ]
    },
    {
      "cell_type": "code",
      "execution_count": null,
      "metadata": {
        "colab": {
          "base_uri": "https://localhost:8080/",
          "height": 1000
        },
        "id": "Z2ZJ_QANimxu",
        "outputId": "dfca8499-7add-4021-e349-d9c8afe2fa04"
      },
      "outputs": [],
      "source": [
        "for col in df.select_dtypes(include=[np.number]).columns:\n",
        "    plt.figure(figsize=(6, 4))\n",
        "    sns.boxplot(x=df['class'], y=df[col])\n",
        "    plt.title(f\"Distribuição da Variável {col} entre as Classes\")\n",
        "    plt.show()"
      ]
    },
    {
      "cell_type": "markdown",
      "metadata": {},
      "source": [
        "## 4. Verificação da qualidade dos dados"
      ]
    },
    {
      "cell_type": "markdown",
      "metadata": {},
      "source": [
        "### Matriz de Correlação"
      ]
    },
    {
      "cell_type": "code",
      "execution_count": null,
      "metadata": {},
      "outputs": [],
      "source": [
        "corr = df.corr().iloc[::-1, ::-1]\n",
        "\n",
        "fig, ax = plt.subplots(figsize=(8, 6))\n",
        "cax = ax.matshow(corr, cmap='coolwarm', vmin=-1, vmax=1)\n",
        "\n",
        "fig.colorbar(cax)\n",
        "\n",
        "for (i, j), val in np.ndenumerate(corr):\n",
        "    ax.text(j, i, f\"{val:.2f}\", ha='center', va='center', color='black')\n",
        "\n",
        "\n",
        "ax.set_xticks(range(len(corr.columns)))\n",
        "ax.set_yticks(range(len(corr.columns)))\n",
        "ax.set_xticklabels(corr.columns)\n",
        "ax.set_yticklabels(corr.columns)\n",
        "\n",
        "plt.xticks(rotation=90)\n",
        "\n",
        "plt.title(\"Matriz de Correlação\", pad=20)\n",
        "plt.show()"
      ]
    },
    {
      "cell_type": "markdown",
      "metadata": {},
      "source": [
        "### Redução de Dimensionalidade"
      ]
    },
    {
      "cell_type": "code",
      "execution_count": null,
      "metadata": {},
      "outputs": [],
      "source": [
        "list_features = ['nswprice', 'nswdemand', 'vicprice', 'vicdemand', 'transfer']"
      ]
    },
    {
      "cell_type": "code",
      "execution_count": null,
      "metadata": {},
      "outputs": [],
      "source": [
        "for variavel in list_features:\n",
        "    precos_maximos_diarios = []\n",
        "    medicoes_por_dia = 48\n",
        "    \n",
        "    for i in range(0, len(df), medicoes_por_dia):\n",
        "        max_diario = df[variavel][i:i+medicoes_por_dia].max()\n",
        "        precos_maximos_diarios.append(max_diario)\n",
        "\n",
        "\n",
        "    dias = np.arange(len(precos_maximos_diarios))\n",
        "\n",
        "    # Criar o gráfico de dispersão\n",
        "    plt.figure(figsize=(20, 5))\n",
        "    plt.scatter(dias, precos_maximos_diarios, color='b', label='Preço Máximo Diário', s=10)\n",
        "\n",
        "    # Label do gráfico\n",
        "    plt.xlabel('Dias')\n",
        "    plt.ylabel('Preço Máximo')\n",
        "    plt.title(f'Variação da {variavel} Máxima Diária ao Longo do Tempo')\n",
        "\n",
        "    plt.xticks(rotation=45)\n",
        "    plt.xlim(min(dias), max(dias))\n",
        "    plt.legend()\n",
        "    plt.grid()\n",
        "    plt.show()"
      ]
    },
    {
      "cell_type": "markdown",
      "metadata": {},
      "source": [
        "### Box Plot de demanda, valores e transfer ao longo pelos dias da semana"
      ]
    },
    {
      "cell_type": "code",
      "execution_count": null,
      "metadata": {},
      "outputs": [],
      "source": [
        "for col in list_features:\n",
        "    plt.figure(figsize=(6, 4))\n",
        "    sns.boxplot(x=sorted(df['day']), y=df[col])\n",
        "    plt.title(f\"Distribuição da Variável {col} entre as Classes\")\n",
        "    plt.show()"
      ]
    },
    {
      "cell_type": "markdown",
      "metadata": {},
      "source": [
        "### Redução de Dimensionalidade"
      ]
    },
    {
      "cell_type": "code",
      "execution_count": null,
      "metadata": {},
      "outputs": [],
      "source": [
        "df['class'] = df['class'].replace({'UP': 1, 'DOWN': 0})\n",
        "Y_df = df['class']\n",
        "X_df = df.drop(columns=['class'])"
      ]
    },
    {
      "cell_type": "markdown",
      "metadata": {},
      "source": [
        "### t-SNE"
      ]
    },
    {
      "cell_type": "code",
      "execution_count": null,
      "metadata": {
        "id": "UT5afr123g3W"
      },
      "outputs": [],
      "source": [
        "tsne_2d = TSNE(n_components=2, random_state=42)\n",
        "X_tsne = tsne_2d.fit_transform(X_df)"
      ]
    },
    {
      "cell_type": "code",
      "execution_count": null,
      "metadata": {},
      "outputs": [],
      "source": [
        "plt.figure(figsize=(8,6))\n",
        "plt.scatter(X_tsne[:, 0], X_tsne[:, 1], c=Y_df, cmap='viridis', s=50)\n",
        "plt.colorbar()\n",
        "plt.title(\"Visualização t-SNE dos dados ELEC2\")\n",
        "plt.xlabel(\"Componente 1\")\n",
        "plt.ylabel(\"Componente 2\")\n",
        "plt.show()"
      ]
    },
    {
      "cell_type": "code",
      "execution_count": null,
      "metadata": {},
      "outputs": [],
      "source": [
        "tsne_3d = TSNE(n_components=3, random_state=42)\n",
        "X_tsne = tsne_3d.fit_transform(X_df)"
      ]
    },
    {
      "cell_type": "code",
      "execution_count": null,
      "metadata": {},
      "outputs": [],
      "source": [
        "fig = plt.figure(figsize=(10, 8))\n",
        "ax = fig.add_subplot(111, projection='3d')\n",
        "scatter = ax.scatter(X_tsne[:, 0], X_tsne[:, 1], X_tsne[:, 2], c=Y_df, cmap='viridis', s=50)\n",
        "fig.colorbar(scatter)\n",
        "ax.set_title(\"Visualização t-SNE dos dados ELEC2 (3D)\")\n",
        "ax.set_xlabel(\"Componente 1\")\n",
        "ax.set_ylabel(\"Componente 2\")\n",
        "ax.set_zlabel(\"Componente 3\")\n",
        "plt.show()"
      ]
    },
    {
      "cell_type": "markdown",
      "metadata": {},
      "source": [
        "### UMAP"
      ]
    },
    {
      "cell_type": "code",
      "execution_count": null,
      "metadata": {},
      "outputs": [],
      "source": [
        "umap_2d = umap.UMAP(n_components=2, random_state=42)\n",
        "X_umap = umap_2d.fit_transform(X_df)"
      ]
    },
    {
      "cell_type": "code",
      "execution_count": null,
      "metadata": {},
      "outputs": [],
      "source": [
        "# Plotando os dados reduzidos com t-SNE\n",
        "plt.figure(figsize=(8,6))\n",
        "plt.scatter(X_umap[:, 0], X_umap[:, 1], c=Y_df, cmap='viridis', s=50)\n",
        "plt.colorbar()\n",
        "plt.title(\"Visualização UMAP dos dados ELEC2\")\n",
        "plt.xlabel(\"Componente 1\")\n",
        "plt.ylabel(\"Componente 2\")\n",
        "plt.show()"
      ]
    },
    {
      "cell_type": "code",
      "execution_count": null,
      "metadata": {},
      "outputs": [],
      "source": [
        "umap_3d = umap.UMAP(n_components=3, random_state=42)\n",
        "X_umap = umap_3d.fit_transform(X_df)"
      ]
    },
    {
      "cell_type": "code",
      "execution_count": null,
      "metadata": {},
      "outputs": [],
      "source": [
        "fig = plt.figure(figsize=(10, 8))\n",
        "ax = fig.add_subplot(111, projection='3d')\n",
        "scatter = ax.scatter(X_umap[:, 0], X_umap[:, 1], X_umap[:, 2], c=Y_df, cmap='viridis', s=50)\n",
        "fig.colorbar(scatter)\n",
        "ax.set_title(\"Visualização UMAP dos dados ELEC2 (3D)\")\n",
        "ax.set_xlabel(\"Componente 1\")\n",
        "ax.set_ylabel(\"Componente 2\")\n",
        "ax.set_zlabel(\"Componente 3\")\n",
        "plt.show()"
      ]
    },
    {
      "cell_type": "markdown",
      "metadata": {},
      "source": [
        "### PCA"
      ]
    },
    {
      "cell_type": "code",
      "execution_count": null,
      "metadata": {},
      "outputs": [],
      "source": [
        "pca_2d = PCA(n_components=2)\n",
        "X_pca = pca_2d.fit_transform(X_df)"
      ]
    },
    {
      "cell_type": "code",
      "execution_count": null,
      "metadata": {},
      "outputs": [],
      "source": [
        "plt.figure(figsize=(8,6))\n",
        "plt.scatter(X_pca[:, 0], X_pca[:, 1], c=Y_df, cmap='viridis')\n",
        "plt.xlabel('Primeiro Componente Principal')\n",
        "plt.ylabel('Segundo Componente Principal')\n",
        "plt.title('Visualização PCA dos dados ELEC2')\n",
        "plt.colorbar(label='Classes')\n",
        "plt.show()"
      ]
    },
    {
      "cell_type": "code",
      "execution_count": null,
      "metadata": {},
      "outputs": [],
      "source": [
        "pca_3d = PCA(n_components=3)\n",
        "X_pca = pca_3d.fit_transform(X_df)"
      ]
    },
    {
      "cell_type": "code",
      "execution_count": null,
      "metadata": {},
      "outputs": [],
      "source": [
        "fig = plt.figure(figsize=(10, 8))\n",
        "ax = fig.add_subplot(111, projection='3d')\n",
        "scatter = ax.scatter(X_pca[:, 0], X_pca[:, 1], X_pca[:, 2], c=Y_df, cmap='viridis', s=50)\n",
        "fig.colorbar(scatter)\n",
        "ax.set_title(\"Visualização PCA dos dados ELEC2 (3D)\")\n",
        "ax.set_xlabel(\"Componente 1\")\n",
        "ax.set_ylabel(\"Componente 2\")\n",
        "ax.set_zlabel(\"Componente 3\")\n",
        "plt.show()"
      ]
    }
  ],
  "metadata": {
    "colab": {
      "provenance": []
    },
    "kernelspec": {
      "display_name": "Python 3",
      "language": "python",
      "name": "python3"
    },
    "language_info": {
      "codemirror_mode": {
        "name": "ipython",
        "version": 3
      },
      "file_extension": ".py",
      "mimetype": "text/x-python",
      "name": "python",
      "nbconvert_exporter": "python",
      "pygments_lexer": "ipython3",
      "version": "3.12.9"
    }
  },
  "nbformat": 4,
  "nbformat_minor": 0
}
